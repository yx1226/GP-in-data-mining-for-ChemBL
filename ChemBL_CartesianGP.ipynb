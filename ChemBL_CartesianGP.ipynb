{
  "nbformat": 4,
  "nbformat_minor": 0,
  "metadata": {
    "colab": {
      "name": "ChemBL_CartesianGP.ipynb",
      "provenance": [],
      "collapsed_sections": [
        "mk5VebmWRyox",
        "F9u_cT2nZrqJ"
      ],
      "authorship_tag": "ABX9TyOfSIwUy2EkT5meU+3TgFSy",
      "include_colab_link": true
    },
    "kernelspec": {
      "name": "python3",
      "display_name": "Python 3"
    }
  },
  "cells": [
    {
      "cell_type": "markdown",
      "metadata": {
        "id": "view-in-github",
        "colab_type": "text"
      },
      "source": [
        "<a href=\"https://colab.research.google.com/github/yx1226/GP-in-data-mining-for-ChemBL/blob/main/ChemBL_CartesianGP.ipynb\" target=\"_parent\"><img src=\"https://colab.research.google.com/assets/colab-badge.svg\" alt=\"Open In Colab\"/></a>"
      ]
    },
    {
      "cell_type": "markdown",
      "metadata": {
        "id": "YfacqKv1hbC5"
      },
      "source": [
        "# Library and tool installation"
      ]
    },
    {
      "cell_type": "code",
      "metadata": {
        "id": "T_bQKhbzhVMW",
        "colab": {
          "base_uri": "https://localhost:8080/"
        },
        "outputId": "db429601-149f-4aad-fccd-59c44508a0cf"
      },
      "source": [
        "#Install any module\n",
        "# !pip install PyDrive \n",
        "!pip install deap # GP Library\n",
        "!pip install gplearn \n",
        "\n",
        "!wget -c https://repo.continuum.io/miniconda/Miniconda3-py37_4.8.3-Linux-x86_64.sh\n",
        "!chmod +x Miniconda3-py37_4.8.3-Linux-x86_64.sh\n",
        "!time bash ./Miniconda3-py37_4.8.3-Linux-x86_64.sh -b -f -p /usr/local\n",
        "!time conda install -q -y -c conda-forge rdkit\n",
        "\n",
        "!pip install rdkit\n",
        "!pip install mordred\n",
        "!pip install catboost"
      ],
      "execution_count": null,
      "outputs": [
        {
          "output_type": "stream",
          "text": [
            "Collecting deap\n",
            "\u001b[?25l  Downloading https://files.pythonhosted.org/packages/0a/eb/2bd0a32e3ce757fb26264765abbaedd6d4d3640d90219a513aeabd08ee2b/deap-1.3.1-cp36-cp36m-manylinux2010_x86_64.whl (157kB)\n",
            "\r\u001b[K     |██                              | 10kB 18.8MB/s eta 0:00:01\r\u001b[K     |████▏                           | 20kB 26.1MB/s eta 0:00:01\r\u001b[K     |██████▎                         | 30kB 14.6MB/s eta 0:00:01\r\u001b[K     |████████▍                       | 40kB 15.0MB/s eta 0:00:01\r\u001b[K     |██████████▍                     | 51kB 15.0MB/s eta 0:00:01\r\u001b[K     |████████████▌                   | 61kB 17.1MB/s eta 0:00:01\r\u001b[K     |██████████████▋                 | 71kB 11.6MB/s eta 0:00:01\r\u001b[K     |████████████████▊               | 81kB 12.7MB/s eta 0:00:01\r\u001b[K     |██████████████████▊             | 92kB 12.9MB/s eta 0:00:01\r\u001b[K     |████████████████████▉           | 102kB 13.0MB/s eta 0:00:01\r\u001b[K     |███████████████████████         | 112kB 13.0MB/s eta 0:00:01\r\u001b[K     |█████████████████████████       | 122kB 13.0MB/s eta 0:00:01\r\u001b[K     |███████████████████████████▏    | 133kB 13.0MB/s eta 0:00:01\r\u001b[K     |█████████████████████████████▏  | 143kB 13.0MB/s eta 0:00:01\r\u001b[K     |███████████████████████████████▎| 153kB 13.0MB/s eta 0:00:01\r\u001b[K     |████████████████████████████████| 163kB 13.0MB/s \n",
            "\u001b[?25hRequirement already satisfied: numpy in /usr/local/lib/python3.6/dist-packages (from deap) (1.19.5)\n",
            "Installing collected packages: deap\n",
            "Successfully installed deap-1.3.1\n"
          ],
          "name": "stdout"
        }
      ]
    },
    {
      "cell_type": "markdown",
      "metadata": {
        "id": "rGtWS-xAhqjS"
      },
      "source": [
        "# Data Preprocessing and Transformation\r\n",
        "\r\n"
      ]
    },
    {
      "cell_type": "markdown",
      "metadata": {
        "id": "is8ND83jiDKe"
      },
      "source": [
        ">Import all the dataset from the Google Drive"
      ]
    },
    {
      "cell_type": "code",
      "metadata": {
        "id": "t7VqxGzN-VdH"
      },
      "source": [
        "# Load the Drive helper and mount\r\n",
        "from google.colab import drive\r\n",
        "\r\n",
        "# This will prompt for authos# Load the Drive helper and mount\r\n",
        "from google.colab import drive\r\n",
        "\r\n",
        "# This will prompt for authoization.\r\n",
        "drive.mount('/content/drive', force_remount=True)\r\n",
        "\r\n",
        "# After executing the cell above, Drive\r\n",
        "# files will be present in \"/content/drive/My Drive\".\r\n",
        "!ls \"/content/drive/My Drive/ChemBL\""
      ],
      "execution_count": null,
      "outputs": []
    },
    {
      "cell_type": "code",
      "metadata": {
        "id": "0sNGJGaypWtL"
      },
      "source": [
        "import pandas as pd\n",
        "import numpy as np\n",
        "from glob import glob\n",
        "\n",
        "filenames = glob('/content/drive/My Drive/ChemBL/*.csv')\n",
        "dataframes = [pd.read_csv(f) for f in filenames]"
      ],
      "execution_count": null,
      "outputs": []
    },
    {
      "cell_type": "code",
      "metadata": {
        "id": "_kyXriGL1S0V",
        "colab": {
          "base_uri": "https://localhost:8080/"
        },
        "outputId": "64c66203-d032-4696-d716-bad301e89329"
      },
      "source": [
        "files = []\r\n",
        "\r\n",
        "# Get the filenames\r\n",
        "for filename in filenames:\r\n",
        "  files.append(filename)\r\n",
        "\r\n",
        "print(files)"
      ],
      "execution_count": null,
      "outputs": [
        {
          "output_type": "stream",
          "text": [
            "['/content/drive/My Drive/ChemBL/mmp.csv', '/content/drive/My Drive/ChemBL/at1.csv', '/content/drive/My Drive/ChemBL/mmp1.csv', '/content/drive/My Drive/ChemBL/pkc.csv', '/content/drive/My Drive/ChemBL/pde4.csv', '/content/drive/My Drive/ChemBL/5ht3.csv', '/content/drive/My Drive/ChemBL/cox.csv', '/content/drive/My Drive/ChemBL/ache.csv', '/content/drive/My Drive/ChemBL/fxa.csv', '/content/drive/My Drive/ChemBL/d2.csv', '/content/drive/My Drive/ChemBL/renin.csv', '/content/drive/My Drive/ChemBL/hivp.csv', '/content/drive/My Drive/ChemBL/subp.csv', '/content/drive/My Drive/ChemBL/thrm.csv', '/content/drive/My Drive/ChemBL/5ht1A.csv']\n"
          ],
          "name": "stdout"
        }
      ]
    },
    {
      "cell_type": "code",
      "metadata": {
        "id": "n7947luoGzze",
        "colab": {
          "base_uri": "https://localhost:8080/"
        },
        "outputId": "eb449489-8aa9-43dc-bbbf-9a50bdd63827"
      },
      "source": [
        "dataList = []\r\n",
        "\r\n",
        "for dataframe in dataframes:\r\n",
        "  #dataframe = pd.DataFrame(dataframe)\r\n",
        "  dataList.append(dataframe)\r\n",
        "  \r\n",
        "#print(dataList)"
      ],
      "execution_count": null,
      "outputs": [
        {
          "output_type": "stream",
          "text": [
            "[      Column1  ... CLASS_LABEL\n",
            "0        1483  ...           1\n",
            "1        1484  ...           1\n",
            "2        1514  ...           1\n",
            "3        1515  ...           1\n",
            "4        1548  ...           1\n",
            "...       ...  ...         ...\n",
            "3819  1584109  ...           0\n",
            "3820  1584114  ...           0\n",
            "3821  1590100  ...           0\n",
            "3822  1590111  ...           0\n",
            "3823  1590117  ...           0\n",
            "\n",
            "[3824 rows x 169 columns],      Column1  ... CLASS_LABEL\n",
            "0       2725  ...           1\n",
            "1       9926  ...           1\n",
            "2      32747  ...           1\n",
            "3      38798  ...           1\n",
            "4      38799  ...           1\n",
            "..       ...  ...         ...\n",
            "101    16308  ...           0\n",
            "102    16591  ...           0\n",
            "103    18694  ...           0\n",
            "104    18695  ...           0\n",
            "105    18834  ...           0\n",
            "\n",
            "[106 rows x 169 columns],      Column1  ... CLASS_LABEL\n",
            "0       1483  ...           1\n",
            "1       1484  ...           1\n",
            "2       1514  ...           1\n",
            "3       1515  ...           1\n",
            "4       1548  ...           1\n",
            "..       ...  ...         ...\n",
            "390  1559786  ...           0\n",
            "391  1559787  ...           0\n",
            "392  1559788  ...           0\n",
            "393  1559799  ...           0\n",
            "394  1559805  ...           0\n",
            "\n",
            "[395 rows x 169 columns],      Column1  ... CLASS_LABEL\n",
            "0        213  ...           1\n",
            "1       1054  ...           1\n",
            "2      75229  ...           1\n",
            "3      75857  ...           1\n",
            "4      76236  ...           1\n",
            "..       ...  ...         ...\n",
            "206  1058603  ...           0\n",
            "207  1058604  ...           0\n",
            "208  1058605  ...           0\n",
            "209  1058607  ...           0\n",
            "210  1168094  ...           0\n",
            "\n",
            "[211 rows x 169 columns],      Column1  ... CLASS_LABEL\n",
            "0       4872  ...           1\n",
            "1      21021  ...           1\n",
            "2      23745  ...           1\n",
            "3      48019  ...           1\n",
            "4      63401  ...           1\n",
            "..       ...  ...         ...\n",
            "251   578657  ...           0\n",
            "252   599751  ...           0\n",
            "253   600719  ...           0\n",
            "254   600720  ...           0\n",
            "255   600799  ...           0\n",
            "\n",
            "[256 rows x 169 columns],      Column1  ... CLASS_LABEL\n",
            "0       1186  ...           1\n",
            "1       2214  ...           1\n",
            "2       3183  ...           1\n",
            "3      13331  ...           1\n",
            "4      21258  ...           1\n",
            "..       ...  ...         ...\n",
            "208     4671  ...           0\n",
            "209     5925  ...           0\n",
            "210     5970  ...           0\n",
            "211     6216  ...           0\n",
            "212     6914  ...           0\n",
            "\n",
            "[213 rows x 169 columns],      Column1  ... CLASS_LABEL\n",
            "0        173  ...           1\n",
            "1       5080  ...           1\n",
            "2      10531  ...           1\n",
            "3      11674  ...           1\n",
            "4      13173  ...           1\n",
            "..       ...  ...         ...\n",
            "134     9492  ...           0\n",
            "135    14798  ...           0\n",
            "136    27251  ...           0\n",
            "137    27341  ...           0\n",
            "138    27639  ...           0\n",
            "\n",
            "[139 rows x 169 columns],      Column1  ... CLASS_LABEL\n",
            "0       1063  ...           1\n",
            "1       3765  ...           1\n",
            "2       5985  ...           1\n",
            "3       6914  ...           1\n",
            "4       9263  ...           1\n",
            "..       ...  ...         ...\n",
            "734    88800  ...           0\n",
            "735   110260  ...           0\n",
            "736   110358  ...           0\n",
            "737   111586  ...           0\n",
            "738  1590224  ...           0\n",
            "\n",
            "[739 rows x 169 columns],       Column1  ... MDLPublicKeys[166]\n",
            "0       22761  ...                  1\n",
            "1       53663  ...                  1\n",
            "2       67359  ...                  1\n",
            "3       67408  ...                  1\n",
            "4       74768  ...                  1\n",
            "...       ...  ...                ...\n",
            "1497  1576670  ...                  1\n",
            "1498  1576671  ...                  1\n",
            "1499  1587540  ...                  1\n",
            "1500  1587543  ...                  1\n",
            "1501  1587547  ...                  1\n",
            "\n",
            "[1502 rows x 168 columns],       Column1  ... CLASS_LABEL\n",
            "0         687  ...           1\n",
            "1         996  ...           1\n",
            "2        1333  ...           1\n",
            "3        2150  ...           1\n",
            "4        2203  ...           1\n",
            "...       ...  ...         ...\n",
            "1853  1443974  ...           0\n",
            "1854  1443975  ...           0\n",
            "1855  1443976  ...           0\n",
            "1856  1443977  ...           0\n",
            "1857  1589540  ...           0\n",
            "\n",
            "[1858 rows x 169 columns],      Column1  ... CLASS_LABEL\n",
            "0      29240  ...           1\n",
            "1      31536  ...           1\n",
            "2      31537  ...           1\n",
            "3      31644  ...           1\n",
            "4      31665  ...           1\n",
            "..       ...  ...         ...\n",
            "977   713349  ...           0\n",
            "978   713350  ...           0\n",
            "979   713439  ...           0\n",
            "980   713440  ...           0\n",
            "981   713536  ...           0\n",
            "\n",
            "[982 rows x 169 columns],       Column1  ... MDLPublicKeys[166]\n",
            "0        3859  ...                  1\n",
            "1        5729  ...                  1\n",
            "2        5735  ...                  1\n",
            "3        5752  ...                  1\n",
            "4        5755  ...                  1\n",
            "...       ...  ...                ...\n",
            "2152  1542302  ...                  1\n",
            "2153  1542303  ...                  1\n",
            "2154  1546219  ...                  1\n",
            "2155  1546228  ...                  0\n",
            "2156  1590275  ...                  1\n",
            "\n",
            "[2157 rows x 168 columns],      Column1  ... CLASS_LABEL\n",
            "0       6643  ...           1\n",
            "1      16524  ...           1\n",
            "2      28761  ...           1\n",
            "3      28938  ...           1\n",
            "4      29461  ...           1\n",
            "..       ...  ...         ...\n",
            "842   712804  ...           0\n",
            "843   712805  ...           0\n",
            "844   712806  ...           0\n",
            "845   712891  ...           0\n",
            "846  1587886  ...           0\n",
            "\n",
            "[847 rows x 169 columns],      Column1  ... CLASS_LABEL\n",
            "0        369  ...           1\n",
            "1       2451  ...           1\n",
            "2       2641  ...           1\n",
            "3       2684  ...           1\n",
            "4       3666  ...           1\n",
            "..       ...  ...         ...\n",
            "839   231966  ...           0\n",
            "840   231967  ...           0\n",
            "841   289481  ...           0\n",
            "842   289750  ...           0\n",
            "843   289960  ...           0\n",
            "\n",
            "[844 rows x 169 columns],       Column1  ... CLASS_LABEL\n",
            "0        2214  ...           1\n",
            "1        2232  ...           1\n",
            "2        2261  ...           1\n",
            "3        3587  ...           1\n",
            "4        3599  ...           1\n",
            "...       ...  ...         ...\n",
            "1478   281497  ...           0\n",
            "1479   281553  ...           0\n",
            "1480   294162  ...           0\n",
            "1481   296881  ...           0\n",
            "1482   296887  ...           0\n",
            "\n",
            "[1483 rows x 169 columns]]\n"
          ],
          "name": "stdout"
        }
      ]
    },
    {
      "cell_type": "markdown",
      "metadata": {
        "id": "e39sVnVqVvWz"
      },
      "source": [
        "> From the data observation, we can see that all the datasets have **169 cols**. So I did the data preprocessing by using standard scaler to check any missing value inside the dataset.\r\n",
        "\r\n"
      ]
    },
    {
      "cell_type": "code",
      "metadata": {
        "id": "aQylmH9RxWS9"
      },
      "source": [
        "index = [#'Column1', 'Column9',\t\r\n",
        "         'MDLPublicKeys[1]', 'MDLPublicKeys[2]', 'MDLPublicKeys[3]', 'MDLPublicKeys[4]',\r\n",
        "         'MDLPublicKeys[5]', 'MDLPublicKeys[6]', 'MDLPublicKeys[7]', 'MDLPublicKeys[8]',\r\n",
        "         'MDLPublicKeys[9]', 'MDLPublicKeys[10]', 'MDLPublicKeys[11]', 'MDLPublicKeys[12]',\r\n",
        "         'MDLPublicKeys[13]', 'MDLPublicKeys[14]', 'MDLPublicKeys[15]', 'MDLPublicKeys[16]',\r\n",
        "         'MDLPublicKeys[17]', 'MDLPublicKeys[18]',' MDLPublicKeys[19]', 'MDLPublicKeys[20]',\r\n",
        "         'MDLPublicKeys[21]', 'MDLPublicKeys[22]', 'MDLPublicKeys[23]', 'MDLPublicKeys[24]',\r\n",
        "         'MDLPublicKeys[25]', 'MDLPublicKeys[26]', 'MDLPublicKeys[27]', 'MDLPublicKeys[28]',\r\n",
        "         'MDLPublicKeys[29]', 'MDLPublicKeys[30]', 'MDLPublicKeys[31]', 'MDLPublicKeys[32]',\r\n",
        "         'MDLPublicKeys[33]', 'MDLPublicKeys[34]', 'MDLPublicKeys[35]',\t'MDLPublicKeys[36]',\r\n",
        "         'MDLPublicKeys[37]',\t'MDLPublicKeys[38]',\t'MDLPublicKeys[39]', 'MDLPublicKeys[40]',\r\n",
        "         'MDLPublicKeys[41]',\t'MDLPublicKeys[42]',\t'MDLPublicKeys[43]', 'MDLPublicKeys[44]',\r\n",
        "         'MDLPublicKeys[45]',\t'MDLPublicKeys[46]',\t'MDLPublicKeys[47]', 'MDLPublicKeys[48]',\r\n",
        "         'MDLPublicKeys[49]',\t'MDLPublicKeys[50]', 'MDLPublicKeys[51]',\t'MDLPublicKeys[52]', 'MDLPublicKeys[53]',\r\n",
        "         'MDLPublicKeys[54]',\t'MDLPublicKeys[55]', 'MDLPublicKeys[56]',\t'MDLPublicKeys[57]',\t'MDLPublicKeys[58]',\r\n",
        "         'MDLPublicKeys[59]', 'MDLPublicKeys[60]', 'MDLPublicKeys[61]', 'MDLPublicKeys[62]',\r\n",
        "         'MDLPublicKeys[63]',\t'MDLPublicKeys[64]', 'MDLPublicKeys[65]',\t'MDLPublicKeys[66]',\t\r\n",
        "         'MDLPublicKeys[67]', 'MDLPublicKeys[68]', 'MDLPublicKeys[69]', 'MDLPublicKeys[70]',\r\n",
        "         'MDLPublicKeys[71]', 'MDLPublicKeys[72]', 'MDLPublicKeys[73]', 'MDLPublicKeys[74]', 'MDLPublicKeys[75]', 'MDLPublicKeys[76]',\r\n",
        "         'MDLPublicKeys[77]', 'MDLPublicKeys[78]', 'MDLPublicKeys[79]','MDLPublicKeys[80]',\t\r\n",
        "         'MDLPublicKeys[81]', 'MDLPublicKeys[82]', 'MDLPublicKeys[83]','MDLPublicKeys[84]',\t\r\n",
        "         'MDLPublicKeys[85]', 'MDLPublicKeys[86]', 'MDLPublicKeys[87]','MDLPublicKeys[88]',\r\n",
        "         'MDLPublicKeys[89]', 'MDLPublicKeys[90]', 'MDLPublicKeys[91]','MDLPublicKeys[92]',\r\n",
        "         'MDLPublicKeys[93]', 'MDLPublicKeys[94]', 'MDLPublicKeys[95]','MDLPublicKeys[96]',\r\n",
        "         'MDLPublicKeys[97]', 'MDLPublicKeys[98]', 'MDLPublicKeys[99]','MDLPublicKeys[100]',\r\n",
        "         'MDLPublicKeys[101]', 'MDLPublicKeys[102]', 'MDLPublicKeys[103]','MDLPublicKeys[104]',\r\n",
        "         'MDLPublicKeys[105]', 'MDLPublicKeys[106]', 'MDLPublicKeys[107]','MDLPublicKeys[108]',\r\n",
        "         'MDLPublicKeys[109]', 'MDLPublicKeys[110]', 'MDLPublicKeys[111]','MDLPublicKeys[112]',\r\n",
        "         'MDLPublicKeys[113]', 'MDLPublicKeys[114]', 'MDLPublicKeys[115]','MDLPublicKeys[116]',\r\n",
        "         'MDLPublicKeys[117]', 'MDLPublicKeys[118]', 'MDLPublicKeys[119]', 'MDLPublicKeys[120]',\r\n",
        "         'MDLPublicKeys[121]', 'MDLPublicKeys[122]', 'MDLPublicKeys[123]', 'MDLPublicKeys[124]',\r\n",
        "         'MDLPublicKeys[125]', 'MDLPublicKeys[126]', 'MDLPublicKeys[127]', 'MDLPublicKeys[128]',\r\n",
        "         'MDLPublicKeys[129]', 'MDLPublicKeys[130]', 'MDLPublicKeys[131]', 'MDLPublicKeys[132]',\r\n",
        "         'MDLPublicKeys[133]', 'MDLPublicKeys[134]', 'MDLPublicKeys[135]', 'MDLPublicKeys[136]',\r\n",
        "         'MDLPublicKeys[137]', 'MDLPublicKeys[138]', 'MDLPublicKeys[139]', 'MDLPublicKeys[140]',\r\n",
        "         'MDLPublicKeys[141]', 'MDLPublicKeys[142]', 'MDLPublicKeys[143]', 'MDLPublicKeys[144]',\r\n",
        "         'MDLPublicKeys[145]', 'MDLPublicKeys[146]', 'MDLPublicKeys[147]', 'MDLPublicKeys[148]',\r\n",
        "         'MDLPublicKeys[149]', 'MDLPublicKeys[150]', 'MDLPublicKeys[151]', 'MDLPublicKeys[152]', \r\n",
        "         'MDLPublicKeys[153]', 'MDLPublicKeys[154]', 'MDLPublicKeys[155]', 'MDLPublicKeys[156]', \r\n",
        "         'MDLPublicKeys[157]', 'MDLPublicKeys[158]', 'MDLPublicKeys[159]', 'MDLPublicKeys[160]', \r\n",
        "         'MDLPublicKeys[161]','MDLPublicKeys[162]', 'MDLPublicKeys[163]', 'MDLPublicKeys[164]',\r\n",
        "         'MDLPublicKeys[165]', 'MDLPublicKeys[166]'\r\n",
        "         #'CLASS_LABEL'\r\n",
        "         ]"
      ],
      "execution_count": null,
      "outputs": []
    },
    {
      "cell_type": "markdown",
      "metadata": {
        "id": "UBOxudbLWZ20"
      },
      "source": [
        "After the data preprocessing, we can know that all of them do not has any missing value."
      ]
    },
    {
      "cell_type": "markdown",
      "metadata": {
        "id": "a99OYrBPWqm9"
      },
      "source": [
        "# Genetic Programming"
      ]
    },
    {
      "cell_type": "code",
      "metadata": {
        "id": "EtE4bRWiPHsU",
        "colab": {
          "base_uri": "https://localhost:8080/"
        },
        "outputId": "3d9e0b76-f589-483b-9722-123392efb353"
      },
      "source": [
        "import random\n",
        "import operator\n",
        "import math\n",
        "\n",
        "from deap import algorithms, base, creator, gp, tools\n",
        "from gplearn.functions import make_function\n",
        "#from gplearn.genetic import SymbolicRegressor\n",
        "%pylab inline\n",
        "from sklearn.ensemble import RandomForestRegressor\n",
        "from sklearn.tree import DecisionTreeRegressor\n",
        "#from linear_genetic_programming.lgp_classifier import LGPClassifier\n",
        "\n",
        "from sympy import *\n",
        "from sklearn.model_selection import train_test_split\n",
        "from sklearn.metrics import accuracy_score\n",
        "from sklearn import metrics"
      ],
      "execution_count": null,
      "outputs": [
        {
          "output_type": "stream",
          "text": [
            "Populating the interactive namespace from numpy and matplotlib\n"
          ],
          "name": "stdout"
        },
        {
          "output_type": "stream",
          "text": [
            "/usr/local/lib/python3.6/dist-packages/IPython/core/magics/pylab.py:161: UserWarning: pylab import has clobbered these variables: ['random']\n",
            "`%matplotlib` prevents importing * from pylab and numpy\n",
            "  \"\\n`%matplotlib` prevents importing * from pylab and numpy\"\n"
          ],
          "name": "stderr"
        }
      ]
    },
    {
      "cell_type": "code",
      "metadata": {
        "colab": {
          "base_uri": "https://localhost:8080/"
        },
        "id": "-9kWXocd1_3G",
        "outputId": "8bd200c1-8067-4ee2-d9b9-a55234dc99ac"
      },
      "source": [
        "import operator\r\n",
        "## CREATE EQUATION \r\n",
        "\"\"\"\r\n",
        "Terminal \r\n",
        "N: total number of compounds, \r\n",
        "NACT: number of active compounds, \r\n",
        "NINACT: number of inactive compounds, \r\n",
        "TOT: total number of compounds containing fragment I (O, N, C, H, Br, I, Cl, F, S, or P)\r\n",
        "ACT: total number of active compounds containing fragment I, \r\n",
        "INACT: total number of inactive compounds containing fragment I\r\n",
        "\"\"\"\r\n",
        "\r\n",
        "val1 = {\"terminal\": \"NINACT\"}\r\n",
        "val2 = {\"terminal\": \"N\"}\r\n",
        "val3 = {\"terminal\": \"NACT\"}\r\n",
        "val4 = {\"terminal\": \"INACT\"}\r\n",
        "val5 = {\"terminal\": \"TOT\"}\r\n",
        "val6 = {\"terminal\": \"ACT\"}\r\n",
        "\r\n",
        "node1 = {\r\n",
        "    \"func\": operator.sub,\r\n",
        "    \"children\": [val2, val6],\r\n",
        "    \"format_str\": \"({} - {})\",\r\n",
        "}\r\n",
        "program = {\r\n",
        "    \"func\": operator.mul,\r\n",
        "    \"children\": [node1, val5],\r\n",
        "    \"format_str\": \"({} * {})\",\r\n",
        "}\r\n",
        "\r\n",
        "def render_prog(node):\r\n",
        "    if \"children\" not in node:\r\n",
        "        return node[\"terminal\"]\r\n",
        "    return node[\"format_str\"].format(*[render_prog(c) for c in node[\"children\"]])\r\n",
        "\r\n",
        "print(render_prog(program))"
      ],
      "execution_count": null,
      "outputs": [
        {
          "output_type": "stream",
          "text": [
            "((N - ACT) * TOT)\n"
          ],
          "name": "stdout"
        }
      ]
    },
    {
      "cell_type": "code",
      "metadata": {
        "colab": {
          "base_uri": "https://localhost:8080/",
          "height": 1000
        },
        "id": "HEhGaeam6fa2",
        "outputId": "6c7dca20-21aa-44cb-c0a8-d45549dfc9d7"
      },
      "source": [
        "def evaluate(node, row):\r\n",
        "    if \"children\" not in node:\r\n",
        "        return node[\"terminal\"]\r\n",
        "    return node[\"func\"](*[\r\n",
        "                          evaluate(c, row)\r\n",
        "                          for c in node[\"children\"]\r\n",
        "                          ])\r\n",
        "\r\n",
        "for dataframe in dataframes:\r\n",
        "  #'Column1','Column9',\r\n",
        "  #dt_train = dataframe.drop(['CLASS_LABEL'], axis=1, inplace=True)\r\n",
        "  #dt_test = dataframe.pop('CLASS_LABEL')\r\n",
        "  print(evaluate(program, dataframe.iloc[:,0:166]))"
      ],
      "execution_count": null,
      "outputs": [
        {
          "output_type": "error",
          "ename": "KeyError",
          "evalue": "ignored",
          "traceback": [
            "\u001b[0;31m---------------------------------------------------------------------------\u001b[0m",
            "\u001b[0;31mKeyError\u001b[0m                                  Traceback (most recent call last)",
            "\u001b[0;32m/usr/local/lib/python3.6/dist-packages/pandas/core/indexes/base.py\u001b[0m in \u001b[0;36mget_loc\u001b[0;34m(self, key, method, tolerance)\u001b[0m\n\u001b[1;32m   2897\u001b[0m             \u001b[0;32mtry\u001b[0m\u001b[0;34m:\u001b[0m\u001b[0;34m\u001b[0m\u001b[0;34m\u001b[0m\u001b[0m\n\u001b[0;32m-> 2898\u001b[0;31m                 \u001b[0;32mreturn\u001b[0m \u001b[0mself\u001b[0m\u001b[0;34m.\u001b[0m\u001b[0m_engine\u001b[0m\u001b[0;34m.\u001b[0m\u001b[0mget_loc\u001b[0m\u001b[0;34m(\u001b[0m\u001b[0mcasted_key\u001b[0m\u001b[0;34m)\u001b[0m\u001b[0;34m\u001b[0m\u001b[0;34m\u001b[0m\u001b[0m\n\u001b[0m\u001b[1;32m   2899\u001b[0m             \u001b[0;32mexcept\u001b[0m \u001b[0mKeyError\u001b[0m \u001b[0;32mas\u001b[0m \u001b[0merr\u001b[0m\u001b[0;34m:\u001b[0m\u001b[0;34m\u001b[0m\u001b[0;34m\u001b[0m\u001b[0m\n",
            "\u001b[0;32mpandas/_libs/index.pyx\u001b[0m in \u001b[0;36mpandas._libs.index.IndexEngine.get_loc\u001b[0;34m()\u001b[0m\n",
            "\u001b[0;32mpandas/_libs/index.pyx\u001b[0m in \u001b[0;36mpandas._libs.index.IndexEngine.get_loc\u001b[0;34m()\u001b[0m\n",
            "\u001b[0;32mpandas/_libs/hashtable_class_helper.pxi\u001b[0m in \u001b[0;36mpandas._libs.hashtable.PyObjectHashTable.get_item\u001b[0;34m()\u001b[0m\n",
            "\u001b[0;32mpandas/_libs/hashtable_class_helper.pxi\u001b[0m in \u001b[0;36mpandas._libs.hashtable.PyObjectHashTable.get_item\u001b[0;34m()\u001b[0m\n",
            "\u001b[0;31mKeyError\u001b[0m: 'N'",
            "\nThe above exception was the direct cause of the following exception:\n",
            "\u001b[0;31mKeyError\u001b[0m                                  Traceback (most recent call last)",
            "\u001b[0;32m<ipython-input-80-b8498235a6ce>\u001b[0m in \u001b[0;36m<module>\u001b[0;34m()\u001b[0m\n\u001b[1;32m     11\u001b[0m   \u001b[0;31m#dt_train = dataframe.drop(['CLASS_LABEL'], axis=1, inplace=True)\u001b[0m\u001b[0;34m\u001b[0m\u001b[0;34m\u001b[0m\u001b[0;34m\u001b[0m\u001b[0m\n\u001b[1;32m     12\u001b[0m   \u001b[0;31m#dt_test = dataframe.pop('CLASS_LABEL')\u001b[0m\u001b[0;34m\u001b[0m\u001b[0;34m\u001b[0m\u001b[0;34m\u001b[0m\u001b[0m\n\u001b[0;32m---> 13\u001b[0;31m   \u001b[0mprint\u001b[0m\u001b[0;34m(\u001b[0m\u001b[0mevaluate\u001b[0m\u001b[0;34m(\u001b[0m\u001b[0mprogram\u001b[0m\u001b[0;34m,\u001b[0m \u001b[0mdataframe\u001b[0m\u001b[0;34m.\u001b[0m\u001b[0miloc\u001b[0m\u001b[0;34m[\u001b[0m\u001b[0;34m:\u001b[0m\u001b[0;34m,\u001b[0m\u001b[0;36m0\u001b[0m\u001b[0;34m:\u001b[0m\u001b[0;36m166\u001b[0m\u001b[0;34m]\u001b[0m\u001b[0;34m)\u001b[0m\u001b[0;34m)\u001b[0m\u001b[0;34m\u001b[0m\u001b[0;34m\u001b[0m\u001b[0m\n\u001b[0m",
            "\u001b[0;32m<ipython-input-80-b8498235a6ce>\u001b[0m in \u001b[0;36mevaluate\u001b[0;34m(node, row)\u001b[0m\n\u001b[1;32m      4\u001b[0m     return node[\"func\"](*[\n\u001b[1;32m      5\u001b[0m                           \u001b[0mevaluate\u001b[0m\u001b[0;34m(\u001b[0m\u001b[0mc\u001b[0m\u001b[0;34m,\u001b[0m \u001b[0mrow\u001b[0m\u001b[0;34m)\u001b[0m\u001b[0;34m\u001b[0m\u001b[0;34m\u001b[0m\u001b[0m\n\u001b[0;32m----> 6\u001b[0;31m                           \u001b[0;32mfor\u001b[0m \u001b[0mc\u001b[0m \u001b[0;32min\u001b[0m \u001b[0mnode\u001b[0m\u001b[0;34m[\u001b[0m\u001b[0;34m\"children\"\u001b[0m\u001b[0;34m]\u001b[0m\u001b[0;34m\u001b[0m\u001b[0;34m\u001b[0m\u001b[0m\n\u001b[0m\u001b[1;32m      7\u001b[0m                           ])\n\u001b[1;32m      8\u001b[0m \u001b[0;34m\u001b[0m\u001b[0m\n",
            "\u001b[0;32m<ipython-input-80-b8498235a6ce>\u001b[0m in \u001b[0;36m<listcomp>\u001b[0;34m(.0)\u001b[0m\n\u001b[1;32m      4\u001b[0m     return node[\"func\"](*[\n\u001b[1;32m      5\u001b[0m                           \u001b[0mevaluate\u001b[0m\u001b[0;34m(\u001b[0m\u001b[0mc\u001b[0m\u001b[0;34m,\u001b[0m \u001b[0mrow\u001b[0m\u001b[0;34m)\u001b[0m\u001b[0;34m\u001b[0m\u001b[0;34m\u001b[0m\u001b[0m\n\u001b[0;32m----> 6\u001b[0;31m                           \u001b[0;32mfor\u001b[0m \u001b[0mc\u001b[0m \u001b[0;32min\u001b[0m \u001b[0mnode\u001b[0m\u001b[0;34m[\u001b[0m\u001b[0;34m\"children\"\u001b[0m\u001b[0;34m]\u001b[0m\u001b[0;34m\u001b[0m\u001b[0;34m\u001b[0m\u001b[0m\n\u001b[0m\u001b[1;32m      7\u001b[0m                           ])\n\u001b[1;32m      8\u001b[0m \u001b[0;34m\u001b[0m\u001b[0m\n",
            "\u001b[0;32m<ipython-input-80-b8498235a6ce>\u001b[0m in \u001b[0;36mevaluate\u001b[0;34m(node, row)\u001b[0m\n\u001b[1;32m      4\u001b[0m     return node[\"func\"](*[\n\u001b[1;32m      5\u001b[0m                           \u001b[0mevaluate\u001b[0m\u001b[0;34m(\u001b[0m\u001b[0mc\u001b[0m\u001b[0;34m,\u001b[0m \u001b[0mrow\u001b[0m\u001b[0;34m)\u001b[0m\u001b[0;34m\u001b[0m\u001b[0;34m\u001b[0m\u001b[0m\n\u001b[0;32m----> 6\u001b[0;31m                           \u001b[0;32mfor\u001b[0m \u001b[0mc\u001b[0m \u001b[0;32min\u001b[0m \u001b[0mnode\u001b[0m\u001b[0;34m[\u001b[0m\u001b[0;34m\"children\"\u001b[0m\u001b[0;34m]\u001b[0m\u001b[0;34m\u001b[0m\u001b[0;34m\u001b[0m\u001b[0m\n\u001b[0m\u001b[1;32m      7\u001b[0m                           ])\n\u001b[1;32m      8\u001b[0m \u001b[0;34m\u001b[0m\u001b[0m\n",
            "\u001b[0;32m<ipython-input-80-b8498235a6ce>\u001b[0m in \u001b[0;36m<listcomp>\u001b[0;34m(.0)\u001b[0m\n\u001b[1;32m      4\u001b[0m     return node[\"func\"](*[\n\u001b[1;32m      5\u001b[0m                           \u001b[0mevaluate\u001b[0m\u001b[0;34m(\u001b[0m\u001b[0mc\u001b[0m\u001b[0;34m,\u001b[0m \u001b[0mrow\u001b[0m\u001b[0;34m)\u001b[0m\u001b[0;34m\u001b[0m\u001b[0;34m\u001b[0m\u001b[0m\n\u001b[0;32m----> 6\u001b[0;31m                           \u001b[0;32mfor\u001b[0m \u001b[0mc\u001b[0m \u001b[0;32min\u001b[0m \u001b[0mnode\u001b[0m\u001b[0;34m[\u001b[0m\u001b[0;34m\"children\"\u001b[0m\u001b[0;34m]\u001b[0m\u001b[0;34m\u001b[0m\u001b[0;34m\u001b[0m\u001b[0m\n\u001b[0m\u001b[1;32m      7\u001b[0m                           ])\n\u001b[1;32m      8\u001b[0m \u001b[0;34m\u001b[0m\u001b[0m\n",
            "\u001b[0;32m<ipython-input-80-b8498235a6ce>\u001b[0m in \u001b[0;36mevaluate\u001b[0;34m(node, row)\u001b[0m\n\u001b[1;32m      1\u001b[0m \u001b[0;32mdef\u001b[0m \u001b[0mevaluate\u001b[0m\u001b[0;34m(\u001b[0m\u001b[0mnode\u001b[0m\u001b[0;34m,\u001b[0m \u001b[0mrow\u001b[0m\u001b[0;34m)\u001b[0m\u001b[0;34m:\u001b[0m\u001b[0;34m\u001b[0m\u001b[0;34m\u001b[0m\u001b[0m\n\u001b[1;32m      2\u001b[0m     \u001b[0;32mif\u001b[0m \u001b[0;34m\"children\"\u001b[0m \u001b[0;32mnot\u001b[0m \u001b[0;32min\u001b[0m \u001b[0mnode\u001b[0m\u001b[0;34m:\u001b[0m\u001b[0;34m\u001b[0m\u001b[0;34m\u001b[0m\u001b[0m\n\u001b[0;32m----> 3\u001b[0;31m         \u001b[0;32mreturn\u001b[0m \u001b[0mrow\u001b[0m\u001b[0;34m[\u001b[0m\u001b[0mnode\u001b[0m\u001b[0;34m[\u001b[0m\u001b[0;34m\"terminal\"\u001b[0m\u001b[0;34m]\u001b[0m\u001b[0;34m]\u001b[0m\u001b[0;34m\u001b[0m\u001b[0;34m\u001b[0m\u001b[0m\n\u001b[0m\u001b[1;32m      4\u001b[0m     return node[\"func\"](*[\n\u001b[1;32m      5\u001b[0m                           \u001b[0mevaluate\u001b[0m\u001b[0;34m(\u001b[0m\u001b[0mc\u001b[0m\u001b[0;34m,\u001b[0m \u001b[0mrow\u001b[0m\u001b[0;34m)\u001b[0m\u001b[0;34m\u001b[0m\u001b[0;34m\u001b[0m\u001b[0m\n",
            "\u001b[0;32m/usr/local/lib/python3.6/dist-packages/pandas/core/frame.py\u001b[0m in \u001b[0;36m__getitem__\u001b[0;34m(self, key)\u001b[0m\n\u001b[1;32m   2904\u001b[0m             \u001b[0;32mif\u001b[0m \u001b[0mself\u001b[0m\u001b[0;34m.\u001b[0m\u001b[0mcolumns\u001b[0m\u001b[0;34m.\u001b[0m\u001b[0mnlevels\u001b[0m \u001b[0;34m>\u001b[0m \u001b[0;36m1\u001b[0m\u001b[0;34m:\u001b[0m\u001b[0;34m\u001b[0m\u001b[0;34m\u001b[0m\u001b[0m\n\u001b[1;32m   2905\u001b[0m                 \u001b[0;32mreturn\u001b[0m \u001b[0mself\u001b[0m\u001b[0;34m.\u001b[0m\u001b[0m_getitem_multilevel\u001b[0m\u001b[0;34m(\u001b[0m\u001b[0mkey\u001b[0m\u001b[0;34m)\u001b[0m\u001b[0;34m\u001b[0m\u001b[0;34m\u001b[0m\u001b[0m\n\u001b[0;32m-> 2906\u001b[0;31m             \u001b[0mindexer\u001b[0m \u001b[0;34m=\u001b[0m \u001b[0mself\u001b[0m\u001b[0;34m.\u001b[0m\u001b[0mcolumns\u001b[0m\u001b[0;34m.\u001b[0m\u001b[0mget_loc\u001b[0m\u001b[0;34m(\u001b[0m\u001b[0mkey\u001b[0m\u001b[0;34m)\u001b[0m\u001b[0;34m\u001b[0m\u001b[0;34m\u001b[0m\u001b[0m\n\u001b[0m\u001b[1;32m   2907\u001b[0m             \u001b[0;32mif\u001b[0m \u001b[0mis_integer\u001b[0m\u001b[0;34m(\u001b[0m\u001b[0mindexer\u001b[0m\u001b[0;34m)\u001b[0m\u001b[0;34m:\u001b[0m\u001b[0;34m\u001b[0m\u001b[0;34m\u001b[0m\u001b[0m\n\u001b[1;32m   2908\u001b[0m                 \u001b[0mindexer\u001b[0m \u001b[0;34m=\u001b[0m \u001b[0;34m[\u001b[0m\u001b[0mindexer\u001b[0m\u001b[0;34m]\u001b[0m\u001b[0;34m\u001b[0m\u001b[0;34m\u001b[0m\u001b[0m\n",
            "\u001b[0;32m/usr/local/lib/python3.6/dist-packages/pandas/core/indexes/base.py\u001b[0m in \u001b[0;36mget_loc\u001b[0;34m(self, key, method, tolerance)\u001b[0m\n\u001b[1;32m   2898\u001b[0m                 \u001b[0;32mreturn\u001b[0m \u001b[0mself\u001b[0m\u001b[0;34m.\u001b[0m\u001b[0m_engine\u001b[0m\u001b[0;34m.\u001b[0m\u001b[0mget_loc\u001b[0m\u001b[0;34m(\u001b[0m\u001b[0mcasted_key\u001b[0m\u001b[0;34m)\u001b[0m\u001b[0;34m\u001b[0m\u001b[0;34m\u001b[0m\u001b[0m\n\u001b[1;32m   2899\u001b[0m             \u001b[0;32mexcept\u001b[0m \u001b[0mKeyError\u001b[0m \u001b[0;32mas\u001b[0m \u001b[0merr\u001b[0m\u001b[0;34m:\u001b[0m\u001b[0;34m\u001b[0m\u001b[0;34m\u001b[0m\u001b[0m\n\u001b[0;32m-> 2900\u001b[0;31m                 \u001b[0;32mraise\u001b[0m \u001b[0mKeyError\u001b[0m\u001b[0;34m(\u001b[0m\u001b[0mkey\u001b[0m\u001b[0;34m)\u001b[0m \u001b[0;32mfrom\u001b[0m \u001b[0merr\u001b[0m\u001b[0;34m\u001b[0m\u001b[0;34m\u001b[0m\u001b[0m\n\u001b[0m\u001b[1;32m   2901\u001b[0m \u001b[0;34m\u001b[0m\u001b[0m\n\u001b[1;32m   2902\u001b[0m         \u001b[0;32mif\u001b[0m \u001b[0mtolerance\u001b[0m \u001b[0;32mis\u001b[0m \u001b[0;32mnot\u001b[0m \u001b[0;32mNone\u001b[0m\u001b[0;34m:\u001b[0m\u001b[0;34m\u001b[0m\u001b[0;34m\u001b[0m\u001b[0m\n",
            "\u001b[0;31mKeyError\u001b[0m: 'N'"
          ]
        }
      ]
    },
    {
      "cell_type": "code",
      "metadata": {
        "id": "hs8wEN3Q__oA"
      },
      "source": [
        "def safe_div(a, b):\r\n",
        "    return a / b if b else a\r\n",
        "    \r\n",
        "operations = (\r\n",
        "    {\"func\": operator.add, \"arg_count\": 2, \"format_str\": \"({} + {})\"},\r\n",
        "    {\"func\": operator.sub, \"arg_count\": 2, \"format_str\": \"({} - {})\"},\r\n",
        "    {\"func\": operator.mul, \"arg_count\": 2, \"format_str\": \"({} * {})\"},\r\n",
        "    {\"func\": safe_div, \"arg_count\": 2, \"format_str\": \"({} / {})\"},\r\n",
        "    {\"func\": operator.neg, \"arg_count\": 1, \"format_str\": \"-({})\"},\r\n",
        ")"
      ],
      "execution_count": null,
      "outputs": []
    },
    {
      "cell_type": "code",
      "metadata": {
        "id": "kHnLJRTPAPVr"
      },
      "source": [
        "from random import randint, random, seed\r\n",
        "\r\n",
        "seed(0)\r\n",
        "\r\n",
        "def random_prog(depth):\r\n",
        "    # favor adding function nodes near the tree root and\r\n",
        "    # leaf nodes as depth increases\r\n",
        "    if randint(0, 10) >= depth * 2:\r\n",
        "        op = operations[randint(0, len(operations) - 1)]\r\n",
        "        return {\r\n",
        "            \"func\": op[\"func\"],\r\n",
        "            \"children\": [random_prog(depth + 1) for _ in range(op[\"arg_count\"])],\r\n",
        "            \"format_str\": op[\"format_str\"],\r\n",
        "        }\r\n",
        "    else:\r\n",
        "        return {\"feature_name\": data.columns[randint(0, data.shape[1] - 1)]}"
      ],
      "execution_count": null,
      "outputs": []
    },
    {
      "cell_type": "code",
      "metadata": {
        "colab": {
          "base_uri": "https://localhost:8080/",
          "height": 334
        },
        "id": "SnSQRLUgFPd7",
        "outputId": "126575dc-67ae-4077-c561-8877f6b06aae"
      },
      "source": [
        "POP_SIZE = 300\r\n",
        "population = [random_prog(0) for _ in range(POP_SIZE)]\r\n",
        "\r\n",
        "print(render_prog(population[0]))"
      ],
      "execution_count": null,
      "outputs": [
        {
          "output_type": "error",
          "ename": "AttributeError",
          "evalue": "ignored",
          "traceback": [
            "\u001b[0;31m---------------------------------------------------------------------------\u001b[0m",
            "\u001b[0;31mAttributeError\u001b[0m                            Traceback (most recent call last)",
            "\u001b[0;32m<ipython-input-66-abe0de369120>\u001b[0m in \u001b[0;36m<module>\u001b[0;34m()\u001b[0m\n\u001b[1;32m      1\u001b[0m \u001b[0mPOP_SIZE\u001b[0m \u001b[0;34m=\u001b[0m \u001b[0;36m300\u001b[0m\u001b[0;34m\u001b[0m\u001b[0;34m\u001b[0m\u001b[0m\n\u001b[0;32m----> 2\u001b[0;31m \u001b[0mpopulation\u001b[0m \u001b[0;34m=\u001b[0m \u001b[0;34m[\u001b[0m\u001b[0mrandom_prog\u001b[0m\u001b[0;34m(\u001b[0m\u001b[0;36m0\u001b[0m\u001b[0;34m)\u001b[0m \u001b[0;32mfor\u001b[0m \u001b[0m_\u001b[0m \u001b[0;32min\u001b[0m \u001b[0mrange\u001b[0m\u001b[0;34m(\u001b[0m\u001b[0mPOP_SIZE\u001b[0m\u001b[0;34m)\u001b[0m\u001b[0;34m]\u001b[0m\u001b[0;34m\u001b[0m\u001b[0;34m\u001b[0m\u001b[0m\n\u001b[0m\u001b[1;32m      3\u001b[0m \u001b[0;34m\u001b[0m\u001b[0m\n\u001b[1;32m      4\u001b[0m \u001b[0mprint\u001b[0m\u001b[0;34m(\u001b[0m\u001b[0mrender_prog\u001b[0m\u001b[0;34m(\u001b[0m\u001b[0mpopulation\u001b[0m\u001b[0;34m[\u001b[0m\u001b[0;36m0\u001b[0m\u001b[0;34m]\u001b[0m\u001b[0;34m)\u001b[0m\u001b[0;34m)\u001b[0m\u001b[0;34m\u001b[0m\u001b[0;34m\u001b[0m\u001b[0m\n",
            "\u001b[0;32m<ipython-input-66-abe0de369120>\u001b[0m in \u001b[0;36m<listcomp>\u001b[0;34m(.0)\u001b[0m\n\u001b[1;32m      1\u001b[0m \u001b[0mPOP_SIZE\u001b[0m \u001b[0;34m=\u001b[0m \u001b[0;36m300\u001b[0m\u001b[0;34m\u001b[0m\u001b[0;34m\u001b[0m\u001b[0m\n\u001b[0;32m----> 2\u001b[0;31m \u001b[0mpopulation\u001b[0m \u001b[0;34m=\u001b[0m \u001b[0;34m[\u001b[0m\u001b[0mrandom_prog\u001b[0m\u001b[0;34m(\u001b[0m\u001b[0;36m0\u001b[0m\u001b[0;34m)\u001b[0m \u001b[0;32mfor\u001b[0m \u001b[0m_\u001b[0m \u001b[0;32min\u001b[0m \u001b[0mrange\u001b[0m\u001b[0;34m(\u001b[0m\u001b[0mPOP_SIZE\u001b[0m\u001b[0;34m)\u001b[0m\u001b[0;34m]\u001b[0m\u001b[0;34m\u001b[0m\u001b[0;34m\u001b[0m\u001b[0m\n\u001b[0m\u001b[1;32m      3\u001b[0m \u001b[0;34m\u001b[0m\u001b[0m\n\u001b[1;32m      4\u001b[0m \u001b[0mprint\u001b[0m\u001b[0;34m(\u001b[0m\u001b[0mrender_prog\u001b[0m\u001b[0;34m(\u001b[0m\u001b[0mpopulation\u001b[0m\u001b[0;34m[\u001b[0m\u001b[0;36m0\u001b[0m\u001b[0;34m]\u001b[0m\u001b[0;34m)\u001b[0m\u001b[0;34m)\u001b[0m\u001b[0;34m\u001b[0m\u001b[0;34m\u001b[0m\u001b[0m\n",
            "\u001b[0;32m<ipython-input-65-e39f5b490f82>\u001b[0m in \u001b[0;36mrandom_prog\u001b[0;34m(depth)\u001b[0m\n\u001b[1;32m     10\u001b[0m         return {\n\u001b[1;32m     11\u001b[0m             \u001b[0;34m\"func\"\u001b[0m\u001b[0;34m:\u001b[0m \u001b[0mop\u001b[0m\u001b[0;34m[\u001b[0m\u001b[0;34m\"func\"\u001b[0m\u001b[0;34m]\u001b[0m\u001b[0;34m,\u001b[0m\u001b[0;34m\u001b[0m\u001b[0;34m\u001b[0m\u001b[0m\n\u001b[0;32m---> 12\u001b[0;31m             \u001b[0;34m\"children\"\u001b[0m\u001b[0;34m:\u001b[0m \u001b[0;34m[\u001b[0m\u001b[0mrandom_prog\u001b[0m\u001b[0;34m(\u001b[0m\u001b[0mdepth\u001b[0m \u001b[0;34m+\u001b[0m \u001b[0;36m1\u001b[0m\u001b[0;34m)\u001b[0m \u001b[0;32mfor\u001b[0m \u001b[0m_\u001b[0m \u001b[0;32min\u001b[0m \u001b[0mrange\u001b[0m\u001b[0;34m(\u001b[0m\u001b[0mop\u001b[0m\u001b[0;34m[\u001b[0m\u001b[0;34m\"arg_count\"\u001b[0m\u001b[0;34m]\u001b[0m\u001b[0;34m)\u001b[0m\u001b[0;34m]\u001b[0m\u001b[0;34m,\u001b[0m\u001b[0;34m\u001b[0m\u001b[0;34m\u001b[0m\u001b[0m\n\u001b[0m\u001b[1;32m     13\u001b[0m             \u001b[0;34m\"format_str\"\u001b[0m\u001b[0;34m:\u001b[0m \u001b[0mop\u001b[0m\u001b[0;34m[\u001b[0m\u001b[0;34m\"format_str\"\u001b[0m\u001b[0;34m]\u001b[0m\u001b[0;34m,\u001b[0m\u001b[0;34m\u001b[0m\u001b[0;34m\u001b[0m\u001b[0m\n\u001b[1;32m     14\u001b[0m         }\n",
            "\u001b[0;32m<ipython-input-65-e39f5b490f82>\u001b[0m in \u001b[0;36m<listcomp>\u001b[0;34m(.0)\u001b[0m\n\u001b[1;32m     10\u001b[0m         return {\n\u001b[1;32m     11\u001b[0m             \u001b[0;34m\"func\"\u001b[0m\u001b[0;34m:\u001b[0m \u001b[0mop\u001b[0m\u001b[0;34m[\u001b[0m\u001b[0;34m\"func\"\u001b[0m\u001b[0;34m]\u001b[0m\u001b[0;34m,\u001b[0m\u001b[0;34m\u001b[0m\u001b[0;34m\u001b[0m\u001b[0m\n\u001b[0;32m---> 12\u001b[0;31m             \u001b[0;34m\"children\"\u001b[0m\u001b[0;34m:\u001b[0m \u001b[0;34m[\u001b[0m\u001b[0mrandom_prog\u001b[0m\u001b[0;34m(\u001b[0m\u001b[0mdepth\u001b[0m \u001b[0;34m+\u001b[0m \u001b[0;36m1\u001b[0m\u001b[0;34m)\u001b[0m \u001b[0;32mfor\u001b[0m \u001b[0m_\u001b[0m \u001b[0;32min\u001b[0m \u001b[0mrange\u001b[0m\u001b[0;34m(\u001b[0m\u001b[0mop\u001b[0m\u001b[0;34m[\u001b[0m\u001b[0;34m\"arg_count\"\u001b[0m\u001b[0;34m]\u001b[0m\u001b[0;34m)\u001b[0m\u001b[0;34m]\u001b[0m\u001b[0;34m,\u001b[0m\u001b[0;34m\u001b[0m\u001b[0;34m\u001b[0m\u001b[0m\n\u001b[0m\u001b[1;32m     13\u001b[0m             \u001b[0;34m\"format_str\"\u001b[0m\u001b[0;34m:\u001b[0m \u001b[0mop\u001b[0m\u001b[0;34m[\u001b[0m\u001b[0;34m\"format_str\"\u001b[0m\u001b[0;34m]\u001b[0m\u001b[0;34m,\u001b[0m\u001b[0;34m\u001b[0m\u001b[0;34m\u001b[0m\u001b[0m\n\u001b[1;32m     14\u001b[0m         }\n",
            "\u001b[0;32m<ipython-input-65-e39f5b490f82>\u001b[0m in \u001b[0;36mrandom_prog\u001b[0;34m(depth)\u001b[0m\n\u001b[1;32m     14\u001b[0m         }\n\u001b[1;32m     15\u001b[0m     \u001b[0;32melse\u001b[0m\u001b[0;34m:\u001b[0m\u001b[0;34m\u001b[0m\u001b[0;34m\u001b[0m\u001b[0m\n\u001b[0;32m---> 16\u001b[0;31m         \u001b[0;32mreturn\u001b[0m \u001b[0;34m{\u001b[0m\u001b[0;34m\"feature_name\"\u001b[0m\u001b[0;34m:\u001b[0m \u001b[0mdata\u001b[0m\u001b[0;34m.\u001b[0m\u001b[0mcolumns\u001b[0m\u001b[0;34m[\u001b[0m\u001b[0mrandint\u001b[0m\u001b[0;34m(\u001b[0m\u001b[0;36m0\u001b[0m\u001b[0;34m,\u001b[0m \u001b[0mdata\u001b[0m\u001b[0;34m.\u001b[0m\u001b[0mshape\u001b[0m\u001b[0;34m[\u001b[0m\u001b[0;36m1\u001b[0m\u001b[0;34m]\u001b[0m \u001b[0;34m-\u001b[0m \u001b[0;36m1\u001b[0m\u001b[0;34m)\u001b[0m\u001b[0;34m]\u001b[0m\u001b[0;34m}\u001b[0m\u001b[0;34m\u001b[0m\u001b[0;34m\u001b[0m\u001b[0m\n\u001b[0m",
            "\u001b[0;31mAttributeError\u001b[0m: 'numpy.ndarray' object has no attribute 'columns'"
          ]
        }
      ]
    },
    {
      "cell_type": "code",
      "metadata": {
        "id": "BuGJi6_W8c6r"
      },
      "source": [
        "def node_count(x):\r\n",
        "    if \"children\" not in x:\r\n",
        "        return 1\r\n",
        "    return sum([node_count(c) for c in x[\"children\"]])\r\n",
        "\r\n",
        "\r\n",
        "def compute_fitness(program, prediction):\r\n",
        "    mse = ((pd.Series(prediction) - target) ** 2).mean()\r\n",
        "    penalty = node_count(program) ** REG_STRENGTH\r\n",
        "    return mse * penalty"
      ],
      "execution_count": null,
      "outputs": []
    },
    {
      "cell_type": "markdown",
      "metadata": {
        "id": "si14QGpbu5V7"
      },
      "source": [
        "\r\n",
        "\r\n",
        "> I found that there has a various of Genetic Programming, which are:\r\n",
        "*   Cartesian Genetic Programming\r\n",
        "*   Linear Genetic Programming\r\n",
        "*   Tree-based Genetic Programming\r\n",
        "\r\n",
        "\r\n",
        "\r\n",
        "\r\n",
        "\r\n"
      ]
    },
    {
      "cell_type": "code",
      "metadata": {
        "id": "NDRHf1wL_bb7"
      },
      "source": [
        "from sklearn.datasets import load_diabetes\r\n",
        "from sklearn.preprocessing import StandardScaler\r\n",
        "from sklearn.model_selection import train_test_split\r\n",
        "from scipy.stats import pearsonr\r\n",
        "\r\n",
        "import cgpann"
      ],
      "execution_count": null,
      "outputs": []
    },
    {
      "cell_type": "code",
      "metadata": {
        "id": "Pk5eT4of_m9r"
      },
      "source": [
        "input_data, output_data = load_diabetes(return_X_y=True)\r\n",
        "\r\n",
        "# Splitting the data into training and testing dataset\r\n",
        "X_train,X_test,y_train, y_test = train_test_split(input_data, output_data.reshape(-1,1), test_size=0.2,)"
      ],
      "execution_count": null,
      "outputs": []
    },
    {
      "cell_type": "code",
      "metadata": {
        "id": "Qxp_Y7He_r_T"
      },
      "source": [
        "scaler_x = StandardScaler()\r\n",
        "scaler_y = StandardScaler()\r\n",
        "scaler_x.fit(X_train)\r\n",
        "X_train = scaler_x.transform(X_train)\r\n",
        "X_test = scaler_x.transform(X_test)\r\n",
        "scaler_y.fit(y_train)\r\n",
        "y_train = scaler_y.transform(y_train)\r\n",
        "y_test = scaler_y.transform(y_test)"
      ],
      "execution_count": null,
      "outputs": []
    },
    {
      "cell_type": "code",
      "metadata": {
        "id": "CYO096A4_vxr"
      },
      "source": [
        "num_features = X_train.shape[1]\r\n",
        "num_outputs = y_train.shape[1]"
      ],
      "execution_count": null,
      "outputs": []
    },
    {
      "cell_type": "code",
      "metadata": {
        "id": "b990H4-Y_7hM"
      },
      "source": [
        "bestGeno = objCgpann.fit_data(X_train,y_train)"
      ],
      "execution_count": null,
      "outputs": []
    },
    {
      "cell_type": "code",
      "metadata": {
        "id": "qYMLnV6c__U7"
      },
      "source": [
        "pred = objCgpann.predict_data(X_test)\r\n",
        "pearsonr(pred[:,0],y_test[:,0])[0]"
      ],
      "execution_count": null,
      "outputs": []
    },
    {
      "cell_type": "markdown",
      "metadata": {
        "id": "bmr9dTM9XNee"
      },
      "source": [
        "## Data Visualization"
      ]
    },
    {
      "cell_type": "code",
      "metadata": {
        "id": "AFKijrhrURBP"
      },
      "source": [
        "import pygraphviz as pgv\r\n",
        "\r\n",
        "g = pgv.AGraph()\r\n",
        "g.add_nodes_from(nodes)\r\n",
        "g.add_edges_from(edges)\r\n",
        "g.layout(prog=\"dot\")\r\n",
        "\r\n",
        "for i in nodes:\r\n",
        "    n = g.get_node(i)\r\n",
        "    n.attr[\"label\"] = labels[i]\r\n",
        "\r\n",
        "g.draw(\"tree.pdf\")"
      ],
      "execution_count": null,
      "outputs": []
    },
    {
      "cell_type": "code",
      "metadata": {
        "id": "RYFOShj9XRIH"
      },
      "source": [
        "import matplotlib.pyplot as plt\r\n",
        "import networkx as nx\r\n",
        "\r\n",
        "\"\"\"g = nx.Graph()\r\n",
        "g.add_nodes_from(nodes)\r\n",
        "g.add_edges_from(edges)\r\n",
        "pos = nx.graphviz_layout(g, prog=\"dot\")\r\n",
        "\r\n",
        "nx.draw_networkx_nodes(g, pos)\r\n",
        "nx.draw_networkx_edges(g, pos)\r\n",
        "nx.draw_networkx_labels(g, pos, labels)\r\n",
        "plt.show()\"\"\"\r\n",
        "\r\n",
        "def GPTree_plot():\r\n",
        "  g = nx.Graph()\r\n",
        "  g.add_nodes_from(nodes)\r\n",
        "  g.add_edges_from(edges)\r\n",
        "  pos = nx.graphviz_layout(g, prog = \"dot\")\r\n",
        "\r\n",
        "  nx.draw_networkx_nodes(g, pos)\r\n",
        "  nx.draw_networkx_edges(g, pos)\r\n",
        "  nx.draw_networkx_labels(g, pos, labels)\r\n",
        "\r\n",
        "  plt.show()"
      ],
      "execution_count": null,
      "outputs": []
    }
  ]
}