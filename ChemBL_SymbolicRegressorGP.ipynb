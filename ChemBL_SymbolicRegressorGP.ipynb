{
  "nbformat": 4,
  "nbformat_minor": 0,
  "metadata": {
    "colab": {
      "name": "ChemBL_SymbolicRegressorGP.ipynb",
      "provenance": [],
      "collapsed_sections": [
        "mk5VebmWRyox",
        "F9u_cT2nZrqJ"
      ],
      "authorship_tag": "ABX9TyPDAiJ4I3fEQd57EDeKTikq",
      "include_colab_link": true
    },
    "kernelspec": {
      "name": "python3",
      "display_name": "Python 3"
    }
  },
  "cells": [
    {
      "cell_type": "markdown",
      "metadata": {
        "id": "view-in-github",
        "colab_type": "text"
      },
      "source": [
        "<a href=\"https://colab.research.google.com/github/yx1226/GP-in-data-mining-for-ChemBL/blob/main/ChemBL_SymbolicRegressorGP.ipynb\" target=\"_parent\"><img src=\"https://colab.research.google.com/assets/colab-badge.svg\" alt=\"Open In Colab\"/></a>"
      ]
    },
    {
      "cell_type": "markdown",
      "metadata": {
        "id": "YfacqKv1hbC5"
      },
      "source": [
        "# Library and tool installation"
      ]
    },
    {
      "cell_type": "code",
      "metadata": {
        "id": "T_bQKhbzhVMW",
        "colab": {
          "base_uri": "https://localhost:8080/",
          "height": 1000
        },
        "outputId": "db429601-149f-4aad-fccd-59c44508a0cf"
      },
      "source": [
        "#Install any module\n",
        "# !pip install PyDrive \n",
        "!pip install deap # GP Library\n",
        "!pip install gplearn \n",
        "\n",
        "!wget -c https://repo.continuum.io/miniconda/Miniconda3-py37_4.8.3-Linux-x86_64.sh\n",
        "!chmod +x Miniconda3-py37_4.8.3-Linux-x86_64.sh\n",
        "!time bash ./Miniconda3-py37_4.8.3-Linux-x86_64.sh -b -f -p /usr/local\n",
        "!time conda install -q -y -c conda-forge rdkit\n",
        "\n",
        "!pip install rdkit\n",
        "!pip install mordred\n",
        "!pip install catboost"
      ],
      "execution_count": 1,
      "outputs": [
        {
          "output_type": "stream",
          "text": [
            "Collecting deap\n",
            "\u001b[?25l  Downloading https://files.pythonhosted.org/packages/0a/eb/2bd0a32e3ce757fb26264765abbaedd6d4d3640d90219a513aeabd08ee2b/deap-1.3.1-cp36-cp36m-manylinux2010_x86_64.whl (157kB)\n",
            "\r\u001b[K     |██                              | 10kB 18.8MB/s eta 0:00:01\r\u001b[K     |████▏                           | 20kB 26.1MB/s eta 0:00:01\r\u001b[K     |██████▎                         | 30kB 14.6MB/s eta 0:00:01\r\u001b[K     |████████▍                       | 40kB 15.0MB/s eta 0:00:01\r\u001b[K     |██████████▍                     | 51kB 15.0MB/s eta 0:00:01\r\u001b[K     |████████████▌                   | 61kB 17.1MB/s eta 0:00:01\r\u001b[K     |██████████████▋                 | 71kB 11.6MB/s eta 0:00:01\r\u001b[K     |████████████████▊               | 81kB 12.7MB/s eta 0:00:01\r\u001b[K     |██████████████████▊             | 92kB 12.9MB/s eta 0:00:01\r\u001b[K     |████████████████████▉           | 102kB 13.0MB/s eta 0:00:01\r\u001b[K     |███████████████████████         | 112kB 13.0MB/s eta 0:00:01\r\u001b[K     |█████████████████████████       | 122kB 13.0MB/s eta 0:00:01\r\u001b[K     |███████████████████████████▏    | 133kB 13.0MB/s eta 0:00:01\r\u001b[K     |█████████████████████████████▏  | 143kB 13.0MB/s eta 0:00:01\r\u001b[K     |███████████████████████████████▎| 153kB 13.0MB/s eta 0:00:01\r\u001b[K     |████████████████████████████████| 163kB 13.0MB/s \n",
            "\u001b[?25hRequirement already satisfied: numpy in /usr/local/lib/python3.6/dist-packages (from deap) (1.19.5)\n",
            "Installing collected packages: deap\n",
            "Successfully installed deap-1.3.1\n",
            "Collecting gplearn\n",
            "\u001b[?25l  Downloading https://files.pythonhosted.org/packages/43/6b/ee38cd74b32ad5056603aabbef622f9691f19d0869574dfc610034f18662/gplearn-0.4.1-py3-none-any.whl (41kB)\n",
            "\u001b[K     |████████████████████████████████| 51kB 3.9MB/s \n",
            "\u001b[?25hRequirement already satisfied: joblib>=0.13.0 in /usr/local/lib/python3.6/dist-packages (from gplearn) (1.0.0)\n",
            "Requirement already satisfied: scikit-learn>=0.20.0 in /usr/local/lib/python3.6/dist-packages (from gplearn) (0.22.2.post1)\n",
            "Requirement already satisfied: numpy>=1.11.0 in /usr/local/lib/python3.6/dist-packages (from scikit-learn>=0.20.0->gplearn) (1.19.5)\n",
            "Requirement already satisfied: scipy>=0.17.0 in /usr/local/lib/python3.6/dist-packages (from scikit-learn>=0.20.0->gplearn) (1.4.1)\n",
            "Installing collected packages: gplearn\n",
            "Successfully installed gplearn-0.4.1\n",
            "--2021-02-20 17:32:56--  https://repo.continuum.io/miniconda/Miniconda3-py37_4.8.3-Linux-x86_64.sh\n",
            "Resolving repo.continuum.io (repo.continuum.io)... 104.18.200.79, 104.18.201.79, 2606:4700::6812:c84f, ...\n",
            "Connecting to repo.continuum.io (repo.continuum.io)|104.18.200.79|:443... connected.\n",
            "HTTP request sent, awaiting response... 301 Moved Permanently\n",
            "Location: https://repo.anaconda.com/miniconda/Miniconda3-py37_4.8.3-Linux-x86_64.sh [following]\n",
            "--2021-02-20 17:32:56--  https://repo.anaconda.com/miniconda/Miniconda3-py37_4.8.3-Linux-x86_64.sh\n",
            "Resolving repo.anaconda.com (repo.anaconda.com)... 104.16.130.3, 104.16.131.3, 2606:4700::6810:8303, ...\n",
            "Connecting to repo.anaconda.com (repo.anaconda.com)|104.16.130.3|:443... connected.\n",
            "HTTP request sent, awaiting response... 200 OK\n",
            "Length: 88867207 (85M) [application/x-sh]\n",
            "Saving to: ‘Miniconda3-py37_4.8.3-Linux-x86_64.sh’\n",
            "\n",
            "Miniconda3-py37_4.8 100%[===================>]  84.75M   143MB/s    in 0.6s    \n",
            "\n",
            "2021-02-20 17:32:56 (143 MB/s) - ‘Miniconda3-py37_4.8.3-Linux-x86_64.sh’ saved [88867207/88867207]\n",
            "\n",
            "PREFIX=/usr/local\n",
            "Unpacking payload ...\n",
            "Collecting package metadata (current_repodata.json): - \b\b\\ \b\b| \b\bdone\n",
            "Solving environment: - \b\b\\ \b\b| \b\bdone\n",
            "\n",
            "## Package Plan ##\n",
            "\n",
            "  environment location: /usr/local\n",
            "\n",
            "  added / updated specs:\n",
            "    - _libgcc_mutex==0.1=main\n",
            "    - ca-certificates==2020.1.1=0\n",
            "    - certifi==2020.4.5.1=py37_0\n",
            "    - cffi==1.14.0=py37he30daa8_1\n",
            "    - chardet==3.0.4=py37_1003\n",
            "    - conda-package-handling==1.6.1=py37h7b6447c_0\n",
            "    - conda==4.8.3=py37_0\n",
            "    - cryptography==2.9.2=py37h1ba5d50_0\n",
            "    - idna==2.9=py_1\n",
            "    - ld_impl_linux-64==2.33.1=h53a641e_7\n",
            "    - libedit==3.1.20181209=hc058e9b_0\n",
            "    - libffi==3.3=he6710b0_1\n",
            "    - libgcc-ng==9.1.0=hdf63c60_0\n",
            "    - libstdcxx-ng==9.1.0=hdf63c60_0\n",
            "    - ncurses==6.2=he6710b0_1\n",
            "    - openssl==1.1.1g=h7b6447c_0\n",
            "    - pip==20.0.2=py37_3\n",
            "    - pycosat==0.6.3=py37h7b6447c_0\n",
            "    - pycparser==2.20=py_0\n",
            "    - pyopenssl==19.1.0=py37_0\n",
            "    - pysocks==1.7.1=py37_0\n",
            "    - python==3.7.7=hcff3b4d_5\n",
            "    - readline==8.0=h7b6447c_0\n",
            "    - requests==2.23.0=py37_0\n",
            "    - ruamel_yaml==0.15.87=py37h7b6447c_0\n",
            "    - setuptools==46.4.0=py37_0\n",
            "    - six==1.14.0=py37_0\n",
            "    - sqlite==3.31.1=h62c20be_1\n",
            "    - tk==8.6.8=hbc83047_0\n",
            "    - tqdm==4.46.0=py_0\n",
            "    - urllib3==1.25.8=py37_0\n",
            "    - wheel==0.34.2=py37_0\n",
            "    - xz==5.2.5=h7b6447c_0\n",
            "    - yaml==0.1.7=had09818_2\n",
            "    - zlib==1.2.11=h7b6447c_3\n",
            "\n",
            "\n",
            "The following NEW packages will be INSTALLED:\n",
            "\n",
            "  _libgcc_mutex      pkgs/main/linux-64::_libgcc_mutex-0.1-main\n",
            "  ca-certificates    pkgs/main/linux-64::ca-certificates-2020.1.1-0\n",
            "  certifi            pkgs/main/linux-64::certifi-2020.4.5.1-py37_0\n",
            "  cffi               pkgs/main/linux-64::cffi-1.14.0-py37he30daa8_1\n",
            "  chardet            pkgs/main/linux-64::chardet-3.0.4-py37_1003\n",
            "  conda              pkgs/main/linux-64::conda-4.8.3-py37_0\n",
            "  conda-package-han~ pkgs/main/linux-64::conda-package-handling-1.6.1-py37h7b6447c_0\n",
            "  cryptography       pkgs/main/linux-64::cryptography-2.9.2-py37h1ba5d50_0\n",
            "  idna               pkgs/main/noarch::idna-2.9-py_1\n",
            "  ld_impl_linux-64   pkgs/main/linux-64::ld_impl_linux-64-2.33.1-h53a641e_7\n",
            "  libedit            pkgs/main/linux-64::libedit-3.1.20181209-hc058e9b_0\n",
            "  libffi             pkgs/main/linux-64::libffi-3.3-he6710b0_1\n",
            "  libgcc-ng          pkgs/main/linux-64::libgcc-ng-9.1.0-hdf63c60_0\n",
            "  libstdcxx-ng       pkgs/main/linux-64::libstdcxx-ng-9.1.0-hdf63c60_0\n",
            "  ncurses            pkgs/main/linux-64::ncurses-6.2-he6710b0_1\n",
            "  openssl            pkgs/main/linux-64::openssl-1.1.1g-h7b6447c_0\n",
            "  pip                pkgs/main/linux-64::pip-20.0.2-py37_3\n",
            "  pycosat            pkgs/main/linux-64::pycosat-0.6.3-py37h7b6447c_0\n",
            "  pycparser          pkgs/main/noarch::pycparser-2.20-py_0\n",
            "  pyopenssl          pkgs/main/linux-64::pyopenssl-19.1.0-py37_0\n",
            "  pysocks            pkgs/main/linux-64::pysocks-1.7.1-py37_0\n",
            "  python             pkgs/main/linux-64::python-3.7.7-hcff3b4d_5\n",
            "  readline           pkgs/main/linux-64::readline-8.0-h7b6447c_0\n",
            "  requests           pkgs/main/linux-64::requests-2.23.0-py37_0\n",
            "  ruamel_yaml        pkgs/main/linux-64::ruamel_yaml-0.15.87-py37h7b6447c_0\n",
            "  setuptools         pkgs/main/linux-64::setuptools-46.4.0-py37_0\n",
            "  six                pkgs/main/linux-64::six-1.14.0-py37_0\n",
            "  sqlite             pkgs/main/linux-64::sqlite-3.31.1-h62c20be_1\n",
            "  tk                 pkgs/main/linux-64::tk-8.6.8-hbc83047_0\n",
            "  tqdm               pkgs/main/noarch::tqdm-4.46.0-py_0\n",
            "  urllib3            pkgs/main/linux-64::urllib3-1.25.8-py37_0\n",
            "  wheel              pkgs/main/linux-64::wheel-0.34.2-py37_0\n",
            "  xz                 pkgs/main/linux-64::xz-5.2.5-h7b6447c_0\n",
            "  yaml               pkgs/main/linux-64::yaml-0.1.7-had09818_2\n",
            "  zlib               pkgs/main/linux-64::zlib-1.2.11-h7b6447c_3\n",
            "\n",
            "\n",
            "Preparing transaction: - \b\b\\ \b\b| \b\b/ \b\bdone\n",
            "Executing transaction: \\ \b\b| \b\b/ \b\b- \b\b\\ \b\b| \b\b/ \b\b- \b\b\\ \b\b| \b\b/ \b\b- \b\b\\ \b\bdone\n",
            "installation finished.\n",
            "WARNING:\n",
            "    You currently have a PYTHONPATH environment variable set. This may cause\n",
            "    unexpected behavior when running the Python interpreter in Miniconda3.\n",
            "    For best results, please verify that your PYTHONPATH only points to\n",
            "    directories of packages that are compatible with the Python interpreter\n",
            "    in Miniconda3: /usr/local\n",
            "\n",
            "real\t0m29.105s\n",
            "user\t0m15.333s\n",
            "sys\t0m4.621s\n",
            "Collecting package metadata (current_repodata.json): ...working... done\n",
            "Solving environment: ...working... done\n",
            "\n",
            "## Package Plan ##\n",
            "\n",
            "  environment location: /usr/local\n",
            "\n",
            "  added / updated specs:\n",
            "    - rdkit\n",
            "\n",
            "\n",
            "The following packages will be downloaded:\n",
            "\n",
            "    package                    |            build\n",
            "    ---------------------------|-----------------\n",
            "    _libgcc_mutex-0.1          |      conda_forge           3 KB  conda-forge\n",
            "    _openmp_mutex-4.5          |            1_gnu          22 KB  conda-forge\n",
            "    boost-1.74.0               |   py37h6dcda5c_3         342 KB  conda-forge\n",
            "    boost-cpp-1.74.0           |       hc6e9bd1_2        16.3 MB  conda-forge\n",
            "    bzip2-1.0.8                |       h7f98852_4         484 KB  conda-forge\n",
            "    ca-certificates-2020.12.5  |       ha878542_0         137 KB  conda-forge\n",
            "    cairo-1.16.0               |    h7979940_1007         1.5 MB  conda-forge\n",
            "    certifi-2020.12.5          |   py37h89c1867_1         143 KB  conda-forge\n",
            "    conda-4.9.2                |   py37h89c1867_0         3.0 MB  conda-forge\n",
            "    cycler-0.10.0              |             py_2           9 KB  conda-forge\n",
            "    fontconfig-2.13.1          |    hba837de_1004         344 KB  conda-forge\n",
            "    freetype-2.10.4            |       h0708190_1         890 KB  conda-forge\n",
            "    gettext-0.19.8.1           |    h0b5b191_1005         3.6 MB  conda-forge\n",
            "    icu-68.1                   |       h58526e2_0        13.0 MB  conda-forge\n",
            "    jpeg-9d                    |       h36c2ea0_0         264 KB  conda-forge\n",
            "    kiwisolver-1.3.1           |   py37h2527ec5_1          78 KB  conda-forge\n",
            "    lcms2-2.12                 |       hddcbb42_0         443 KB  conda-forge\n",
            "    libblas-3.9.0              |       8_openblas          11 KB  conda-forge\n",
            "    libcblas-3.9.0             |       8_openblas          11 KB  conda-forge\n",
            "    libgcc-ng-9.3.0            |      h2828fa1_18         7.8 MB  conda-forge\n",
            "    libgfortran-ng-9.3.0       |      hff62375_18          22 KB  conda-forge\n",
            "    libgfortran5-9.3.0         |      hff62375_18         2.0 MB  conda-forge\n",
            "    libglib-2.66.7             |       h1f3bc88_0         3.0 MB  conda-forge\n",
            "    libgomp-9.3.0              |      h2828fa1_18         376 KB  conda-forge\n",
            "    libiconv-1.16              |       h516909a_0         1.4 MB  conda-forge\n",
            "    liblapack-3.9.0            |       8_openblas          11 KB  conda-forge\n",
            "    libopenblas-0.3.12         |pthreads_h4812303_1         8.9 MB  conda-forge\n",
            "    libpng-1.6.37              |       h21135ba_2         306 KB  conda-forge\n",
            "    libstdcxx-ng-9.3.0         |      h6de172a_18         4.0 MB  conda-forge\n",
            "    libtiff-4.2.0              |       hdc55705_0         633 KB  conda-forge\n",
            "    libuuid-2.32.1             |    h7f98852_1000          28 KB  conda-forge\n",
            "    libwebp-base-1.2.0         |       h7f98852_0         808 KB  conda-forge\n",
            "    libxcb-1.13                |    h7f98852_1003         395 KB  conda-forge\n",
            "    libxml2-2.9.10             |       h72842e0_3         1.3 MB  conda-forge\n",
            "    lz4-c-1.9.3                |       h9c3ff4c_0         179 KB  conda-forge\n",
            "    matplotlib-base-3.3.4      |   py37h0c9df89_0         6.7 MB  conda-forge\n",
            "    numpy-1.20.1               |   py37haa41c4c_0         5.8 MB  conda-forge\n",
            "    olefile-0.46               |     pyh9f0ad1d_1          32 KB  conda-forge\n",
            "    openssl-1.1.1j             |       h7f98852_0         2.1 MB  conda-forge\n",
            "    pandas-1.2.2               |   py37hdc94413_0        11.7 MB  conda-forge\n",
            "    pcre-8.44                  |       he1b5a44_0         261 KB  conda-forge\n",
            "    pillow-8.1.0               |   py37h4600e1f_2         671 KB  conda-forge\n",
            "    pixman-0.40.0              |       h36c2ea0_0         627 KB  conda-forge\n",
            "    pthread-stubs-0.4          |    h36c2ea0_1001           5 KB  conda-forge\n",
            "    pycairo-1.20.0             |   py37h01af8b0_1          77 KB  conda-forge\n",
            "    pyparsing-2.4.7            |     pyh9f0ad1d_0          60 KB  conda-forge\n",
            "    python-dateutil-2.8.1      |             py_0         220 KB  conda-forge\n",
            "    python_abi-3.7             |          1_cp37m           4 KB  conda-forge\n",
            "    pytz-2021.1                |     pyhd8ed1ab_0         239 KB  conda-forge\n",
            "    rdkit-2020.09.4            |   py37he53b9e1_0        26.1 MB  conda-forge\n",
            "    reportlab-3.5.60           |   py37h69800bb_0         2.5 MB  conda-forge\n",
            "    sqlalchemy-1.3.23          |   py37h5e8e339_0         1.8 MB  conda-forge\n",
            "    tk-8.6.10                  |       h21135ba_1         3.2 MB  conda-forge\n",
            "    tornado-6.1                |   py37h5e8e339_1         646 KB  conda-forge\n",
            "    xorg-kbproto-1.0.7         |    h7f98852_1002          27 KB  conda-forge\n",
            "    xorg-libice-1.0.10         |       h516909a_0          57 KB  conda-forge\n",
            "    xorg-libsm-1.2.3           |    h84519dc_1000          25 KB  conda-forge\n",
            "    xorg-libx11-1.6.12         |       h516909a_0         917 KB  conda-forge\n",
            "    xorg-libxau-1.0.9          |       h7f98852_0          13 KB  conda-forge\n",
            "    xorg-libxdmcp-1.1.3        |       h7f98852_0          19 KB  conda-forge\n",
            "    xorg-libxext-1.3.4         |       h516909a_0          51 KB  conda-forge\n",
            "    xorg-libxrender-0.9.10     |    h516909a_1002          31 KB  conda-forge\n",
            "    xorg-renderproto-0.11.1    |    h14c3975_1002           8 KB  conda-forge\n",
            "    xorg-xextproto-7.3.0       |    h7f98852_1002          28 KB  conda-forge\n",
            "    xorg-xproto-7.0.31         |    h7f98852_1007          73 KB  conda-forge\n",
            "    zstd-1.4.8                 |       ha95c52a_1         702 KB  conda-forge\n",
            "    ------------------------------------------------------------\n",
            "                                           Total:       136.3 MB\n",
            "\n",
            "The following NEW packages will be INSTALLED:\n",
            "\n",
            "  _openmp_mutex      conda-forge/linux-64::_openmp_mutex-4.5-1_gnu\n",
            "  boost              conda-forge/linux-64::boost-1.74.0-py37h6dcda5c_3\n",
            "  boost-cpp          conda-forge/linux-64::boost-cpp-1.74.0-hc6e9bd1_2\n",
            "  bzip2              conda-forge/linux-64::bzip2-1.0.8-h7f98852_4\n",
            "  cairo              conda-forge/linux-64::cairo-1.16.0-h7979940_1007\n",
            "  cycler             conda-forge/noarch::cycler-0.10.0-py_2\n",
            "  fontconfig         conda-forge/linux-64::fontconfig-2.13.1-hba837de_1004\n",
            "  freetype           conda-forge/linux-64::freetype-2.10.4-h0708190_1\n",
            "  gettext            conda-forge/linux-64::gettext-0.19.8.1-h0b5b191_1005\n",
            "  icu                conda-forge/linux-64::icu-68.1-h58526e2_0\n",
            "  jpeg               conda-forge/linux-64::jpeg-9d-h36c2ea0_0\n",
            "  kiwisolver         conda-forge/linux-64::kiwisolver-1.3.1-py37h2527ec5_1\n",
            "  lcms2              conda-forge/linux-64::lcms2-2.12-hddcbb42_0\n",
            "  libblas            conda-forge/linux-64::libblas-3.9.0-8_openblas\n",
            "  libcblas           conda-forge/linux-64::libcblas-3.9.0-8_openblas\n",
            "  libgfortran-ng     conda-forge/linux-64::libgfortran-ng-9.3.0-hff62375_18\n",
            "  libgfortran5       conda-forge/linux-64::libgfortran5-9.3.0-hff62375_18\n",
            "  libglib            conda-forge/linux-64::libglib-2.66.7-h1f3bc88_0\n",
            "  libgomp            conda-forge/linux-64::libgomp-9.3.0-h2828fa1_18\n",
            "  libiconv           conda-forge/linux-64::libiconv-1.16-h516909a_0\n",
            "  liblapack          conda-forge/linux-64::liblapack-3.9.0-8_openblas\n",
            "  libopenblas        conda-forge/linux-64::libopenblas-0.3.12-pthreads_h4812303_1\n",
            "  libpng             conda-forge/linux-64::libpng-1.6.37-h21135ba_2\n",
            "  libtiff            conda-forge/linux-64::libtiff-4.2.0-hdc55705_0\n",
            "  libuuid            conda-forge/linux-64::libuuid-2.32.1-h7f98852_1000\n",
            "  libwebp-base       conda-forge/linux-64::libwebp-base-1.2.0-h7f98852_0\n",
            "  libxcb             conda-forge/linux-64::libxcb-1.13-h7f98852_1003\n",
            "  libxml2            conda-forge/linux-64::libxml2-2.9.10-h72842e0_3\n",
            "  lz4-c              conda-forge/linux-64::lz4-c-1.9.3-h9c3ff4c_0\n",
            "  matplotlib-base    conda-forge/linux-64::matplotlib-base-3.3.4-py37h0c9df89_0\n",
            "  numpy              conda-forge/linux-64::numpy-1.20.1-py37haa41c4c_0\n",
            "  olefile            conda-forge/noarch::olefile-0.46-pyh9f0ad1d_1\n",
            "  pandas             conda-forge/linux-64::pandas-1.2.2-py37hdc94413_0\n",
            "  pcre               conda-forge/linux-64::pcre-8.44-he1b5a44_0\n",
            "  pillow             conda-forge/linux-64::pillow-8.1.0-py37h4600e1f_2\n",
            "  pixman             conda-forge/linux-64::pixman-0.40.0-h36c2ea0_0\n",
            "  pthread-stubs      conda-forge/linux-64::pthread-stubs-0.4-h36c2ea0_1001\n",
            "  pycairo            conda-forge/linux-64::pycairo-1.20.0-py37h01af8b0_1\n",
            "  pyparsing          conda-forge/noarch::pyparsing-2.4.7-pyh9f0ad1d_0\n",
            "  python-dateutil    conda-forge/noarch::python-dateutil-2.8.1-py_0\n",
            "  python_abi         conda-forge/linux-64::python_abi-3.7-1_cp37m\n",
            "  pytz               conda-forge/noarch::pytz-2021.1-pyhd8ed1ab_0\n",
            "  rdkit              conda-forge/linux-64::rdkit-2020.09.4-py37he53b9e1_0\n",
            "  reportlab          conda-forge/linux-64::reportlab-3.5.60-py37h69800bb_0\n",
            "  sqlalchemy         conda-forge/linux-64::sqlalchemy-1.3.23-py37h5e8e339_0\n",
            "  tornado            conda-forge/linux-64::tornado-6.1-py37h5e8e339_1\n",
            "  xorg-kbproto       conda-forge/linux-64::xorg-kbproto-1.0.7-h7f98852_1002\n",
            "  xorg-libice        conda-forge/linux-64::xorg-libice-1.0.10-h516909a_0\n",
            "  xorg-libsm         conda-forge/linux-64::xorg-libsm-1.2.3-h84519dc_1000\n",
            "  xorg-libx11        conda-forge/linux-64::xorg-libx11-1.6.12-h516909a_0\n",
            "  xorg-libxau        conda-forge/linux-64::xorg-libxau-1.0.9-h7f98852_0\n",
            "  xorg-libxdmcp      conda-forge/linux-64::xorg-libxdmcp-1.1.3-h7f98852_0\n",
            "  xorg-libxext       conda-forge/linux-64::xorg-libxext-1.3.4-h516909a_0\n",
            "  xorg-libxrender    conda-forge/linux-64::xorg-libxrender-0.9.10-h516909a_1002\n",
            "  xorg-renderproto   conda-forge/linux-64::xorg-renderproto-0.11.1-h14c3975_1002\n",
            "  xorg-xextproto     conda-forge/linux-64::xorg-xextproto-7.3.0-h7f98852_1002\n",
            "  xorg-xproto        conda-forge/linux-64::xorg-xproto-7.0.31-h7f98852_1007\n",
            "  zstd               conda-forge/linux-64::zstd-1.4.8-ha95c52a_1\n",
            "\n",
            "The following packages will be UPDATED:\n",
            "\n",
            "  ca-certificates     pkgs/main::ca-certificates-2020.1.1-0 --> conda-forge::ca-certificates-2020.12.5-ha878542_0\n",
            "  certifi              pkgs/main::certifi-2020.4.5.1-py37_0 --> conda-forge::certifi-2020.12.5-py37h89c1867_1\n",
            "  conda                       pkgs/main::conda-4.8.3-py37_0 --> conda-forge::conda-4.9.2-py37h89c1867_0\n",
            "  libgcc-ng           pkgs/main::libgcc-ng-9.1.0-hdf63c60_0 --> conda-forge::libgcc-ng-9.3.0-h2828fa1_18\n",
            "  libstdcxx-ng       pkgs/main::libstdcxx-ng-9.1.0-hdf63c6~ --> conda-forge::libstdcxx-ng-9.3.0-h6de172a_18\n",
            "  openssl              pkgs/main::openssl-1.1.1g-h7b6447c_0 --> conda-forge::openssl-1.1.1j-h7f98852_0\n",
            "  tk                         pkgs/main::tk-8.6.8-hbc83047_0 --> conda-forge::tk-8.6.10-h21135ba_1\n",
            "\n",
            "The following packages will be SUPERSEDED by a higher-priority channel:\n",
            "\n",
            "  _libgcc_mutex           pkgs/main::_libgcc_mutex-0.1-main --> conda-forge::_libgcc_mutex-0.1-conda_forge\n",
            "\n",
            "\n",
            "Preparing transaction: ...working... done\n",
            "Verifying transaction: ...working... done\n",
            "Executing transaction: ...working... done\n",
            "\n",
            "real\t1m4.334s\n",
            "user\t0m54.580s\n",
            "sys\t0m5.290s\n",
            "\u001b[31mERROR: Could not find a version that satisfies the requirement rdkit (from versions: none)\u001b[0m\n",
            "\u001b[31mERROR: No matching distribution found for rdkit\u001b[0m\n",
            "Collecting mordred\n",
            "  Downloading mordred-1.2.0.tar.gz (128 kB)\n",
            "\u001b[K     |████████████████████████████████| 128 kB 12.3 MB/s \n",
            "\u001b[?25hRequirement already satisfied: six==1.* in /usr/local/lib/python3.7/site-packages (from mordred) (1.14.0)\n",
            "Requirement already satisfied: numpy==1.* in /usr/local/lib/python3.7/site-packages (from mordred) (1.20.1)\n",
            "Collecting networkx==2.*\n",
            "  Downloading networkx-2.5-py3-none-any.whl (1.6 MB)\n",
            "\u001b[K     |████████████████████████████████| 1.6 MB 22.2 MB/s \n",
            "\u001b[?25hCollecting decorator>=4.3.0\n",
            "  Downloading decorator-4.4.2-py2.py3-none-any.whl (9.2 kB)\n",
            "Building wheels for collected packages: mordred\n",
            "  Building wheel for mordred (setup.py) ... \u001b[?25l\u001b[?25hdone\n",
            "  Created wheel for mordred: filename=mordred-1.2.0-py3-none-any.whl size=176719 sha256=32751d25285cab5f4650e8905eba75c8b5d93f8bf809bf5d0176a800a9b0a892\n",
            "  Stored in directory: /root/.cache/pip/wheels/02/c0/2e/e7e3d63b431777712ebc128bc4deb9ac5cb19afc7c1ea341ec\n",
            "Successfully built mordred\n",
            "Installing collected packages: decorator, networkx, mordred\n",
            "Successfully installed decorator-4.4.2 mordred-1.2.0 networkx-2.5\n"
          ],
          "name": "stdout"
        },
        {
          "output_type": "display_data",
          "data": {
            "application/vnd.colab-display-data+json": {
              "pip_warning": {
                "packages": [
                  "decorator"
                ]
              }
            }
          },
          "metadata": {
            "tags": []
          }
        },
        {
          "output_type": "stream",
          "text": [
            "Collecting catboost\n",
            "  Downloading catboost-0.24.4-cp37-none-manylinux1_x86_64.whl (65.7 MB)\n",
            "\u001b[K     |████████████████████████████████| 65.7 MB 11 kB/s \n",
            "\u001b[?25hCollecting plotly\n",
            "  Downloading plotly-4.14.3-py2.py3-none-any.whl (13.2 MB)\n",
            "\u001b[K     |████████████████████████████████| 13.2 MB 56.2 MB/s \n",
            "\u001b[?25hRequirement already satisfied: six in /usr/local/lib/python3.7/site-packages (from catboost) (1.14.0)\n",
            "Requirement already satisfied: pandas>=0.24.0 in /usr/local/lib/python3.7/site-packages (from catboost) (1.2.2)\n",
            "Requirement already satisfied: numpy>=1.16.0 in /usr/local/lib/python3.7/site-packages (from catboost) (1.20.1)\n",
            "Requirement already satisfied: matplotlib in /usr/local/lib/python3.7/site-packages (from catboost) (3.3.4)\n",
            "Collecting scipy\n",
            "  Downloading scipy-1.6.1-cp37-cp37m-manylinux1_x86_64.whl (27.4 MB)\n",
            "\u001b[K     |████████████████████████████████| 27.4 MB 72 kB/s \n",
            "\u001b[?25hCollecting graphviz\n",
            "  Downloading graphviz-0.16-py2.py3-none-any.whl (19 kB)\n",
            "Collecting retrying>=1.3.3\n",
            "  Downloading retrying-1.3.3.tar.gz (10 kB)\n",
            "Requirement already satisfied: python-dateutil>=2.7.3 in /usr/local/lib/python3.7/site-packages (from pandas>=0.24.0->catboost) (2.8.1)\n",
            "Requirement already satisfied: pytz>=2017.3 in /usr/local/lib/python3.7/site-packages (from pandas>=0.24.0->catboost) (2021.1)\n",
            "Requirement already satisfied: pillow>=6.2.0 in /usr/local/lib/python3.7/site-packages (from matplotlib->catboost) (8.1.0)\n",
            "Requirement already satisfied: cycler>=0.10 in /usr/local/lib/python3.7/site-packages (from matplotlib->catboost) (0.10.0)\n",
            "Requirement already satisfied: kiwisolver>=1.0.1 in /usr/local/lib/python3.7/site-packages (from matplotlib->catboost) (1.3.1)\n",
            "Requirement already satisfied: pyparsing!=2.0.4,!=2.1.2,!=2.1.6,>=2.0.3 in /usr/local/lib/python3.7/site-packages (from matplotlib->catboost) (2.4.7)\n",
            "Building wheels for collected packages: retrying\n",
            "  Building wheel for retrying (setup.py) ... \u001b[?25l\u001b[?25hdone\n",
            "  Created wheel for retrying: filename=retrying-1.3.3-py3-none-any.whl size=11430 sha256=d8208b24e51f5688e308a55e89cc3252da3d3f88569e1923a8a6c816c3d27b68\n",
            "  Stored in directory: /root/.cache/pip/wheels/f9/8d/8d/f6af3f7f9eea3553bc2fe6d53e4b287dad18b06a861ac56ddf\n",
            "Successfully built retrying\n",
            "Installing collected packages: retrying, plotly, scipy, graphviz, catboost\n",
            "Successfully installed catboost-0.24.4 graphviz-0.16 plotly-4.14.3 retrying-1.3.3 scipy-1.6.1\n"
          ],
          "name": "stdout"
        }
      ]
    },
    {
      "cell_type": "markdown",
      "metadata": {
        "id": "rGtWS-xAhqjS"
      },
      "source": [
        "# Data Preprocessing and Transformation\r\n",
        "\r\n"
      ]
    },
    {
      "cell_type": "markdown",
      "metadata": {
        "id": "is8ND83jiDKe"
      },
      "source": [
        ">Import all the dataset from the Google Drive"
      ]
    },
    {
      "cell_type": "code",
      "metadata": {
        "id": "t7VqxGzN-VdH",
        "colab": {
          "base_uri": "https://localhost:8080/"
        },
        "outputId": "4f476784-6bd1-46be-f3be-465a1f243cbe"
      },
      "source": [
        "# Load the Drive helper and mount\r\n",
        "from google.colab import drive\r\n",
        "\r\n",
        "# This will prompt for authos# Load the Drive helper and mount\r\n",
        "from google.colab import drive\r\n",
        "\r\n",
        "# This will prompt for authoization.\r\n",
        "drive.mount('/content/drive', force_remount=True)\r\n",
        "\r\n",
        "# After executing the cell above, Drive\r\n",
        "# files will be present in \"/content/drive/My Drive\".\r\n",
        "!ls \"/content/drive/My Drive/ChemBL\""
      ],
      "execution_count": 2,
      "outputs": [
        {
          "output_type": "stream",
          "text": [
            "Mounted at /content/drive\n",
            "5ht1A.csv  at1.csv  fxa.csv\t\t  hivp.csv  pde4.csv   subp.csv\n",
            "5ht3.csv   cox.csv  gplearn_functions.py  mmp1.csv  pkc.csv    thrm.csv\n",
            "ache.csv   d2.csv   gplearn_genetic.py\t  mmp.csv   renin.csv\n"
          ],
          "name": "stdout"
        }
      ]
    },
    {
      "cell_type": "code",
      "metadata": {
        "id": "0sNGJGaypWtL"
      },
      "source": [
        "import pandas as pd\n",
        "import numpy as np\n",
        "from glob import glob\n",
        "\n",
        "filenames = glob('/content/drive/My Drive/ChemBL/*.csv')\n",
        "dataframes = [pd.read_csv(f) for f in filenames]"
      ],
      "execution_count": 3,
      "outputs": []
    },
    {
      "cell_type": "code",
      "metadata": {
        "id": "n7947luoGzze"
      },
      "source": [
        "dataList = []\r\n",
        "\r\n",
        "for dataframe in dataframes:\r\n",
        "  #dataframe = pd.DataFrame(dataframe)\r\n",
        "  dataList.append(dataframe)\r\n",
        "  \r\n",
        "#print(dataList)"
      ],
      "execution_count": 4,
      "outputs": []
    },
    {
      "cell_type": "markdown",
      "metadata": {
        "id": "e39sVnVqVvWz"
      },
      "source": [
        "> From the data observation, we can see that all the datasets have **169 cols**. So I did the data preprocessing by using standard scaler to check any missing value inside the dataset.\r\n",
        "\r\n"
      ]
    },
    {
      "cell_type": "code",
      "metadata": {
        "id": "aQylmH9RxWS9"
      },
      "source": [
        "index = [#'Column1', 'Column9',\t\r\n",
        "         'MDLPublicKeys[1]', 'MDLPublicKeys[2]', 'MDLPublicKeys[3]', 'MDLPublicKeys[4]',\r\n",
        "         'MDLPublicKeys[5]', 'MDLPublicKeys[6]', 'MDLPublicKeys[7]', 'MDLPublicKeys[8]',\r\n",
        "         'MDLPublicKeys[9]', 'MDLPublicKeys[10]', 'MDLPublicKeys[11]', 'MDLPublicKeys[12]',\r\n",
        "         'MDLPublicKeys[13]', 'MDLPublicKeys[14]', 'MDLPublicKeys[15]', 'MDLPublicKeys[16]',\r\n",
        "         'MDLPublicKeys[17]', 'MDLPublicKeys[18]',' MDLPublicKeys[19]', 'MDLPublicKeys[20]',\r\n",
        "         'MDLPublicKeys[21]', 'MDLPublicKeys[22]', 'MDLPublicKeys[23]', 'MDLPublicKeys[24]',\r\n",
        "         'MDLPublicKeys[25]', 'MDLPublicKeys[26]', 'MDLPublicKeys[27]', 'MDLPublicKeys[28]',\r\n",
        "         'MDLPublicKeys[29]', 'MDLPublicKeys[30]', 'MDLPublicKeys[31]', 'MDLPublicKeys[32]',\r\n",
        "         'MDLPublicKeys[33]', 'MDLPublicKeys[34]', 'MDLPublicKeys[35]',\t'MDLPublicKeys[36]',\r\n",
        "         'MDLPublicKeys[37]',\t'MDLPublicKeys[38]',\t'MDLPublicKeys[39]', 'MDLPublicKeys[40]',\r\n",
        "         'MDLPublicKeys[41]',\t'MDLPublicKeys[42]',\t'MDLPublicKeys[43]', 'MDLPublicKeys[44]',\r\n",
        "         'MDLPublicKeys[45]',\t'MDLPublicKeys[46]',\t'MDLPublicKeys[47]', 'MDLPublicKeys[48]',\r\n",
        "         'MDLPublicKeys[49]',\t'MDLPublicKeys[50]', 'MDLPublicKeys[51]',\t'MDLPublicKeys[52]', 'MDLPublicKeys[53]',\r\n",
        "         'MDLPublicKeys[54]',\t'MDLPublicKeys[55]', 'MDLPublicKeys[56]',\t'MDLPublicKeys[57]',\t'MDLPublicKeys[58]',\r\n",
        "         'MDLPublicKeys[59]', 'MDLPublicKeys[60]', 'MDLPublicKeys[61]', 'MDLPublicKeys[62]',\r\n",
        "         'MDLPublicKeys[63]',\t'MDLPublicKeys[64]', 'MDLPublicKeys[65]',\t'MDLPublicKeys[66]',\t\r\n",
        "         'MDLPublicKeys[67]', 'MDLPublicKeys[68]', 'MDLPublicKeys[69]', 'MDLPublicKeys[70]',\r\n",
        "         'MDLPublicKeys[71]', 'MDLPublicKeys[72]', 'MDLPublicKeys[73]', 'MDLPublicKeys[74]', 'MDLPublicKeys[75]', 'MDLPublicKeys[76]',\r\n",
        "         'MDLPublicKeys[77]', 'MDLPublicKeys[78]', 'MDLPublicKeys[79]','MDLPublicKeys[80]',\t\r\n",
        "         'MDLPublicKeys[81]', 'MDLPublicKeys[82]', 'MDLPublicKeys[83]','MDLPublicKeys[84]',\t\r\n",
        "         'MDLPublicKeys[85]', 'MDLPublicKeys[86]', 'MDLPublicKeys[87]','MDLPublicKeys[88]',\r\n",
        "         'MDLPublicKeys[89]', 'MDLPublicKeys[90]', 'MDLPublicKeys[91]','MDLPublicKeys[92]',\r\n",
        "         'MDLPublicKeys[93]', 'MDLPublicKeys[94]', 'MDLPublicKeys[95]','MDLPublicKeys[96]',\r\n",
        "         'MDLPublicKeys[97]', 'MDLPublicKeys[98]', 'MDLPublicKeys[99]','MDLPublicKeys[100]',\r\n",
        "         'MDLPublicKeys[101]', 'MDLPublicKeys[102]', 'MDLPublicKeys[103]','MDLPublicKeys[104]',\r\n",
        "         'MDLPublicKeys[105]', 'MDLPublicKeys[106]', 'MDLPublicKeys[107]','MDLPublicKeys[108]',\r\n",
        "         'MDLPublicKeys[109]', 'MDLPublicKeys[110]', 'MDLPublicKeys[111]','MDLPublicKeys[112]',\r\n",
        "         'MDLPublicKeys[113]', 'MDLPublicKeys[114]', 'MDLPublicKeys[115]','MDLPublicKeys[116]',\r\n",
        "         'MDLPublicKeys[117]', 'MDLPublicKeys[118]', 'MDLPublicKeys[119]', 'MDLPublicKeys[120]',\r\n",
        "         'MDLPublicKeys[121]', 'MDLPublicKeys[122]', 'MDLPublicKeys[123]', 'MDLPublicKeys[124]',\r\n",
        "         'MDLPublicKeys[125]', 'MDLPublicKeys[126]', 'MDLPublicKeys[127]', 'MDLPublicKeys[128]',\r\n",
        "         'MDLPublicKeys[129]', 'MDLPublicKeys[130]', 'MDLPublicKeys[131]', 'MDLPublicKeys[132]',\r\n",
        "         'MDLPublicKeys[133]', 'MDLPublicKeys[134]', 'MDLPublicKeys[135]', 'MDLPublicKeys[136]',\r\n",
        "         'MDLPublicKeys[137]', 'MDLPublicKeys[138]', 'MDLPublicKeys[139]', 'MDLPublicKeys[140]',\r\n",
        "         'MDLPublicKeys[141]', 'MDLPublicKeys[142]', 'MDLPublicKeys[143]', 'MDLPublicKeys[144]',\r\n",
        "         'MDLPublicKeys[145]', 'MDLPublicKeys[146]', 'MDLPublicKeys[147]', 'MDLPublicKeys[148]',\r\n",
        "         'MDLPublicKeys[149]', 'MDLPublicKeys[150]', 'MDLPublicKeys[151]', 'MDLPublicKeys[152]', \r\n",
        "         'MDLPublicKeys[153]', 'MDLPublicKeys[154]', 'MDLPublicKeys[155]', 'MDLPublicKeys[156]', \r\n",
        "         'MDLPublicKeys[157]', 'MDLPublicKeys[158]', 'MDLPublicKeys[159]', 'MDLPublicKeys[160]', \r\n",
        "         'MDLPublicKeys[161]','MDLPublicKeys[162]', 'MDLPublicKeys[163]', 'MDLPublicKeys[164]',\r\n",
        "         'MDLPublicKeys[165]', 'MDLPublicKeys[166]'\r\n",
        "         #'CLASS_LABEL'\r\n",
        "         ]"
      ],
      "execution_count": 5,
      "outputs": []
    },
    {
      "cell_type": "markdown",
      "metadata": {
        "id": "UBOxudbLWZ20"
      },
      "source": [
        "After the data preprocessing, we can know that all of them do not has any missing value."
      ]
    },
    {
      "cell_type": "markdown",
      "metadata": {
        "id": "a99OYrBPWqm9"
      },
      "source": [
        "# Genetic Programming"
      ]
    },
    {
      "cell_type": "code",
      "metadata": {
        "id": "EtE4bRWiPHsU",
        "colab": {
          "base_uri": "https://localhost:8080/"
        },
        "outputId": "1c729739-79eb-4c85-9ff1-aa6377360a29"
      },
      "source": [
        "import random\n",
        "import operator\n",
        "import math\n",
        "\n",
        "from deap import algorithms, base, creator, gp, tools\n",
        "from gplearn.functions import make_function\n",
        "from gplearn.genetic import SymbolicRegressor\n",
        "%pylab inline\n",
        "from sklearn.ensemble import RandomForestRegressor\n",
        "from sklearn.tree import DecisionTreeRegressor\n",
        "#from linear_genetic_programming.lgp_classifier import LGPClassifier\n",
        "\n",
        "from sympy import *\n",
        "from sklearn.model_selection import train_test_split\n",
        "from sklearn.metrics import accuracy_score\n",
        "from sklearn import metrics"
      ],
      "execution_count": 6,
      "outputs": [
        {
          "output_type": "stream",
          "text": [
            "Populating the interactive namespace from numpy and matplotlib\n"
          ],
          "name": "stdout"
        },
        {
          "output_type": "stream",
          "text": [
            "/usr/local/lib/python3.6/dist-packages/IPython/core/magics/pylab.py:161: UserWarning: pylab import has clobbered these variables: ['random']\n",
            "`%matplotlib` prevents importing * from pylab and numpy\n",
            "  \"\\n`%matplotlib` prevents importing * from pylab and numpy\"\n"
          ],
          "name": "stderr"
        }
      ]
    },
    {
      "cell_type": "code",
      "metadata": {
        "colab": {
          "base_uri": "https://localhost:8080/"
        },
        "id": "-9kWXocd1_3G",
        "outputId": "8bd200c1-8067-4ee2-d9b9-a55234dc99ac"
      },
      "source": [
        "import operator\r\n",
        "## CREATE EQUATION \r\n",
        "\"\"\"\r\n",
        "Terminal \r\n",
        "N: total number of compounds, \r\n",
        "NACT: number of active compounds, \r\n",
        "NINACT: number of inactive compounds, \r\n",
        "TOT: total number of compounds containing fragment I (O, N, C, H, Br, I, Cl, F, S, or P)\r\n",
        "ACT: total number of active compounds containing fragment I, \r\n",
        "INACT: total number of inactive compounds containing fragment I\r\n",
        "\"\"\"\r\n",
        "\r\n",
        "val1 = {\"terminal\": \"NINACT\"}\r\n",
        "val2 = {\"terminal\": \"N\"}\r\n",
        "val3 = {\"terminal\": \"NACT\"}\r\n",
        "val4 = {\"terminal\": \"INACT\"}\r\n",
        "val5 = {\"terminal\": \"TOT\"}\r\n",
        "val6 = {\"terminal\": \"ACT\"}\r\n",
        "\r\n",
        "node1 = {\r\n",
        "    \"func\": operator.sub,\r\n",
        "    \"children\": [val2, val6],\r\n",
        "    \"format_str\": \"({} - {})\",\r\n",
        "}\r\n",
        "program = {\r\n",
        "    \"func\": operator.mul,\r\n",
        "    \"children\": [node1, val5],\r\n",
        "    \"format_str\": \"({} * {})\",\r\n",
        "}\r\n",
        "\r\n",
        "def render_prog(node):\r\n",
        "    if \"children\" not in node:\r\n",
        "        return node[\"terminal\"]\r\n",
        "    return node[\"format_str\"].format(*[render_prog(c) for c in node[\"children\"]])\r\n",
        "\r\n",
        "print(render_prog(program))"
      ],
      "execution_count": null,
      "outputs": [
        {
          "output_type": "stream",
          "text": [
            "((N - ACT) * TOT)\n"
          ],
          "name": "stdout"
        }
      ]
    },
    {
      "cell_type": "code",
      "metadata": {
        "colab": {
          "base_uri": "https://localhost:8080/",
          "height": 1000
        },
        "id": "HEhGaeam6fa2",
        "outputId": "6c7dca20-21aa-44cb-c0a8-d45549dfc9d7"
      },
      "source": [
        "def evaluate(node, row):\r\n",
        "    if \"children\" not in node:\r\n",
        "        return node[\"terminal\"]\r\n",
        "    return node[\"func\"](*[\r\n",
        "                          evaluate(c, row)\r\n",
        "                          for c in node[\"children\"]\r\n",
        "                          ])\r\n",
        "\r\n",
        "for dataframe in dataframes:\r\n",
        "  #'Column1','Column9',\r\n",
        "  #dt_train = dataframe.drop(['CLASS_LABEL'], axis=1, inplace=True)\r\n",
        "  #dt_test = dataframe.pop('CLASS_LABEL')\r\n",
        "  print(evaluate(program, dataframe.iloc[:,0:166]))"
      ],
      "execution_count": null,
      "outputs": [
        {
          "output_type": "error",
          "ename": "KeyError",
          "evalue": "ignored",
          "traceback": [
            "\u001b[0;31m---------------------------------------------------------------------------\u001b[0m",
            "\u001b[0;31mKeyError\u001b[0m                                  Traceback (most recent call last)",
            "\u001b[0;32m/usr/local/lib/python3.6/dist-packages/pandas/core/indexes/base.py\u001b[0m in \u001b[0;36mget_loc\u001b[0;34m(self, key, method, tolerance)\u001b[0m\n\u001b[1;32m   2897\u001b[0m             \u001b[0;32mtry\u001b[0m\u001b[0;34m:\u001b[0m\u001b[0;34m\u001b[0m\u001b[0;34m\u001b[0m\u001b[0m\n\u001b[0;32m-> 2898\u001b[0;31m                 \u001b[0;32mreturn\u001b[0m \u001b[0mself\u001b[0m\u001b[0;34m.\u001b[0m\u001b[0m_engine\u001b[0m\u001b[0;34m.\u001b[0m\u001b[0mget_loc\u001b[0m\u001b[0;34m(\u001b[0m\u001b[0mcasted_key\u001b[0m\u001b[0;34m)\u001b[0m\u001b[0;34m\u001b[0m\u001b[0;34m\u001b[0m\u001b[0m\n\u001b[0m\u001b[1;32m   2899\u001b[0m             \u001b[0;32mexcept\u001b[0m \u001b[0mKeyError\u001b[0m \u001b[0;32mas\u001b[0m \u001b[0merr\u001b[0m\u001b[0;34m:\u001b[0m\u001b[0;34m\u001b[0m\u001b[0;34m\u001b[0m\u001b[0m\n",
            "\u001b[0;32mpandas/_libs/index.pyx\u001b[0m in \u001b[0;36mpandas._libs.index.IndexEngine.get_loc\u001b[0;34m()\u001b[0m\n",
            "\u001b[0;32mpandas/_libs/index.pyx\u001b[0m in \u001b[0;36mpandas._libs.index.IndexEngine.get_loc\u001b[0;34m()\u001b[0m\n",
            "\u001b[0;32mpandas/_libs/hashtable_class_helper.pxi\u001b[0m in \u001b[0;36mpandas._libs.hashtable.PyObjectHashTable.get_item\u001b[0;34m()\u001b[0m\n",
            "\u001b[0;32mpandas/_libs/hashtable_class_helper.pxi\u001b[0m in \u001b[0;36mpandas._libs.hashtable.PyObjectHashTable.get_item\u001b[0;34m()\u001b[0m\n",
            "\u001b[0;31mKeyError\u001b[0m: 'N'",
            "\nThe above exception was the direct cause of the following exception:\n",
            "\u001b[0;31mKeyError\u001b[0m                                  Traceback (most recent call last)",
            "\u001b[0;32m<ipython-input-80-b8498235a6ce>\u001b[0m in \u001b[0;36m<module>\u001b[0;34m()\u001b[0m\n\u001b[1;32m     11\u001b[0m   \u001b[0;31m#dt_train = dataframe.drop(['CLASS_LABEL'], axis=1, inplace=True)\u001b[0m\u001b[0;34m\u001b[0m\u001b[0;34m\u001b[0m\u001b[0;34m\u001b[0m\u001b[0m\n\u001b[1;32m     12\u001b[0m   \u001b[0;31m#dt_test = dataframe.pop('CLASS_LABEL')\u001b[0m\u001b[0;34m\u001b[0m\u001b[0;34m\u001b[0m\u001b[0;34m\u001b[0m\u001b[0m\n\u001b[0;32m---> 13\u001b[0;31m   \u001b[0mprint\u001b[0m\u001b[0;34m(\u001b[0m\u001b[0mevaluate\u001b[0m\u001b[0;34m(\u001b[0m\u001b[0mprogram\u001b[0m\u001b[0;34m,\u001b[0m \u001b[0mdataframe\u001b[0m\u001b[0;34m.\u001b[0m\u001b[0miloc\u001b[0m\u001b[0;34m[\u001b[0m\u001b[0;34m:\u001b[0m\u001b[0;34m,\u001b[0m\u001b[0;36m0\u001b[0m\u001b[0;34m:\u001b[0m\u001b[0;36m166\u001b[0m\u001b[0;34m]\u001b[0m\u001b[0;34m)\u001b[0m\u001b[0;34m)\u001b[0m\u001b[0;34m\u001b[0m\u001b[0;34m\u001b[0m\u001b[0m\n\u001b[0m",
            "\u001b[0;32m<ipython-input-80-b8498235a6ce>\u001b[0m in \u001b[0;36mevaluate\u001b[0;34m(node, row)\u001b[0m\n\u001b[1;32m      4\u001b[0m     return node[\"func\"](*[\n\u001b[1;32m      5\u001b[0m                           \u001b[0mevaluate\u001b[0m\u001b[0;34m(\u001b[0m\u001b[0mc\u001b[0m\u001b[0;34m,\u001b[0m \u001b[0mrow\u001b[0m\u001b[0;34m)\u001b[0m\u001b[0;34m\u001b[0m\u001b[0;34m\u001b[0m\u001b[0m\n\u001b[0;32m----> 6\u001b[0;31m                           \u001b[0;32mfor\u001b[0m \u001b[0mc\u001b[0m \u001b[0;32min\u001b[0m \u001b[0mnode\u001b[0m\u001b[0;34m[\u001b[0m\u001b[0;34m\"children\"\u001b[0m\u001b[0;34m]\u001b[0m\u001b[0;34m\u001b[0m\u001b[0;34m\u001b[0m\u001b[0m\n\u001b[0m\u001b[1;32m      7\u001b[0m                           ])\n\u001b[1;32m      8\u001b[0m \u001b[0;34m\u001b[0m\u001b[0m\n",
            "\u001b[0;32m<ipython-input-80-b8498235a6ce>\u001b[0m in \u001b[0;36m<listcomp>\u001b[0;34m(.0)\u001b[0m\n\u001b[1;32m      4\u001b[0m     return node[\"func\"](*[\n\u001b[1;32m      5\u001b[0m                           \u001b[0mevaluate\u001b[0m\u001b[0;34m(\u001b[0m\u001b[0mc\u001b[0m\u001b[0;34m,\u001b[0m \u001b[0mrow\u001b[0m\u001b[0;34m)\u001b[0m\u001b[0;34m\u001b[0m\u001b[0;34m\u001b[0m\u001b[0m\n\u001b[0;32m----> 6\u001b[0;31m                           \u001b[0;32mfor\u001b[0m \u001b[0mc\u001b[0m \u001b[0;32min\u001b[0m \u001b[0mnode\u001b[0m\u001b[0;34m[\u001b[0m\u001b[0;34m\"children\"\u001b[0m\u001b[0;34m]\u001b[0m\u001b[0;34m\u001b[0m\u001b[0;34m\u001b[0m\u001b[0m\n\u001b[0m\u001b[1;32m      7\u001b[0m                           ])\n\u001b[1;32m      8\u001b[0m \u001b[0;34m\u001b[0m\u001b[0m\n",
            "\u001b[0;32m<ipython-input-80-b8498235a6ce>\u001b[0m in \u001b[0;36mevaluate\u001b[0;34m(node, row)\u001b[0m\n\u001b[1;32m      4\u001b[0m     return node[\"func\"](*[\n\u001b[1;32m      5\u001b[0m                           \u001b[0mevaluate\u001b[0m\u001b[0;34m(\u001b[0m\u001b[0mc\u001b[0m\u001b[0;34m,\u001b[0m \u001b[0mrow\u001b[0m\u001b[0;34m)\u001b[0m\u001b[0;34m\u001b[0m\u001b[0;34m\u001b[0m\u001b[0m\n\u001b[0;32m----> 6\u001b[0;31m                           \u001b[0;32mfor\u001b[0m \u001b[0mc\u001b[0m \u001b[0;32min\u001b[0m \u001b[0mnode\u001b[0m\u001b[0;34m[\u001b[0m\u001b[0;34m\"children\"\u001b[0m\u001b[0;34m]\u001b[0m\u001b[0;34m\u001b[0m\u001b[0;34m\u001b[0m\u001b[0m\n\u001b[0m\u001b[1;32m      7\u001b[0m                           ])\n\u001b[1;32m      8\u001b[0m \u001b[0;34m\u001b[0m\u001b[0m\n",
            "\u001b[0;32m<ipython-input-80-b8498235a6ce>\u001b[0m in \u001b[0;36m<listcomp>\u001b[0;34m(.0)\u001b[0m\n\u001b[1;32m      4\u001b[0m     return node[\"func\"](*[\n\u001b[1;32m      5\u001b[0m                           \u001b[0mevaluate\u001b[0m\u001b[0;34m(\u001b[0m\u001b[0mc\u001b[0m\u001b[0;34m,\u001b[0m \u001b[0mrow\u001b[0m\u001b[0;34m)\u001b[0m\u001b[0;34m\u001b[0m\u001b[0;34m\u001b[0m\u001b[0m\n\u001b[0;32m----> 6\u001b[0;31m                           \u001b[0;32mfor\u001b[0m \u001b[0mc\u001b[0m \u001b[0;32min\u001b[0m \u001b[0mnode\u001b[0m\u001b[0;34m[\u001b[0m\u001b[0;34m\"children\"\u001b[0m\u001b[0;34m]\u001b[0m\u001b[0;34m\u001b[0m\u001b[0;34m\u001b[0m\u001b[0m\n\u001b[0m\u001b[1;32m      7\u001b[0m                           ])\n\u001b[1;32m      8\u001b[0m \u001b[0;34m\u001b[0m\u001b[0m\n",
            "\u001b[0;32m<ipython-input-80-b8498235a6ce>\u001b[0m in \u001b[0;36mevaluate\u001b[0;34m(node, row)\u001b[0m\n\u001b[1;32m      1\u001b[0m \u001b[0;32mdef\u001b[0m \u001b[0mevaluate\u001b[0m\u001b[0;34m(\u001b[0m\u001b[0mnode\u001b[0m\u001b[0;34m,\u001b[0m \u001b[0mrow\u001b[0m\u001b[0;34m)\u001b[0m\u001b[0;34m:\u001b[0m\u001b[0;34m\u001b[0m\u001b[0;34m\u001b[0m\u001b[0m\n\u001b[1;32m      2\u001b[0m     \u001b[0;32mif\u001b[0m \u001b[0;34m\"children\"\u001b[0m \u001b[0;32mnot\u001b[0m \u001b[0;32min\u001b[0m \u001b[0mnode\u001b[0m\u001b[0;34m:\u001b[0m\u001b[0;34m\u001b[0m\u001b[0;34m\u001b[0m\u001b[0m\n\u001b[0;32m----> 3\u001b[0;31m         \u001b[0;32mreturn\u001b[0m \u001b[0mrow\u001b[0m\u001b[0;34m[\u001b[0m\u001b[0mnode\u001b[0m\u001b[0;34m[\u001b[0m\u001b[0;34m\"terminal\"\u001b[0m\u001b[0;34m]\u001b[0m\u001b[0;34m]\u001b[0m\u001b[0;34m\u001b[0m\u001b[0;34m\u001b[0m\u001b[0m\n\u001b[0m\u001b[1;32m      4\u001b[0m     return node[\"func\"](*[\n\u001b[1;32m      5\u001b[0m                           \u001b[0mevaluate\u001b[0m\u001b[0;34m(\u001b[0m\u001b[0mc\u001b[0m\u001b[0;34m,\u001b[0m \u001b[0mrow\u001b[0m\u001b[0;34m)\u001b[0m\u001b[0;34m\u001b[0m\u001b[0;34m\u001b[0m\u001b[0m\n",
            "\u001b[0;32m/usr/local/lib/python3.6/dist-packages/pandas/core/frame.py\u001b[0m in \u001b[0;36m__getitem__\u001b[0;34m(self, key)\u001b[0m\n\u001b[1;32m   2904\u001b[0m             \u001b[0;32mif\u001b[0m \u001b[0mself\u001b[0m\u001b[0;34m.\u001b[0m\u001b[0mcolumns\u001b[0m\u001b[0;34m.\u001b[0m\u001b[0mnlevels\u001b[0m \u001b[0;34m>\u001b[0m \u001b[0;36m1\u001b[0m\u001b[0;34m:\u001b[0m\u001b[0;34m\u001b[0m\u001b[0;34m\u001b[0m\u001b[0m\n\u001b[1;32m   2905\u001b[0m                 \u001b[0;32mreturn\u001b[0m \u001b[0mself\u001b[0m\u001b[0;34m.\u001b[0m\u001b[0m_getitem_multilevel\u001b[0m\u001b[0;34m(\u001b[0m\u001b[0mkey\u001b[0m\u001b[0;34m)\u001b[0m\u001b[0;34m\u001b[0m\u001b[0;34m\u001b[0m\u001b[0m\n\u001b[0;32m-> 2906\u001b[0;31m             \u001b[0mindexer\u001b[0m \u001b[0;34m=\u001b[0m \u001b[0mself\u001b[0m\u001b[0;34m.\u001b[0m\u001b[0mcolumns\u001b[0m\u001b[0;34m.\u001b[0m\u001b[0mget_loc\u001b[0m\u001b[0;34m(\u001b[0m\u001b[0mkey\u001b[0m\u001b[0;34m)\u001b[0m\u001b[0;34m\u001b[0m\u001b[0;34m\u001b[0m\u001b[0m\n\u001b[0m\u001b[1;32m   2907\u001b[0m             \u001b[0;32mif\u001b[0m \u001b[0mis_integer\u001b[0m\u001b[0;34m(\u001b[0m\u001b[0mindexer\u001b[0m\u001b[0;34m)\u001b[0m\u001b[0;34m:\u001b[0m\u001b[0;34m\u001b[0m\u001b[0;34m\u001b[0m\u001b[0m\n\u001b[1;32m   2908\u001b[0m                 \u001b[0mindexer\u001b[0m \u001b[0;34m=\u001b[0m \u001b[0;34m[\u001b[0m\u001b[0mindexer\u001b[0m\u001b[0;34m]\u001b[0m\u001b[0;34m\u001b[0m\u001b[0;34m\u001b[0m\u001b[0m\n",
            "\u001b[0;32m/usr/local/lib/python3.6/dist-packages/pandas/core/indexes/base.py\u001b[0m in \u001b[0;36mget_loc\u001b[0;34m(self, key, method, tolerance)\u001b[0m\n\u001b[1;32m   2898\u001b[0m                 \u001b[0;32mreturn\u001b[0m \u001b[0mself\u001b[0m\u001b[0;34m.\u001b[0m\u001b[0m_engine\u001b[0m\u001b[0;34m.\u001b[0m\u001b[0mget_loc\u001b[0m\u001b[0;34m(\u001b[0m\u001b[0mcasted_key\u001b[0m\u001b[0;34m)\u001b[0m\u001b[0;34m\u001b[0m\u001b[0;34m\u001b[0m\u001b[0m\n\u001b[1;32m   2899\u001b[0m             \u001b[0;32mexcept\u001b[0m \u001b[0mKeyError\u001b[0m \u001b[0;32mas\u001b[0m \u001b[0merr\u001b[0m\u001b[0;34m:\u001b[0m\u001b[0;34m\u001b[0m\u001b[0;34m\u001b[0m\u001b[0m\n\u001b[0;32m-> 2900\u001b[0;31m                 \u001b[0;32mraise\u001b[0m \u001b[0mKeyError\u001b[0m\u001b[0;34m(\u001b[0m\u001b[0mkey\u001b[0m\u001b[0;34m)\u001b[0m \u001b[0;32mfrom\u001b[0m \u001b[0merr\u001b[0m\u001b[0;34m\u001b[0m\u001b[0;34m\u001b[0m\u001b[0m\n\u001b[0m\u001b[1;32m   2901\u001b[0m \u001b[0;34m\u001b[0m\u001b[0m\n\u001b[1;32m   2902\u001b[0m         \u001b[0;32mif\u001b[0m \u001b[0mtolerance\u001b[0m \u001b[0;32mis\u001b[0m \u001b[0;32mnot\u001b[0m \u001b[0;32mNone\u001b[0m\u001b[0;34m:\u001b[0m\u001b[0;34m\u001b[0m\u001b[0;34m\u001b[0m\u001b[0m\n",
            "\u001b[0;31mKeyError\u001b[0m: 'N'"
          ]
        }
      ]
    },
    {
      "cell_type": "code",
      "metadata": {
        "id": "hs8wEN3Q__oA"
      },
      "source": [
        "def safe_div(a, b):\r\n",
        "    return a / b if b else a\r\n",
        "    \r\n",
        "operations = (\r\n",
        "    {\"func\": operator.add, \"arg_count\": 2, \"format_str\": \"({} + {})\"},\r\n",
        "    {\"func\": operator.sub, \"arg_count\": 2, \"format_str\": \"({} - {})\"},\r\n",
        "    {\"func\": operator.mul, \"arg_count\": 2, \"format_str\": \"({} * {})\"},\r\n",
        "    {\"func\": safe_div, \"arg_count\": 2, \"format_str\": \"({} / {})\"},\r\n",
        "    {\"func\": operator.neg, \"arg_count\": 1, \"format_str\": \"-({})\"},\r\n",
        ")"
      ],
      "execution_count": null,
      "outputs": []
    },
    {
      "cell_type": "code",
      "metadata": {
        "id": "kHnLJRTPAPVr"
      },
      "source": [
        "from random import randint, random, seed\r\n",
        "\r\n",
        "seed(0)\r\n",
        "\r\n",
        "def random_prog(depth):\r\n",
        "    # favor adding function nodes near the tree root and\r\n",
        "    # leaf nodes as depth increases\r\n",
        "    if randint(0, 10) >= depth * 2:\r\n",
        "        op = operations[randint(0, len(operations) - 1)]\r\n",
        "        return {\r\n",
        "            \"func\": op[\"func\"],\r\n",
        "            \"children\": [random_prog(depth + 1) for _ in range(op[\"arg_count\"])],\r\n",
        "            \"format_str\": op[\"format_str\"],\r\n",
        "        }\r\n",
        "    else:\r\n",
        "        return {\"feature_name\": data.columns[randint(0, data.shape[1] - 1)]}"
      ],
      "execution_count": null,
      "outputs": []
    },
    {
      "cell_type": "code",
      "metadata": {
        "colab": {
          "base_uri": "https://localhost:8080/",
          "height": 334
        },
        "id": "SnSQRLUgFPd7",
        "outputId": "126575dc-67ae-4077-c561-8877f6b06aae"
      },
      "source": [
        "POP_SIZE = 300\r\n",
        "population = [random_prog(0) for _ in range(POP_SIZE)]\r\n",
        "\r\n",
        "print(render_prog(population[0]))"
      ],
      "execution_count": null,
      "outputs": [
        {
          "output_type": "error",
          "ename": "AttributeError",
          "evalue": "ignored",
          "traceback": [
            "\u001b[0;31m---------------------------------------------------------------------------\u001b[0m",
            "\u001b[0;31mAttributeError\u001b[0m                            Traceback (most recent call last)",
            "\u001b[0;32m<ipython-input-66-abe0de369120>\u001b[0m in \u001b[0;36m<module>\u001b[0;34m()\u001b[0m\n\u001b[1;32m      1\u001b[0m \u001b[0mPOP_SIZE\u001b[0m \u001b[0;34m=\u001b[0m \u001b[0;36m300\u001b[0m\u001b[0;34m\u001b[0m\u001b[0;34m\u001b[0m\u001b[0m\n\u001b[0;32m----> 2\u001b[0;31m \u001b[0mpopulation\u001b[0m \u001b[0;34m=\u001b[0m \u001b[0;34m[\u001b[0m\u001b[0mrandom_prog\u001b[0m\u001b[0;34m(\u001b[0m\u001b[0;36m0\u001b[0m\u001b[0;34m)\u001b[0m \u001b[0;32mfor\u001b[0m \u001b[0m_\u001b[0m \u001b[0;32min\u001b[0m \u001b[0mrange\u001b[0m\u001b[0;34m(\u001b[0m\u001b[0mPOP_SIZE\u001b[0m\u001b[0;34m)\u001b[0m\u001b[0;34m]\u001b[0m\u001b[0;34m\u001b[0m\u001b[0;34m\u001b[0m\u001b[0m\n\u001b[0m\u001b[1;32m      3\u001b[0m \u001b[0;34m\u001b[0m\u001b[0m\n\u001b[1;32m      4\u001b[0m \u001b[0mprint\u001b[0m\u001b[0;34m(\u001b[0m\u001b[0mrender_prog\u001b[0m\u001b[0;34m(\u001b[0m\u001b[0mpopulation\u001b[0m\u001b[0;34m[\u001b[0m\u001b[0;36m0\u001b[0m\u001b[0;34m]\u001b[0m\u001b[0;34m)\u001b[0m\u001b[0;34m)\u001b[0m\u001b[0;34m\u001b[0m\u001b[0;34m\u001b[0m\u001b[0m\n",
            "\u001b[0;32m<ipython-input-66-abe0de369120>\u001b[0m in \u001b[0;36m<listcomp>\u001b[0;34m(.0)\u001b[0m\n\u001b[1;32m      1\u001b[0m \u001b[0mPOP_SIZE\u001b[0m \u001b[0;34m=\u001b[0m \u001b[0;36m300\u001b[0m\u001b[0;34m\u001b[0m\u001b[0;34m\u001b[0m\u001b[0m\n\u001b[0;32m----> 2\u001b[0;31m \u001b[0mpopulation\u001b[0m \u001b[0;34m=\u001b[0m \u001b[0;34m[\u001b[0m\u001b[0mrandom_prog\u001b[0m\u001b[0;34m(\u001b[0m\u001b[0;36m0\u001b[0m\u001b[0;34m)\u001b[0m \u001b[0;32mfor\u001b[0m \u001b[0m_\u001b[0m \u001b[0;32min\u001b[0m \u001b[0mrange\u001b[0m\u001b[0;34m(\u001b[0m\u001b[0mPOP_SIZE\u001b[0m\u001b[0;34m)\u001b[0m\u001b[0;34m]\u001b[0m\u001b[0;34m\u001b[0m\u001b[0;34m\u001b[0m\u001b[0m\n\u001b[0m\u001b[1;32m      3\u001b[0m \u001b[0;34m\u001b[0m\u001b[0m\n\u001b[1;32m      4\u001b[0m \u001b[0mprint\u001b[0m\u001b[0;34m(\u001b[0m\u001b[0mrender_prog\u001b[0m\u001b[0;34m(\u001b[0m\u001b[0mpopulation\u001b[0m\u001b[0;34m[\u001b[0m\u001b[0;36m0\u001b[0m\u001b[0;34m]\u001b[0m\u001b[0;34m)\u001b[0m\u001b[0;34m)\u001b[0m\u001b[0;34m\u001b[0m\u001b[0;34m\u001b[0m\u001b[0m\n",
            "\u001b[0;32m<ipython-input-65-e39f5b490f82>\u001b[0m in \u001b[0;36mrandom_prog\u001b[0;34m(depth)\u001b[0m\n\u001b[1;32m     10\u001b[0m         return {\n\u001b[1;32m     11\u001b[0m             \u001b[0;34m\"func\"\u001b[0m\u001b[0;34m:\u001b[0m \u001b[0mop\u001b[0m\u001b[0;34m[\u001b[0m\u001b[0;34m\"func\"\u001b[0m\u001b[0;34m]\u001b[0m\u001b[0;34m,\u001b[0m\u001b[0;34m\u001b[0m\u001b[0;34m\u001b[0m\u001b[0m\n\u001b[0;32m---> 12\u001b[0;31m             \u001b[0;34m\"children\"\u001b[0m\u001b[0;34m:\u001b[0m \u001b[0;34m[\u001b[0m\u001b[0mrandom_prog\u001b[0m\u001b[0;34m(\u001b[0m\u001b[0mdepth\u001b[0m \u001b[0;34m+\u001b[0m \u001b[0;36m1\u001b[0m\u001b[0;34m)\u001b[0m \u001b[0;32mfor\u001b[0m \u001b[0m_\u001b[0m \u001b[0;32min\u001b[0m \u001b[0mrange\u001b[0m\u001b[0;34m(\u001b[0m\u001b[0mop\u001b[0m\u001b[0;34m[\u001b[0m\u001b[0;34m\"arg_count\"\u001b[0m\u001b[0;34m]\u001b[0m\u001b[0;34m)\u001b[0m\u001b[0;34m]\u001b[0m\u001b[0;34m,\u001b[0m\u001b[0;34m\u001b[0m\u001b[0;34m\u001b[0m\u001b[0m\n\u001b[0m\u001b[1;32m     13\u001b[0m             \u001b[0;34m\"format_str\"\u001b[0m\u001b[0;34m:\u001b[0m \u001b[0mop\u001b[0m\u001b[0;34m[\u001b[0m\u001b[0;34m\"format_str\"\u001b[0m\u001b[0;34m]\u001b[0m\u001b[0;34m,\u001b[0m\u001b[0;34m\u001b[0m\u001b[0;34m\u001b[0m\u001b[0m\n\u001b[1;32m     14\u001b[0m         }\n",
            "\u001b[0;32m<ipython-input-65-e39f5b490f82>\u001b[0m in \u001b[0;36m<listcomp>\u001b[0;34m(.0)\u001b[0m\n\u001b[1;32m     10\u001b[0m         return {\n\u001b[1;32m     11\u001b[0m             \u001b[0;34m\"func\"\u001b[0m\u001b[0;34m:\u001b[0m \u001b[0mop\u001b[0m\u001b[0;34m[\u001b[0m\u001b[0;34m\"func\"\u001b[0m\u001b[0;34m]\u001b[0m\u001b[0;34m,\u001b[0m\u001b[0;34m\u001b[0m\u001b[0;34m\u001b[0m\u001b[0m\n\u001b[0;32m---> 12\u001b[0;31m             \u001b[0;34m\"children\"\u001b[0m\u001b[0;34m:\u001b[0m \u001b[0;34m[\u001b[0m\u001b[0mrandom_prog\u001b[0m\u001b[0;34m(\u001b[0m\u001b[0mdepth\u001b[0m \u001b[0;34m+\u001b[0m \u001b[0;36m1\u001b[0m\u001b[0;34m)\u001b[0m \u001b[0;32mfor\u001b[0m \u001b[0m_\u001b[0m \u001b[0;32min\u001b[0m \u001b[0mrange\u001b[0m\u001b[0;34m(\u001b[0m\u001b[0mop\u001b[0m\u001b[0;34m[\u001b[0m\u001b[0;34m\"arg_count\"\u001b[0m\u001b[0;34m]\u001b[0m\u001b[0;34m)\u001b[0m\u001b[0;34m]\u001b[0m\u001b[0;34m,\u001b[0m\u001b[0;34m\u001b[0m\u001b[0;34m\u001b[0m\u001b[0m\n\u001b[0m\u001b[1;32m     13\u001b[0m             \u001b[0;34m\"format_str\"\u001b[0m\u001b[0;34m:\u001b[0m \u001b[0mop\u001b[0m\u001b[0;34m[\u001b[0m\u001b[0;34m\"format_str\"\u001b[0m\u001b[0;34m]\u001b[0m\u001b[0;34m,\u001b[0m\u001b[0;34m\u001b[0m\u001b[0;34m\u001b[0m\u001b[0m\n\u001b[1;32m     14\u001b[0m         }\n",
            "\u001b[0;32m<ipython-input-65-e39f5b490f82>\u001b[0m in \u001b[0;36mrandom_prog\u001b[0;34m(depth)\u001b[0m\n\u001b[1;32m     14\u001b[0m         }\n\u001b[1;32m     15\u001b[0m     \u001b[0;32melse\u001b[0m\u001b[0;34m:\u001b[0m\u001b[0;34m\u001b[0m\u001b[0;34m\u001b[0m\u001b[0m\n\u001b[0;32m---> 16\u001b[0;31m         \u001b[0;32mreturn\u001b[0m \u001b[0;34m{\u001b[0m\u001b[0;34m\"feature_name\"\u001b[0m\u001b[0;34m:\u001b[0m \u001b[0mdata\u001b[0m\u001b[0;34m.\u001b[0m\u001b[0mcolumns\u001b[0m\u001b[0;34m[\u001b[0m\u001b[0mrandint\u001b[0m\u001b[0;34m(\u001b[0m\u001b[0;36m0\u001b[0m\u001b[0;34m,\u001b[0m \u001b[0mdata\u001b[0m\u001b[0;34m.\u001b[0m\u001b[0mshape\u001b[0m\u001b[0;34m[\u001b[0m\u001b[0;36m1\u001b[0m\u001b[0;34m]\u001b[0m \u001b[0;34m-\u001b[0m \u001b[0;36m1\u001b[0m\u001b[0;34m)\u001b[0m\u001b[0;34m]\u001b[0m\u001b[0;34m}\u001b[0m\u001b[0;34m\u001b[0m\u001b[0;34m\u001b[0m\u001b[0m\n\u001b[0m",
            "\u001b[0;31mAttributeError\u001b[0m: 'numpy.ndarray' object has no attribute 'columns'"
          ]
        }
      ]
    },
    {
      "cell_type": "code",
      "metadata": {
        "id": "BuGJi6_W8c6r"
      },
      "source": [
        "def node_count(x):\r\n",
        "    if \"children\" not in x:\r\n",
        "        return 1\r\n",
        "    return sum([node_count(c) for c in x[\"children\"]])\r\n",
        "\r\n",
        "\r\n",
        "def compute_fitness(program, prediction):\r\n",
        "    mse = ((pd.Series(prediction) - target) ** 2).mean()\r\n",
        "    penalty = node_count(program) ** REG_STRENGTH\r\n",
        "    return mse * penalty"
      ],
      "execution_count": null,
      "outputs": []
    },
    {
      "cell_type": "code",
      "metadata": {
        "id": "f4plK2YYgURo"
      },
      "source": [
        "\r\n",
        "from sklearn.model_selection import train_test_split\r\n",
        "from sklearn.metrics import accuracy_score\r\n",
        "from sklearn import metrics\r\n",
        "\r\n",
        "# preprocess your data, get data matrix X, label y and names\r\n",
        "# X, y are in scikit-learn style\r\n",
        "X, y, names\r\n",
        "X_train, X_test, y_train, y_test = train_test_split(X, y, test_size=0.2, random_state=1)\r\n",
        "# set own parameter here\r\n",
        "lgp = LGPClassifier(numberOfInput = X_train.shape[1], numberOfVariable = 200, populationSize = 20,\r\n",
        "                        fitnessThreshold = 1.0, max_prog_ini_length = 40, min_prog_ini_length = 10,\r\n",
        "                        maxGeneration = 2, tournamentSize = 4, showGenerationStat=False,\r\n",
        "                        isRandomSampling=True, maxProgLength = 500)\r\n",
        "lgp.fit(X_train, y_train)\r\n",
        "y_pred = lgp.predict(X_test)\r\n",
        "y_prob = lgp.predict_proba(X_test)[:, 0]\r\n",
        "lgp.testingAccuracy = accuracy_score(y_pred, y_test)\r\n",
        "# calculate F1, AUC scores\r\n",
        "f1_scores = metrics.f1_score(y_test, y_pred, pos_label=0)\r\n",
        "fpr, tpr, thresholds = metrics.roc_curve(y_test, y_prob, pos_label=0)\r\n",
        "auc_scores = metrics.auc(fpr, tpr)\r\n",
        "# store F1, AUC in validationScores\r\n",
        "lgp.validationScores = {'f1':f1_scores, 'auc':auc_scores}\r\n",
        "lgp.save_model()"
      ],
      "execution_count": null,
      "outputs": []
    },
    {
      "cell_type": "code",
      "metadata": {
        "id": "pjcTIynVDvuD",
        "colab": {
          "base_uri": "https://localhost:8080/",
          "height": 381
        },
        "outputId": "edd3fe1a-9bcd-459a-b610-2af91c797fc0"
      },
      "source": [
        "## CREATE EQUATION \r\n",
        "\"\"\"\r\n",
        "Terminal \r\n",
        "N: total number of compounds, \r\n",
        "NACT: number of active compounds, \r\n",
        "NINACT: number of inactive compounds, \r\n",
        "TOT: total number of compounds containing fragment I, \r\n",
        "ACT: total number of active compounds containing fragment I, \r\n",
        "INACT: total number of inactive compounds containing fragment I\r\n",
        "\"\"\"\r\n",
        "\r\n",
        "converter = {\r\n",
        "    'sub': lambda N, TOT : N-TOT, \r\n",
        "    'sub_1': lambda NINACT, INACT: NINACT-INACT, \r\n",
        "    'sub_2': lambda NACT, ACT: NACT-ACT,\r\n",
        "    'div': lambda NACT, N, TOT, ACT, INACT : NACT/N,\r\n",
        "    'div_1': lambda TOT, N: TOT/(N-TOT),\r\n",
        "    'div_2': lambda ACT, INACT, TOT: (ACT- INACT)/TOT,\r\n",
        "    'mul': lambda TOT, NACT : TOT*NACT ,\r\n",
        "    'mul_1': lambda TOT, NACT, N : TOT * (NACT/N),\r\n",
        "    'mul_2': lambda TOT, NACT, N, ACT : (ACT-TOT) * (NACT/N),\r\n",
        "    'sqrt3': lambda INACT, N: (INACT/N)**0.125\r\n",
        "}\r\n",
        "\r\n",
        "#Create new function set\r\n",
        "def sub_1(NINACT, INACT):\r\n",
        "  f = NINACT-INACT\r\n",
        "  return f\r\n",
        "\r\n",
        "def sub_2(NACT, ACT):\r\n",
        "  f = NACT-ACT\r\n",
        "  return f\r\n",
        "\r\n",
        "def sqrt3(a, b):\r\n",
        "  f = (a/b) ** 0.125\r\n",
        "  return f\r\n",
        "\r\n",
        "def div_2(ACT, INACT, TOT):\r\n",
        "  f = (ACT- INACT)/TOT\r\n",
        "  return f\r\n",
        "\r\n",
        "def mul_1(TOT, NACT, N):\r\n",
        "  f = TOT * (NACT/N)\r\n",
        "  return f\r\n",
        "\r\n",
        "def mul_2(TOT, NACT, N, ACT):\r\n",
        "  f = (ACT-TOT) * (NACT/N)\r\n",
        "  return f\r\n",
        "\r\n",
        "sqrt3 = make_function(function=sqrt3,name='sqrt3',arity=2)\r\n",
        "sub_2 = make_function(function=sub_2,name='sub_2',arity=2)\r\n",
        "#div_1 = make_function(function=div_1,name='div_1',arity=2)\r\n",
        "#div_2 = make_function(function=div_2,name='div_2',arity=3)\r\n",
        "#mul_1 = make_function(function=mul_1,name='mul_1',arity=3)\r\n",
        "#mul_2 = make_function(function=mul_2,name='mul_2',arity=4)\r\n",
        "\r\n",
        "function_set = ['sub','add', 'log', 'div', 'mul','sqrt3', ]\r\n",
        "#function_set = ['sub', 'add', 'div', 'mul','sqrt']"
      ],
      "execution_count": null,
      "outputs": [
        {
          "output_type": "stream",
          "text": [
            "/usr/local/lib/python3.6/dist-packages/ipykernel_launcher.py:35: RuntimeWarning: invalid value encountered in true_divide\n"
          ],
          "name": "stderr"
        },
        {
          "output_type": "error",
          "ename": "ValueError",
          "evalue": "ignored",
          "traceback": [
            "\u001b[0;31m---------------------------------------------------------------------------\u001b[0m",
            "\u001b[0;31mValueError\u001b[0m                                Traceback (most recent call last)",
            "\u001b[0;32m<ipython-input-20-315586ca3479>\u001b[0m in \u001b[0;36m<module>\u001b[0;34m()\u001b[0m\n\u001b[1;32m     48\u001b[0m   \u001b[0;32mreturn\u001b[0m \u001b[0mf\u001b[0m\u001b[0;34m\u001b[0m\u001b[0;34m\u001b[0m\u001b[0m\n\u001b[1;32m     49\u001b[0m \u001b[0;34m\u001b[0m\u001b[0m\n\u001b[0;32m---> 50\u001b[0;31m \u001b[0msqrt3\u001b[0m \u001b[0;34m=\u001b[0m \u001b[0mmake_function\u001b[0m\u001b[0;34m(\u001b[0m\u001b[0mfunction\u001b[0m\u001b[0;34m=\u001b[0m\u001b[0msqrt3\u001b[0m\u001b[0;34m,\u001b[0m\u001b[0mname\u001b[0m\u001b[0;34m=\u001b[0m\u001b[0;34m'sqrt3'\u001b[0m\u001b[0;34m,\u001b[0m\u001b[0marity\u001b[0m\u001b[0;34m=\u001b[0m\u001b[0;36m2\u001b[0m\u001b[0;34m)\u001b[0m\u001b[0;34m\u001b[0m\u001b[0;34m\u001b[0m\u001b[0m\n\u001b[0m\u001b[1;32m     51\u001b[0m \u001b[0msub_2\u001b[0m \u001b[0;34m=\u001b[0m \u001b[0mmake_function\u001b[0m\u001b[0;34m(\u001b[0m\u001b[0mfunction\u001b[0m\u001b[0;34m=\u001b[0m\u001b[0msub_2\u001b[0m\u001b[0;34m,\u001b[0m\u001b[0mname\u001b[0m\u001b[0;34m=\u001b[0m\u001b[0;34m'sub_2'\u001b[0m\u001b[0;34m,\u001b[0m\u001b[0marity\u001b[0m\u001b[0;34m=\u001b[0m\u001b[0;36m2\u001b[0m\u001b[0;34m)\u001b[0m\u001b[0;34m\u001b[0m\u001b[0;34m\u001b[0m\u001b[0m\n\u001b[1;32m     52\u001b[0m \u001b[0;31m#div_1 = make_function(function=div_1,name='div_1',arity=2)\u001b[0m\u001b[0;34m\u001b[0m\u001b[0;34m\u001b[0m\u001b[0;34m\u001b[0m\u001b[0m\n",
            "\u001b[0;32m/usr/local/lib/python3.6/dist-packages/gplearn/functions.py\u001b[0m in \u001b[0;36mmake_function\u001b[0;34m(function, name, arity, wrap)\u001b[0m\n\u001b[1;32m    107\u001b[0m     \u001b[0;32mif\u001b[0m \u001b[0;32mnot\u001b[0m \u001b[0mnp\u001b[0m\u001b[0;34m.\u001b[0m\u001b[0mall\u001b[0m\u001b[0;34m(\u001b[0m\u001b[0mnp\u001b[0m\u001b[0;34m.\u001b[0m\u001b[0misfinite\u001b[0m\u001b[0;34m(\u001b[0m\u001b[0mfunction\u001b[0m\u001b[0;34m(\u001b[0m\u001b[0;34m*\u001b[0m\u001b[0margs\u001b[0m\u001b[0;34m)\u001b[0m\u001b[0;34m)\u001b[0m\u001b[0;34m)\u001b[0m\u001b[0;34m:\u001b[0m\u001b[0;34m\u001b[0m\u001b[0;34m\u001b[0m\u001b[0m\n\u001b[1;32m    108\u001b[0m         raise ValueError('supplied function %s does not have closure against '\n\u001b[0;32m--> 109\u001b[0;31m                          'zeros in argument vectors.' % name)\n\u001b[0m\u001b[1;32m    110\u001b[0m     \u001b[0margs\u001b[0m \u001b[0;34m=\u001b[0m \u001b[0;34m[\u001b[0m\u001b[0;34m-\u001b[0m\u001b[0;36m1\u001b[0m \u001b[0;34m*\u001b[0m \u001b[0mnp\u001b[0m\u001b[0;34m.\u001b[0m\u001b[0mones\u001b[0m\u001b[0;34m(\u001b[0m\u001b[0;36m10\u001b[0m\u001b[0;34m)\u001b[0m \u001b[0;32mfor\u001b[0m \u001b[0m_\u001b[0m \u001b[0;32min\u001b[0m \u001b[0mrange\u001b[0m\u001b[0;34m(\u001b[0m\u001b[0marity\u001b[0m\u001b[0;34m)\u001b[0m\u001b[0;34m]\u001b[0m\u001b[0;34m\u001b[0m\u001b[0;34m\u001b[0m\u001b[0m\n\u001b[1;32m    111\u001b[0m     \u001b[0;32mif\u001b[0m \u001b[0;32mnot\u001b[0m \u001b[0mnp\u001b[0m\u001b[0;34m.\u001b[0m\u001b[0mall\u001b[0m\u001b[0;34m(\u001b[0m\u001b[0mnp\u001b[0m\u001b[0;34m.\u001b[0m\u001b[0misfinite\u001b[0m\u001b[0;34m(\u001b[0m\u001b[0mfunction\u001b[0m\u001b[0;34m(\u001b[0m\u001b[0;34m*\u001b[0m\u001b[0margs\u001b[0m\u001b[0;34m)\u001b[0m\u001b[0;34m)\u001b[0m\u001b[0;34m)\u001b[0m\u001b[0;34m:\u001b[0m\u001b[0;34m\u001b[0m\u001b[0;34m\u001b[0m\u001b[0m\n",
            "\u001b[0;31mValueError\u001b[0m: supplied function sqrt3 does not have closure against zeros in argument vectors."
          ]
        }
      ]
    },
    {
      "cell_type": "markdown",
      "metadata": {
        "id": "nCw04lDpS-LI"
      },
      "source": [
        "> Symbolic Regressor Genetic Programming"
      ]
    },
    {
      "cell_type": "code",
      "metadata": {
        "id": "iJ-oR8MgHwpb"
      },
      "source": [
        "\"\"\" symbolicRegressor_gp = SymbolicRegressor(population_size=5000, function_set=function_set,\r\n",
        "                                             generations=40, stopping_criteria=0.01,\r\n",
        "                                             p_crossover=0.7, p_subtree_mutation=0.1,\r\n",
        "                                             p_hoist_mutation=0.05, p_point_mutation=0.1,\r\n",
        "                                             max_samples=0.9, verbose=1,\r\n",
        "                                             parsimony_coefficient=0.01, random_state=0,\r\n",
        "                                             feature_names = index, metric  = 'mean absolute error')\r\n",
        "\"\"\"\r\n",
        "#Parameter setup\r\n",
        "#fitness function\r\n",
        "symbolicRegressor_gp = SymbolicRegressor(population_size=5000, function_set=function_set,\r\n",
        "                                         generations=20, stopping_criteria=0.01,\r\n",
        "                                         p_crossover=0.7, p_subtree_mutation=0.1,\r\n",
        "                                         p_hoist_mutation=0.05, p_point_mutation=0.1,\r\n",
        "                                         max_samples=0.9, verbose=1,\r\n",
        "                                         parsimony_coefficient=0.01, random_state=0)"
      ],
      "execution_count": null,
      "outputs": []
    },
    {
      "cell_type": "code",
      "metadata": {
        "id": "ctGPVC-rH6es"
      },
      "source": [
        "i = 0\r\n",
        "training_and_testing_list = []\r\n",
        "for dataframe in dataframes:\r\n",
        "  array = dataframe.to_numpy()\r\n",
        "  X = array[:,2:168]\r\n",
        "  y = array[:,-1]\r\n",
        "\r\n",
        "  # Splitting the data into training and testing dataset\r\n",
        "  X_train,X_test,y_train, y_test = train_test_split(X, y, \r\n",
        "                                                    test_size=0.2,\r\n",
        "                                                    random_state=400)\r\n",
        "  \r\n",
        "  #training_and_testing_list.append(X_train,X_test,y_train, y_test)\r\n",
        "  \r\n",
        "  t0 = time.time()\r\n",
        "  print(files[i], \": \")\r\n",
        "  symbolicRegressor_gp.fit(X_train, y_train)\r\n",
        "  print('Time to fit:', time.time() - t0, 'seconds\\n')\r\n",
        "\r\n",
        "  #Generate formula for each drug\r\n",
        "  formulae = sympify(str(symbolicRegressor_gp._program), locals = converter)\r\n",
        "  print('Formula: ', formulae)\r\n",
        "  print('\\n\\n')\r\n",
        "\r\n",
        "  #print('R2:',est_gp.score(X_test,y_test))\r\n",
        "  #next_e = sympify(str(formulae), locals=converter)\r\n",
        "  #print('Formula: ',est_gp)#\r\n",
        "  #y_gp = est_gp.predict(X_train)\r\n",
        "  #gpLearn_MAE = mean_absolute_error(y, y_gp)\r\n",
        "  #print(gpLearn_MAE)\r\n",
        "  i = i +1"
      ],
      "execution_count": null,
      "outputs": []
    },
    {
      "cell_type": "markdown",
      "metadata": {
        "id": "Bo0GO81YLhzq"
      },
      "source": [
        "> Comparing Gplearn to traditional ML approaches"
      ]
    },
    {
      "cell_type": "code",
      "metadata": {
        "id": "P1FQpIgDLeeH"
      },
      "source": [
        "fig = plt.figure(figsize=(12, 10))\r\n",
        "for i, (y, score, title) in enumerate([(y_test, None, \"Ground Truth\"),\r\n",
        "                                       (y_gp, score_gp, \"SymbolicRegressor\"),\r\n",
        "                                       (y_tree, score_tree, \"DecisionTreeRegressor\"),\r\n",
        "                                       (y_rf, score_rf, \"RandomForestRegressor\")]):\r\n",
        "ax = fig.add_subplot(2, 2, i+1)\r\n",
        "    points = ax.scatter(X, y_true, color='green', alpha=0.5)\r\n",
        "    test = ax.scatter(X_test,y,color='red', alpha=0.5)\r\n",
        "    plt.title(title)\r\n",
        "plt.show()"
      ],
      "execution_count": null,
      "outputs": []
    },
    {
      "cell_type": "markdown",
      "metadata": {
        "id": "rcKoKHqXLZR8"
      },
      "source": [
        "> Improving the result"
      ]
    },
    {
      "cell_type": "code",
      "metadata": {
        "id": "7a2TeMBpHwps"
      },
      "source": [
        "# First Test\r\n",
        "def pow_3(x1):\r\n",
        "    f = x1**3\r\n",
        "    return f\r\n",
        "\r\n",
        "pow_3 = make_function(function=pow_3,name='pow3',arity=1)\r\n",
        "\r\n",
        "# add the new function to the function_set\r\n",
        "function_set = ['add', 'sub', 'mul', 'div','cos','sin','neg','inv','pow_3']\r\n",
        "\r\n",
        "est_gp = SymbolicRegressor(population_size=5000,function_set=function_set,\r\n",
        "                           generations=45, stopping_criteria=0.01,\r\n",
        "                           p_crossover=0.7, p_subtree_mutation=0.1,\r\n",
        "                           p_hoist_mutation=0.05, p_point_mutation=0.1,\r\n",
        "                           max_samples=0.9, verbose=1,\r\n",
        "                           parsimony_coefficient=0.01, random_state=0,\r\n",
        "                          feature_names=X_train.columns)\r\n",
        "\r\n",
        "est_gp.fit(X_train, y_train)\r\n",
        "print('R2:',est_gp.score(X_test,y_test))\r\n",
        "next_e = sympify((est_gp._program), locals=converter)\r\n",
        "next_e           "
      ],
      "execution_count": null,
      "outputs": []
    },
    {
      "cell_type": "markdown",
      "metadata": {
        "id": "si14QGpbu5V7"
      },
      "source": [
        "\r\n",
        "\r\n",
        "> I found that there has a various of Genetic Programming, which are:\r\n",
        "*   Cartesian Genetic Programming\r\n",
        "*   Linear Genetic Programming\r\n",
        "*   Tree-based Genetic Programming\r\n",
        "\r\n",
        "\r\n",
        "\r\n",
        "\r\n",
        "\r\n"
      ]
    },
    {
      "cell_type": "markdown",
      "metadata": {
        "id": "hYRux_VE_ViS"
      },
      "source": [
        "## Cartesian Genetic Programming"
      ]
    },
    {
      "cell_type": "code",
      "metadata": {
        "id": "NDRHf1wL_bb7"
      },
      "source": [
        "from sklearn.datasets import load_diabetes\r\n",
        "from sklearn.preprocessing import StandardScaler\r\n",
        "from sklearn.model_selection import train_test_split\r\n",
        "from scipy.stats import pearsonr\r\n",
        "\r\n",
        "import cgpann"
      ],
      "execution_count": null,
      "outputs": []
    },
    {
      "cell_type": "code",
      "metadata": {
        "id": "Pk5eT4of_m9r"
      },
      "source": [
        "input_data, output_data = load_diabetes(return_X_y=True)\r\n",
        "\r\n",
        "# Splitting the data into training and testing dataset\r\n",
        "X_train,X_test,y_train, y_test = train_test_split(input_data, output_data.reshape(-1,1), test_size=0.2,)"
      ],
      "execution_count": null,
      "outputs": []
    },
    {
      "cell_type": "code",
      "metadata": {
        "id": "Qxp_Y7He_r_T"
      },
      "source": [
        "scaler_x = StandardScaler()\r\n",
        "scaler_y = StandardScaler()\r\n",
        "scaler_x.fit(X_train)\r\n",
        "X_train = scaler_x.transform(X_train)\r\n",
        "X_test = scaler_x.transform(X_test)\r\n",
        "scaler_y.fit(y_train)\r\n",
        "y_train = scaler_y.transform(y_train)\r\n",
        "y_test = scaler_y.transform(y_test)"
      ],
      "execution_count": null,
      "outputs": []
    },
    {
      "cell_type": "code",
      "metadata": {
        "id": "CYO096A4_vxr"
      },
      "source": [
        "num_features = X_train.shape[1]\r\n",
        "num_outputs = y_train.shape[1]"
      ],
      "execution_count": null,
      "outputs": []
    },
    {
      "cell_type": "code",
      "metadata": {
        "id": "b990H4-Y_7hM"
      },
      "source": [
        "bestGeno = objCgpann.fit_data(X_train,y_train)"
      ],
      "execution_count": null,
      "outputs": []
    },
    {
      "cell_type": "code",
      "metadata": {
        "id": "qYMLnV6c__U7"
      },
      "source": [
        "pred = objCgpann.predict_data(X_test)\r\n",
        "pearsonr(pred[:,0],y_test[:,0])[0]"
      ],
      "execution_count": null,
      "outputs": []
    },
    {
      "cell_type": "markdown",
      "metadata": {
        "id": "F9u_cT2nZrqJ"
      },
      "source": [
        "## Linear Genetic Programming"
      ]
    },
    {
      "cell_type": "code",
      "metadata": {
        "id": "bEjL8xAnUza9"
      },
      "source": [
        "def protectedDiv(left, right):\r\n",
        "    try:\r\n",
        "        return left / right\r\n",
        "    except ZeroDivisionError:\r\n",
        "        return 1\r\n",
        "\r\n",
        "pset = gp.PrimitiveSet(\"MAIN\", 1)\r\n",
        "pset.addPrimitive(operator.add, 2)\r\n",
        "pset.addPrimitive(operator.sub, 2)\r\n",
        "pset.addPrimitive(operator.mul, 2)\r\n",
        "pset.addPrimitive(protectedDiv, 2)\r\n",
        "pset.addPrimitive(operator.neg, 1)\r\n",
        "pset.addPrimitive(math.cos, 1)\r\n",
        "pset.addPrimitive(math.sin, 1)\r\n",
        "pset.addEphemeralConstant(\"rand101\", lambda: random.randint(-1,1))"
      ],
      "execution_count": null,
      "outputs": []
    },
    {
      "cell_type": "markdown",
      "metadata": {
        "id": "rcdzjNutOsl5"
      },
      "source": [
        "\r\n",
        "\r\n",
        "> Creator\r\n",
        "\r\n"
      ]
    },
    {
      "cell_type": "code",
      "metadata": {
        "id": "iz8N9JjPOJpH"
      },
      "source": [
        "creator.create(\"FitnessMin\", base.Fitness, weights=(-1.0,))\r\n",
        "creator.create(\"Individual\", gp.PrimitiveTree, fitness=creator.FitnessMin)"
      ],
      "execution_count": null,
      "outputs": []
    },
    {
      "cell_type": "markdown",
      "metadata": {
        "id": "0k882ABJO4qP"
      },
      "source": [
        "\r\n",
        "\r\n",
        "> Toolbox\r\n"
      ]
    },
    {
      "cell_type": "code",
      "metadata": {
        "id": "WVUq6Ei_VZNX"
      },
      "source": [
        "toolbox = base.Toolbox()\r\n",
        "toolbox.register(\"expr\", gp.genHalfAndHalf, pset=pset, min_=1, max_=2)\r\n",
        "toolbox.register(\"individual\", tools.initIterate, creator.Individual, toolbox.expr)\r\n",
        "toolbox.register(\"population\", tools.initRepeat, list, toolbox.individual)\r\n",
        "toolbox.register(\"compile\", gp.compile, pset=pset)\r\n",
        "\r\n",
        "def evalSymbReg(individual, points):\r\n",
        "    # Transform the tree expression in a callable function\r\n",
        "    func = toolbox.compile(expr=individual)\r\n",
        "    # Evaluate the mean squared error between the expression\r\n",
        "    # and the real function : x**4 + x**3 + x**2 + x\r\n",
        "    sqerrors = ((func(x) - x**4 - x**3 - x**2 - x)**2 for x in points)\r\n",
        "    return math.fsum(sqerrors) / len(points),\r\n",
        "\r\n",
        "toolbox.register(\"evaluate\", evalSymbReg, points=[x/10. for x in range(-10,10)])\r\n",
        "toolbox.register(\"select\", tools.selTournament, tournsize=3)\r\n",
        "toolbox.register(\"mate\", gp.cxOnePoint)\r\n",
        "toolbox.register(\"expr_mut\", gp.genFull, min_=0, max_=2)\r\n",
        "toolbox.register(\"mutate\", gp.mutUniform, expr=toolbox.expr_mut, pset=pset)\r\n",
        "toolbox.decorate(\"mate\", gp.staticLimit(key=operator.attrgetter(\"height\"), max_value=17))\r\n",
        "toolbox.decorate(\"mutate\", gp.staticLimit(key=operator.attrgetter(\"height\"), max_value=17))"
      ],
      "execution_count": null,
      "outputs": []
    },
    {
      "cell_type": "markdown",
      "metadata": {
        "id": "w6lqA5I0O73k"
      },
      "source": [
        "\r\n",
        "\r\n",
        "> Statistic\r\n",
        "\r\n"
      ]
    },
    {
      "cell_type": "code",
      "metadata": {
        "id": "8-snuQ_gOkM_"
      },
      "source": [
        "stats_fit = tools.Statistics(lambda ind: ind.fitness.values)\r\n",
        "stats_size = tools.Statistics(len)\r\n",
        "mstats = tools.MultiStatistics(fitness=stats_fit, size=stats_size)\r\n",
        "mstats.register(\"avg\", numpy.mean)\r\n",
        "mstats.register(\"std\", numpy.std)\r\n",
        "mstats.register(\"min\", numpy.min)\r\n",
        "mstats.register(\"max\", numpy.max)"
      ],
      "execution_count": null,
      "outputs": []
    },
    {
      "cell_type": "markdown",
      "metadata": {
        "id": "bmr9dTM9XNee"
      },
      "source": [
        "## Data Visualization"
      ]
    },
    {
      "cell_type": "code",
      "metadata": {
        "id": "AFKijrhrURBP"
      },
      "source": [
        "import pygraphviz as pgv\r\n",
        "\r\n",
        "g = pgv.AGraph()\r\n",
        "g.add_nodes_from(nodes)\r\n",
        "g.add_edges_from(edges)\r\n",
        "g.layout(prog=\"dot\")\r\n",
        "\r\n",
        "for i in nodes:\r\n",
        "    n = g.get_node(i)\r\n",
        "    n.attr[\"label\"] = labels[i]\r\n",
        "\r\n",
        "g.draw(\"tree.pdf\")"
      ],
      "execution_count": null,
      "outputs": []
    },
    {
      "cell_type": "code",
      "metadata": {
        "id": "RYFOShj9XRIH"
      },
      "source": [
        "import matplotlib.pyplot as plt\r\n",
        "import networkx as nx\r\n",
        "\r\n",
        "\"\"\"g = nx.Graph()\r\n",
        "g.add_nodes_from(nodes)\r\n",
        "g.add_edges_from(edges)\r\n",
        "pos = nx.graphviz_layout(g, prog=\"dot\")\r\n",
        "\r\n",
        "nx.draw_networkx_nodes(g, pos)\r\n",
        "nx.draw_networkx_edges(g, pos)\r\n",
        "nx.draw_networkx_labels(g, pos, labels)\r\n",
        "plt.show()\"\"\"\r\n",
        "\r\n",
        "def GPTree_plot():\r\n",
        "  g = nx.Graph()\r\n",
        "  g.add_nodes_from(nodes)\r\n",
        "  g.add_edges_from(edges)\r\n",
        "  pos = nx.graphviz_layout(g, prog = \"dot\")\r\n",
        "\r\n",
        "  nx.draw_networkx_nodes(g, pos)\r\n",
        "  nx.draw_networkx_edges(g, pos)\r\n",
        "  nx.draw_networkx_labels(g, pos, labels)\r\n",
        "\r\n",
        "  plt.show()"
      ],
      "execution_count": null,
      "outputs": []
    },
    {
      "cell_type": "code",
      "metadata": {
        "colab": {
          "base_uri": "https://localhost:8080/"
        },
        "id": "iWdxK-4J3eAD",
        "outputId": "1e4f667a-39a7-4bf4-b80a-4e9cf94bd045"
      },
      "source": [
        "###################################\r\n",
        "#  pyevolve only used in python 2\r\n",
        "#  unable used in python 3\r\n",
        "###################################\r\n",
        "\r\n",
        "\"\"\"!pip install pyevolve\r\n",
        "\r\n",
        "from pyevolve import GTree\r\n",
        "genome = GTree.GTree()\r\n",
        "gp_genome = GTree.GTreeGP()\"\"\""
      ],
      "execution_count": null,
      "outputs": [
        {
          "output_type": "stream",
          "text": [
            "Collecting pyevolve\n",
            "  Downloading Pyevolve-0.6rc1.tar.gz (2.4 MB)\n",
            "\u001b[K     |████████████████████████████████| 2.4 MB 5.8 MB/s \n",
            "\u001b[31mERROR: Command errored out with exit status 1: python setup.py egg_info Check the logs for full command output.\u001b[0m\n",
            "\u001b[?25h"
          ],
          "name": "stdout"
        }
      ]
    },
    {
      "cell_type": "code",
      "metadata": {
        "colab": {
          "base_uri": "https://localhost:8080/",
          "height": 221
        },
        "id": "5uEDhUWV3bXl",
        "outputId": "7ec7477a-5b29-4f7e-bf32-847c5669318f"
      },
      "source": [
        "\"\"\"#Create genome\r\n",
        "genome = GTree.GTreeGP()\r\n",
        "genome.setParams(max_depth = 4, method = \"ramed\")\r\n",
        "genome.evaluator.set(eval_func)\"\"\""
      ],
      "execution_count": null,
      "outputs": [
        {
          "output_type": "error",
          "ename": "NameError",
          "evalue": "ignored",
          "traceback": [
            "\u001b[0;31m---------------------------------------------------------------------------\u001b[0m",
            "\u001b[0;31mNameError\u001b[0m                                 Traceback (most recent call last)",
            "\u001b[0;32m<ipython-input-23-c5dd7525780c>\u001b[0m in \u001b[0;36m<module>\u001b[0;34m()\u001b[0m\n\u001b[1;32m      1\u001b[0m \u001b[0;31m#Create genome\u001b[0m\u001b[0;34m\u001b[0m\u001b[0;34m\u001b[0m\u001b[0;34m\u001b[0m\u001b[0m\n\u001b[0;32m----> 2\u001b[0;31m \u001b[0mgenome\u001b[0m \u001b[0;34m=\u001b[0m \u001b[0mGTree\u001b[0m\u001b[0;34m.\u001b[0m\u001b[0mGTreeGP\u001b[0m\u001b[0;34m(\u001b[0m\u001b[0;34m)\u001b[0m\u001b[0;34m\u001b[0m\u001b[0;34m\u001b[0m\u001b[0m\n\u001b[0m\u001b[1;32m      3\u001b[0m \u001b[0mgenome\u001b[0m\u001b[0;34m.\u001b[0m\u001b[0msetParams\u001b[0m\u001b[0;34m(\u001b[0m\u001b[0mmax_depth\u001b[0m \u001b[0;34m=\u001b[0m \u001b[0;36m4\u001b[0m\u001b[0;34m,\u001b[0m \u001b[0mmethod\u001b[0m \u001b[0;34m=\u001b[0m \u001b[0;34m\"ramed\"\u001b[0m\u001b[0;34m)\u001b[0m\u001b[0;34m\u001b[0m\u001b[0;34m\u001b[0m\u001b[0m\n\u001b[1;32m      4\u001b[0m \u001b[0mgenome\u001b[0m\u001b[0;34m.\u001b[0m\u001b[0mevaluator\u001b[0m\u001b[0;34m.\u001b[0m\u001b[0mset\u001b[0m\u001b[0;34m(\u001b[0m\u001b[0meval_func\u001b[0m\u001b[0;34m)\u001b[0m\u001b[0;34m\u001b[0m\u001b[0;34m\u001b[0m\u001b[0m\n",
            "\u001b[0;31mNameError\u001b[0m: name 'GTree' is not defined"
          ]
        }
      ]
    }
  ]
}