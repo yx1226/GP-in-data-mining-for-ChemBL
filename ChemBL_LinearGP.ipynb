{
  "nbformat": 4,
  "nbformat_minor": 0,
  "metadata": {
    "colab": {
      "name": "ChemBL_LinearGP.ipynb",
      "provenance": [],
      "collapsed_sections": [],
      "toc_visible": true,
      "authorship_tag": "ABX9TyN8t7EtTnGnUyK/RjynKyHR",
      "include_colab_link": true
    },
    "kernelspec": {
      "name": "python3",
      "display_name": "Python 3"
    }
  },
  "cells": [
    {
      "cell_type": "markdown",
      "metadata": {
        "id": "view-in-github",
        "colab_type": "text"
      },
      "source": [
        "<a href=\"https://colab.research.google.com/github/yx1226/GP-in-data-mining-for-ChemBL/blob/main/ChemBL_LinearGP.ipynb\" target=\"_parent\"><img src=\"https://colab.research.google.com/assets/colab-badge.svg\" alt=\"Open In Colab\"/></a>"
      ]
    },
    {
      "cell_type": "markdown",
      "metadata": {
        "id": "YfacqKv1hbC5"
      },
      "source": [
        "# Library and tool installation"
      ]
    },
    {
      "cell_type": "code",
      "metadata": {
        "id": "T_bQKhbzhVMW",
        "colab": {
          "base_uri": "https://localhost:8080/",
          "height": 1000
        },
        "outputId": "f1cbbb92-edfd-49f2-99cb-a2d758b145c5"
      },
      "source": [
        "# GP Library\n",
        "!pip install deap \n",
        "!pip install gplearn \n",
        "\n",
        "# RDKit\n",
        "!wget -c https://repo.continuum.io/miniconda/Miniconda3-py37_4.8.3-Linux-x86_64.sh\n",
        "!chmod +x Miniconda3-py37_4.8.3-Linux-x86_64.sh\n",
        "!time bash ./Miniconda3-py37_4.8.3-Linux-x86_64.sh -b -f -p /usr/local\n",
        "!time conda install -q -y -c conda-forge rdkit\n",
        "\n",
        "!pip install rdkit\n",
        "!pip install mordred\n",
        "!pip install catboost"
      ],
      "execution_count": 3,
      "outputs": [
        {
          "output_type": "stream",
          "text": [
            "Collecting deap\n",
            "\u001b[?25l  Downloading https://files.pythonhosted.org/packages/99/d1/803c7a387d8a7e6866160b1541307f88d534da4291572fb32f69d2548afb/deap-1.3.1-cp37-cp37m-manylinux2010_x86_64.whl (157kB)\n",
            "\r\u001b[K     |██                              | 10kB 16.8MB/s eta 0:00:01\r\u001b[K     |████▏                           | 20kB 21.7MB/s eta 0:00:01\r\u001b[K     |██████▏                         | 30kB 26.5MB/s eta 0:00:01\r\u001b[K     |████████▎                       | 40kB 29.6MB/s eta 0:00:01\r\u001b[K     |██████████▍                     | 51kB 21.6MB/s eta 0:00:01\r\u001b[K     |████████████▍                   | 61kB 16.7MB/s eta 0:00:01\r\u001b[K     |██████████████▌                 | 71kB 15.4MB/s eta 0:00:01\r\u001b[K     |████████████████▋               | 81kB 15.5MB/s eta 0:00:01\r\u001b[K     |██████████████████▋             | 92kB 16.7MB/s eta 0:00:01\r\u001b[K     |████████████████████▊           | 102kB 17.6MB/s eta 0:00:01\r\u001b[K     |██████████████████████▉         | 112kB 17.6MB/s eta 0:00:01\r\u001b[K     |████████████████████████▉       | 122kB 17.6MB/s eta 0:00:01\r\u001b[K     |███████████████████████████     | 133kB 17.6MB/s eta 0:00:01\r\u001b[K     |█████████████████████████████   | 143kB 17.6MB/s eta 0:00:01\r\u001b[K     |███████████████████████████████ | 153kB 17.6MB/s eta 0:00:01\r\u001b[K     |████████████████████████████████| 163kB 17.6MB/s \n",
            "\u001b[?25hRequirement already satisfied: numpy in /usr/local/lib/python3.7/dist-packages (from deap) (1.19.5)\n",
            "Installing collected packages: deap\n",
            "Successfully installed deap-1.3.1\n",
            "Collecting gplearn\n",
            "\u001b[?25l  Downloading https://files.pythonhosted.org/packages/43/6b/ee38cd74b32ad5056603aabbef622f9691f19d0869574dfc610034f18662/gplearn-0.4.1-py3-none-any.whl (41kB)\n",
            "\u001b[K     |████████████████████████████████| 51kB 4.1MB/s \n",
            "\u001b[?25hRequirement already satisfied: joblib>=0.13.0 in /usr/local/lib/python3.7/dist-packages (from gplearn) (1.0.1)\n",
            "Requirement already satisfied: scikit-learn>=0.20.0 in /usr/local/lib/python3.7/dist-packages (from gplearn) (0.22.2.post1)\n",
            "Requirement already satisfied: scipy>=0.17.0 in /usr/local/lib/python3.7/dist-packages (from scikit-learn>=0.20.0->gplearn) (1.4.1)\n",
            "Requirement already satisfied: numpy>=1.11.0 in /usr/local/lib/python3.7/dist-packages (from scikit-learn>=0.20.0->gplearn) (1.19.5)\n",
            "Installing collected packages: gplearn\n",
            "Successfully installed gplearn-0.4.1\n",
            "--2021-03-31 00:49:27--  https://repo.continuum.io/miniconda/Miniconda3-py37_4.8.3-Linux-x86_64.sh\n",
            "Resolving repo.continuum.io (repo.continuum.io)... 104.18.201.79, 104.18.200.79, 2606:4700::6812:c94f, ...\n",
            "Connecting to repo.continuum.io (repo.continuum.io)|104.18.201.79|:443... connected.\n",
            "HTTP request sent, awaiting response... 301 Moved Permanently\n",
            "Location: https://repo.anaconda.com/miniconda/Miniconda3-py37_4.8.3-Linux-x86_64.sh [following]\n",
            "--2021-03-31 00:49:27--  https://repo.anaconda.com/miniconda/Miniconda3-py37_4.8.3-Linux-x86_64.sh\n",
            "Resolving repo.anaconda.com (repo.anaconda.com)... 104.16.130.3, 104.16.131.3, 2606:4700::6810:8303, ...\n",
            "Connecting to repo.anaconda.com (repo.anaconda.com)|104.16.130.3|:443... connected.\n",
            "HTTP request sent, awaiting response... 200 OK\n",
            "Length: 88867207 (85M) [application/x-sh]\n",
            "Saving to: ‘Miniconda3-py37_4.8.3-Linux-x86_64.sh’\n",
            "\n",
            "Miniconda3-py37_4.8 100%[===================>]  84.75M   275MB/s    in 0.3s    \n",
            "\n",
            "2021-03-31 00:49:27 (275 MB/s) - ‘Miniconda3-py37_4.8.3-Linux-x86_64.sh’ saved [88867207/88867207]\n",
            "\n",
            "PREFIX=/usr/local\n",
            "Unpacking payload ...\n",
            "Collecting package metadata (current_repodata.json): - \b\b\\ \b\b| \b\bdone\n",
            "Solving environment: - \b\b\\ \b\bdone\n",
            "\n",
            "## Package Plan ##\n",
            "\n",
            "  environment location: /usr/local\n",
            "\n",
            "  added / updated specs:\n",
            "    - _libgcc_mutex==0.1=main\n",
            "    - ca-certificates==2020.1.1=0\n",
            "    - certifi==2020.4.5.1=py37_0\n",
            "    - cffi==1.14.0=py37he30daa8_1\n",
            "    - chardet==3.0.4=py37_1003\n",
            "    - conda-package-handling==1.6.1=py37h7b6447c_0\n",
            "    - conda==4.8.3=py37_0\n",
            "    - cryptography==2.9.2=py37h1ba5d50_0\n",
            "    - idna==2.9=py_1\n",
            "    - ld_impl_linux-64==2.33.1=h53a641e_7\n",
            "    - libedit==3.1.20181209=hc058e9b_0\n",
            "    - libffi==3.3=he6710b0_1\n",
            "    - libgcc-ng==9.1.0=hdf63c60_0\n",
            "    - libstdcxx-ng==9.1.0=hdf63c60_0\n",
            "    - ncurses==6.2=he6710b0_1\n",
            "    - openssl==1.1.1g=h7b6447c_0\n",
            "    - pip==20.0.2=py37_3\n",
            "    - pycosat==0.6.3=py37h7b6447c_0\n",
            "    - pycparser==2.20=py_0\n",
            "    - pyopenssl==19.1.0=py37_0\n",
            "    - pysocks==1.7.1=py37_0\n",
            "    - python==3.7.7=hcff3b4d_5\n",
            "    - readline==8.0=h7b6447c_0\n",
            "    - requests==2.23.0=py37_0\n",
            "    - ruamel_yaml==0.15.87=py37h7b6447c_0\n",
            "    - setuptools==46.4.0=py37_0\n",
            "    - six==1.14.0=py37_0\n",
            "    - sqlite==3.31.1=h62c20be_1\n",
            "    - tk==8.6.8=hbc83047_0\n",
            "    - tqdm==4.46.0=py_0\n",
            "    - urllib3==1.25.8=py37_0\n",
            "    - wheel==0.34.2=py37_0\n",
            "    - xz==5.2.5=h7b6447c_0\n",
            "    - yaml==0.1.7=had09818_2\n",
            "    - zlib==1.2.11=h7b6447c_3\n",
            "\n",
            "\n",
            "The following NEW packages will be INSTALLED:\n",
            "\n",
            "  _libgcc_mutex      pkgs/main/linux-64::_libgcc_mutex-0.1-main\n",
            "  ca-certificates    pkgs/main/linux-64::ca-certificates-2020.1.1-0\n",
            "  certifi            pkgs/main/linux-64::certifi-2020.4.5.1-py37_0\n",
            "  cffi               pkgs/main/linux-64::cffi-1.14.0-py37he30daa8_1\n",
            "  chardet            pkgs/main/linux-64::chardet-3.0.4-py37_1003\n",
            "  conda              pkgs/main/linux-64::conda-4.8.3-py37_0\n",
            "  conda-package-han~ pkgs/main/linux-64::conda-package-handling-1.6.1-py37h7b6447c_0\n",
            "  cryptography       pkgs/main/linux-64::cryptography-2.9.2-py37h1ba5d50_0\n",
            "  idna               pkgs/main/noarch::idna-2.9-py_1\n",
            "  ld_impl_linux-64   pkgs/main/linux-64::ld_impl_linux-64-2.33.1-h53a641e_7\n",
            "  libedit            pkgs/main/linux-64::libedit-3.1.20181209-hc058e9b_0\n",
            "  libffi             pkgs/main/linux-64::libffi-3.3-he6710b0_1\n",
            "  libgcc-ng          pkgs/main/linux-64::libgcc-ng-9.1.0-hdf63c60_0\n",
            "  libstdcxx-ng       pkgs/main/linux-64::libstdcxx-ng-9.1.0-hdf63c60_0\n",
            "  ncurses            pkgs/main/linux-64::ncurses-6.2-he6710b0_1\n",
            "  openssl            pkgs/main/linux-64::openssl-1.1.1g-h7b6447c_0\n",
            "  pip                pkgs/main/linux-64::pip-20.0.2-py37_3\n",
            "  pycosat            pkgs/main/linux-64::pycosat-0.6.3-py37h7b6447c_0\n",
            "  pycparser          pkgs/main/noarch::pycparser-2.20-py_0\n",
            "  pyopenssl          pkgs/main/linux-64::pyopenssl-19.1.0-py37_0\n",
            "  pysocks            pkgs/main/linux-64::pysocks-1.7.1-py37_0\n",
            "  python             pkgs/main/linux-64::python-3.7.7-hcff3b4d_5\n",
            "  readline           pkgs/main/linux-64::readline-8.0-h7b6447c_0\n",
            "  requests           pkgs/main/linux-64::requests-2.23.0-py37_0\n",
            "  ruamel_yaml        pkgs/main/linux-64::ruamel_yaml-0.15.87-py37h7b6447c_0\n",
            "  setuptools         pkgs/main/linux-64::setuptools-46.4.0-py37_0\n",
            "  six                pkgs/main/linux-64::six-1.14.0-py37_0\n",
            "  sqlite             pkgs/main/linux-64::sqlite-3.31.1-h62c20be_1\n",
            "  tk                 pkgs/main/linux-64::tk-8.6.8-hbc83047_0\n",
            "  tqdm               pkgs/main/noarch::tqdm-4.46.0-py_0\n",
            "  urllib3            pkgs/main/linux-64::urllib3-1.25.8-py37_0\n",
            "  wheel              pkgs/main/linux-64::wheel-0.34.2-py37_0\n",
            "  xz                 pkgs/main/linux-64::xz-5.2.5-h7b6447c_0\n",
            "  yaml               pkgs/main/linux-64::yaml-0.1.7-had09818_2\n",
            "  zlib               pkgs/main/linux-64::zlib-1.2.11-h7b6447c_3\n",
            "\n",
            "\n",
            "Preparing transaction: / \b\b- \b\b\\ \b\b| \b\bdone\n",
            "Executing transaction: - \b\b\\ \b\b| \b\b/ \b\b- \b\b\\ \b\b| \b\b/ \b\b- \b\b\\ \b\b| \b\b/ \b\b- \b\b\\ \b\bdone\n",
            "installation finished.\n",
            "WARNING:\n",
            "    You currently have a PYTHONPATH environment variable set. This may cause\n",
            "    unexpected behavior when running the Python interpreter in Miniconda3.\n",
            "    For best results, please verify that your PYTHONPATH only points to\n",
            "    directories of packages that are compatible with the Python interpreter\n",
            "    in Miniconda3: /usr/local\n",
            "\n",
            "real\t0m30.315s\n",
            "user\t0m17.450s\n",
            "sys\t0m4.944s\n",
            "Collecting package metadata (current_repodata.json): ...working... done\n",
            "Solving environment: ...working... done\n",
            "\n",
            "## Package Plan ##\n",
            "\n",
            "  environment location: /usr/local\n",
            "\n",
            "  added / updated specs:\n",
            "    - rdkit\n",
            "\n",
            "\n",
            "The following packages will be downloaded:\n",
            "\n",
            "    package                    |            build\n",
            "    ---------------------------|-----------------\n",
            "    _libgcc_mutex-0.1          |      conda_forge           3 KB  conda-forge\n",
            "    _openmp_mutex-4.5          |            1_gnu          22 KB  conda-forge\n",
            "    boost-1.74.0               |   py37h6dcda5c_3         342 KB  conda-forge\n",
            "    boost-cpp-1.74.0           |       hc6e9bd1_2        16.3 MB  conda-forge\n",
            "    bzip2-1.0.8                |       h7f98852_4         484 KB  conda-forge\n",
            "    ca-certificates-2020.12.5  |       ha878542_0         137 KB  conda-forge\n",
            "    cairo-1.16.0               |    h6cf1ce9_1008         1.5 MB  conda-forge\n",
            "    certifi-2020.12.5          |   py37h89c1867_1         143 KB  conda-forge\n",
            "    conda-4.9.2                |   py37h89c1867_0         3.0 MB  conda-forge\n",
            "    cycler-0.10.0              |             py_2           9 KB  conda-forge\n",
            "    fontconfig-2.13.1          |    hba837de_1004         344 KB  conda-forge\n",
            "    freetype-2.10.4            |       h0708190_1         890 KB  conda-forge\n",
            "    gettext-0.19.8.1           |    h0b5b191_1005         3.6 MB  conda-forge\n",
            "    greenlet-1.0.0             |   py37hcd2ae1e_0          83 KB  conda-forge\n",
            "    icu-68.1                   |       h58526e2_0        13.0 MB  conda-forge\n",
            "    importlib-metadata-3.10.0  |   py37h89c1867_0          27 KB  conda-forge\n",
            "    jpeg-9d                    |       h36c2ea0_0         264 KB  conda-forge\n",
            "    kiwisolver-1.3.1           |   py37h2527ec5_1          78 KB  conda-forge\n",
            "    lcms2-2.12                 |       hddcbb42_0         443 KB  conda-forge\n",
            "    libblas-3.9.0              |       8_openblas          11 KB  conda-forge\n",
            "    libcblas-3.9.0             |       8_openblas          11 KB  conda-forge\n",
            "    libgcc-ng-9.3.0            |      h2828fa1_18         7.8 MB  conda-forge\n",
            "    libgfortran-ng-9.3.0       |      hff62375_18          22 KB  conda-forge\n",
            "    libgfortran5-9.3.0         |      hff62375_18         2.0 MB  conda-forge\n",
            "    libglib-2.68.0             |       h3e27bee_2         3.0 MB  conda-forge\n",
            "    libgomp-9.3.0              |      h2828fa1_18         376 KB  conda-forge\n",
            "    libiconv-1.16              |       h516909a_0         1.4 MB  conda-forge\n",
            "    liblapack-3.9.0            |       8_openblas          11 KB  conda-forge\n",
            "    libopenblas-0.3.12         |pthreads_h4812303_1         8.9 MB  conda-forge\n",
            "    libpng-1.6.37              |       h21135ba_2         306 KB  conda-forge\n",
            "    libstdcxx-ng-9.3.0         |      h6de172a_18         4.0 MB  conda-forge\n",
            "    libtiff-4.2.0              |       hdc55705_0         633 KB  conda-forge\n",
            "    libuuid-2.32.1             |    h7f98852_1000          28 KB  conda-forge\n",
            "    libwebp-base-1.2.0         |       h7f98852_2         815 KB  conda-forge\n",
            "    libxcb-1.13                |    h7f98852_1003         395 KB  conda-forge\n",
            "    libxml2-2.9.10             |       h72842e0_3         1.3 MB  conda-forge\n",
            "    lz4-c-1.9.3                |       h9c3ff4c_0         179 KB  conda-forge\n",
            "    matplotlib-base-3.3.4      |   py37h62a2d02_0         5.1 MB\n",
            "    numpy-1.20.2               |   py37h038b26d_0         5.8 MB  conda-forge\n",
            "    olefile-0.46               |     pyh9f0ad1d_1          32 KB  conda-forge\n",
            "    openssl-1.1.1k             |       h7f98852_0         2.1 MB  conda-forge\n",
            "    pandas-1.2.3               |   py37hdc94413_0        11.8 MB  conda-forge\n",
            "    pcre-8.44                  |       he1b5a44_0         261 KB  conda-forge\n",
            "    pillow-8.1.2               |   py37he98fc37_0         624 KB\n",
            "    pixman-0.40.0              |       h36c2ea0_0         627 KB  conda-forge\n",
            "    pthread-stubs-0.4          |    h36c2ea0_1001           5 KB  conda-forge\n",
            "    pycairo-1.20.0             |   py37h01af8b0_1          77 KB  conda-forge\n",
            "    pyparsing-2.4.7            |     pyh9f0ad1d_0          60 KB  conda-forge\n",
            "    python-dateutil-2.8.1      |             py_0         220 KB  conda-forge\n",
            "    python_abi-3.7             |          1_cp37m           4 KB  conda-forge\n",
            "    pytz-2021.1                |     pyhd8ed1ab_0         239 KB  conda-forge\n",
            "    rdkit-2021.03.1            |   py37haf5a968_0        38.3 MB  conda-forge\n",
            "    reportlab-3.5.66           |   py37h69800bb_0         2.4 MB  conda-forge\n",
            "    sqlalchemy-1.4.3           |   py37h5e8e339_0         2.2 MB  conda-forge\n",
            "    tornado-6.1                |   py37h5e8e339_1         646 KB  conda-forge\n",
            "    typing_extensions-3.7.4.3  |             py_0          25 KB  conda-forge\n",
            "    xorg-kbproto-1.0.7         |    h7f98852_1002          27 KB  conda-forge\n",
            "    xorg-libice-1.0.10         |       h7f98852_0          58 KB  conda-forge\n",
            "    xorg-libsm-1.2.3           |    hd9c2040_1000          26 KB  conda-forge\n",
            "    xorg-libx11-1.7.0          |       h7f98852_0         923 KB  conda-forge\n",
            "    xorg-libxau-1.0.9          |       h7f98852_0          13 KB  conda-forge\n",
            "    xorg-libxdmcp-1.1.3        |       h7f98852_0          19 KB  conda-forge\n",
            "    xorg-libxext-1.3.4         |       h7f98852_1          54 KB  conda-forge\n",
            "    xorg-libxrender-0.9.10     |    h7f98852_1003          32 KB  conda-forge\n",
            "    xorg-renderproto-0.11.1    |    h7f98852_1002           9 KB  conda-forge\n",
            "    xorg-xextproto-7.3.0       |    h7f98852_1002          28 KB  conda-forge\n",
            "    xorg-xproto-7.0.31         |    h7f98852_1007          73 KB  conda-forge\n",
            "    zipp-3.4.1                 |     pyhd8ed1ab_0          11 KB  conda-forge\n",
            "    zstd-1.4.9                 |       ha95c52a_0         431 KB  conda-forge\n",
            "    ------------------------------------------------------------\n",
            "                                           Total:       143.8 MB\n",
            "\n",
            "The following NEW packages will be INSTALLED:\n",
            "\n",
            "  _openmp_mutex      conda-forge/linux-64::_openmp_mutex-4.5-1_gnu\n",
            "  boost              conda-forge/linux-64::boost-1.74.0-py37h6dcda5c_3\n",
            "  boost-cpp          conda-forge/linux-64::boost-cpp-1.74.0-hc6e9bd1_2\n",
            "  bzip2              conda-forge/linux-64::bzip2-1.0.8-h7f98852_4\n",
            "  cairo              conda-forge/linux-64::cairo-1.16.0-h6cf1ce9_1008\n",
            "  cycler             conda-forge/noarch::cycler-0.10.0-py_2\n",
            "  fontconfig         conda-forge/linux-64::fontconfig-2.13.1-hba837de_1004\n",
            "  freetype           conda-forge/linux-64::freetype-2.10.4-h0708190_1\n",
            "  gettext            conda-forge/linux-64::gettext-0.19.8.1-h0b5b191_1005\n",
            "  greenlet           conda-forge/linux-64::greenlet-1.0.0-py37hcd2ae1e_0\n",
            "  icu                conda-forge/linux-64::icu-68.1-h58526e2_0\n",
            "  importlib-metadata conda-forge/linux-64::importlib-metadata-3.10.0-py37h89c1867_0\n",
            "  jpeg               conda-forge/linux-64::jpeg-9d-h36c2ea0_0\n",
            "  kiwisolver         conda-forge/linux-64::kiwisolver-1.3.1-py37h2527ec5_1\n",
            "  lcms2              conda-forge/linux-64::lcms2-2.12-hddcbb42_0\n",
            "  libblas            conda-forge/linux-64::libblas-3.9.0-8_openblas\n",
            "  libcblas           conda-forge/linux-64::libcblas-3.9.0-8_openblas\n",
            "  libgfortran-ng     conda-forge/linux-64::libgfortran-ng-9.3.0-hff62375_18\n",
            "  libgfortran5       conda-forge/linux-64::libgfortran5-9.3.0-hff62375_18\n",
            "  libglib            conda-forge/linux-64::libglib-2.68.0-h3e27bee_2\n",
            "  libgomp            conda-forge/linux-64::libgomp-9.3.0-h2828fa1_18\n",
            "  libiconv           conda-forge/linux-64::libiconv-1.16-h516909a_0\n",
            "  liblapack          conda-forge/linux-64::liblapack-3.9.0-8_openblas\n",
            "  libopenblas        conda-forge/linux-64::libopenblas-0.3.12-pthreads_h4812303_1\n",
            "  libpng             conda-forge/linux-64::libpng-1.6.37-h21135ba_2\n",
            "  libtiff            conda-forge/linux-64::libtiff-4.2.0-hdc55705_0\n",
            "  libuuid            conda-forge/linux-64::libuuid-2.32.1-h7f98852_1000\n",
            "  libwebp-base       conda-forge/linux-64::libwebp-base-1.2.0-h7f98852_2\n",
            "  libxcb             conda-forge/linux-64::libxcb-1.13-h7f98852_1003\n",
            "  libxml2            conda-forge/linux-64::libxml2-2.9.10-h72842e0_3\n",
            "  lz4-c              conda-forge/linux-64::lz4-c-1.9.3-h9c3ff4c_0\n",
            "  matplotlib-base    pkgs/main/linux-64::matplotlib-base-3.3.4-py37h62a2d02_0\n",
            "  numpy              conda-forge/linux-64::numpy-1.20.2-py37h038b26d_0\n",
            "  olefile            conda-forge/noarch::olefile-0.46-pyh9f0ad1d_1\n",
            "  pandas             conda-forge/linux-64::pandas-1.2.3-py37hdc94413_0\n",
            "  pcre               conda-forge/linux-64::pcre-8.44-he1b5a44_0\n",
            "  pillow             pkgs/main/linux-64::pillow-8.1.2-py37he98fc37_0\n",
            "  pixman             conda-forge/linux-64::pixman-0.40.0-h36c2ea0_0\n",
            "  pthread-stubs      conda-forge/linux-64::pthread-stubs-0.4-h36c2ea0_1001\n",
            "  pycairo            conda-forge/linux-64::pycairo-1.20.0-py37h01af8b0_1\n",
            "  pyparsing          conda-forge/noarch::pyparsing-2.4.7-pyh9f0ad1d_0\n",
            "  python-dateutil    conda-forge/noarch::python-dateutil-2.8.1-py_0\n",
            "  python_abi         conda-forge/linux-64::python_abi-3.7-1_cp37m\n",
            "  pytz               conda-forge/noarch::pytz-2021.1-pyhd8ed1ab_0\n",
            "  rdkit              conda-forge/linux-64::rdkit-2021.03.1-py37haf5a968_0\n",
            "  reportlab          conda-forge/linux-64::reportlab-3.5.66-py37h69800bb_0\n",
            "  sqlalchemy         conda-forge/linux-64::sqlalchemy-1.4.3-py37h5e8e339_0\n",
            "  tornado            conda-forge/linux-64::tornado-6.1-py37h5e8e339_1\n",
            "  typing_extensions  conda-forge/noarch::typing_extensions-3.7.4.3-py_0\n",
            "  xorg-kbproto       conda-forge/linux-64::xorg-kbproto-1.0.7-h7f98852_1002\n",
            "  xorg-libice        conda-forge/linux-64::xorg-libice-1.0.10-h7f98852_0\n",
            "  xorg-libsm         conda-forge/linux-64::xorg-libsm-1.2.3-hd9c2040_1000\n",
            "  xorg-libx11        conda-forge/linux-64::xorg-libx11-1.7.0-h7f98852_0\n",
            "  xorg-libxau        conda-forge/linux-64::xorg-libxau-1.0.9-h7f98852_0\n",
            "  xorg-libxdmcp      conda-forge/linux-64::xorg-libxdmcp-1.1.3-h7f98852_0\n",
            "  xorg-libxext       conda-forge/linux-64::xorg-libxext-1.3.4-h7f98852_1\n",
            "  xorg-libxrender    conda-forge/linux-64::xorg-libxrender-0.9.10-h7f98852_1003\n",
            "  xorg-renderproto   conda-forge/linux-64::xorg-renderproto-0.11.1-h7f98852_1002\n",
            "  xorg-xextproto     conda-forge/linux-64::xorg-xextproto-7.3.0-h7f98852_1002\n",
            "  xorg-xproto        conda-forge/linux-64::xorg-xproto-7.0.31-h7f98852_1007\n",
            "  zipp               conda-forge/noarch::zipp-3.4.1-pyhd8ed1ab_0\n",
            "  zstd               conda-forge/linux-64::zstd-1.4.9-ha95c52a_0\n",
            "\n",
            "The following packages will be UPDATED:\n",
            "\n",
            "  ca-certificates     pkgs/main::ca-certificates-2020.1.1-0 --> conda-forge::ca-certificates-2020.12.5-ha878542_0\n",
            "  certifi              pkgs/main::certifi-2020.4.5.1-py37_0 --> conda-forge::certifi-2020.12.5-py37h89c1867_1\n",
            "  conda                       pkgs/main::conda-4.8.3-py37_0 --> conda-forge::conda-4.9.2-py37h89c1867_0\n",
            "  libgcc-ng           pkgs/main::libgcc-ng-9.1.0-hdf63c60_0 --> conda-forge::libgcc-ng-9.3.0-h2828fa1_18\n",
            "  libstdcxx-ng       pkgs/main::libstdcxx-ng-9.1.0-hdf63c6~ --> conda-forge::libstdcxx-ng-9.3.0-h6de172a_18\n",
            "  openssl              pkgs/main::openssl-1.1.1g-h7b6447c_0 --> conda-forge::openssl-1.1.1k-h7f98852_0\n",
            "\n",
            "The following packages will be SUPERSEDED by a higher-priority channel:\n",
            "\n",
            "  _libgcc_mutex           pkgs/main::_libgcc_mutex-0.1-main --> conda-forge::_libgcc_mutex-0.1-conda_forge\n",
            "\n",
            "\n",
            "Preparing transaction: ...working... done\n",
            "Verifying transaction: ...working... done\n",
            "Executing transaction: ...working... done\n",
            "\n",
            "real\t1m7.364s\n",
            "user\t0m58.886s\n",
            "sys\t0m5.861s\n",
            "\u001b[31mERROR: Could not find a version that satisfies the requirement rdkit (from versions: none)\u001b[0m\n",
            "\u001b[31mERROR: No matching distribution found for rdkit\u001b[0m\n",
            "Collecting mordred\n",
            "  Downloading mordred-1.2.0.tar.gz (128 kB)\n",
            "\u001b[K     |████████████████████████████████| 128 kB 21.8 MB/s \n",
            "\u001b[?25hRequirement already satisfied: six==1.* in /usr/local/lib/python3.7/site-packages (from mordred) (1.14.0)\n",
            "Requirement already satisfied: numpy==1.* in /usr/local/lib/python3.7/site-packages (from mordred) (1.20.2)\n",
            "Collecting networkx==2.*\n",
            "  Downloading networkx-2.5-py3-none-any.whl (1.6 MB)\n",
            "\u001b[K     |████████████████████████████████| 1.6 MB 14.2 MB/s \n",
            "\u001b[?25hCollecting decorator>=4.3.0\n",
            "  Downloading decorator-4.4.2-py2.py3-none-any.whl (9.2 kB)\n",
            "Building wheels for collected packages: mordred\n",
            "  Building wheel for mordred (setup.py) ... \u001b[?25l\u001b[?25hdone\n",
            "  Created wheel for mordred: filename=mordred-1.2.0-py3-none-any.whl size=176719 sha256=e045252b4b25f2d2dae31e87b099621aef6743b058599c4829ebf15fdedae63d\n",
            "  Stored in directory: /root/.cache/pip/wheels/02/c0/2e/e7e3d63b431777712ebc128bc4deb9ac5cb19afc7c1ea341ec\n",
            "Successfully built mordred\n",
            "Installing collected packages: decorator, networkx, mordred\n",
            "Successfully installed decorator-4.4.2 mordred-1.2.0 networkx-2.5\n"
          ],
          "name": "stdout"
        },
        {
          "output_type": "display_data",
          "data": {
            "application/vnd.colab-display-data+json": {
              "pip_warning": {
                "packages": [
                  "decorator"
                ]
              }
            }
          },
          "metadata": {
            "tags": []
          }
        },
        {
          "output_type": "stream",
          "text": [
            "Collecting catboost\n",
            "  Downloading catboost-0.25-cp37-none-manylinux1_x86_64.whl (67.3 MB)\n",
            "\u001b[K     |████████████████████████████████| 67.3 MB 13 kB/s \n",
            "\u001b[?25hRequirement already satisfied: six in /usr/local/lib/python3.7/site-packages (from catboost) (1.14.0)\n",
            "Collecting plotly\n",
            "  Downloading plotly-4.14.3-py2.py3-none-any.whl (13.2 MB)\n",
            "\u001b[K     |████████████████████████████████| 13.2 MB 48.2 MB/s \n",
            "\u001b[?25hRequirement already satisfied: numpy>=1.16.0 in /usr/local/lib/python3.7/site-packages (from catboost) (1.20.2)\n",
            "Collecting graphviz\n",
            "  Downloading graphviz-0.16-py2.py3-none-any.whl (19 kB)\n",
            "Requirement already satisfied: matplotlib in /usr/local/lib/python3.7/site-packages (from catboost) (3.3.4)\n",
            "Requirement already satisfied: pandas>=0.24.0 in /usr/local/lib/python3.7/site-packages (from catboost) (1.2.3)\n",
            "Collecting scipy\n",
            "  Downloading scipy-1.6.2-cp37-cp37m-manylinux1_x86_64.whl (27.4 MB)\n",
            "\u001b[K     |████████████████████████████████| 27.4 MB 130 kB/s \n",
            "\u001b[?25hCollecting retrying>=1.3.3\n",
            "  Downloading retrying-1.3.3.tar.gz (10 kB)\n",
            "Requirement already satisfied: kiwisolver>=1.0.1 in /usr/local/lib/python3.7/site-packages (from matplotlib->catboost) (1.3.1)\n",
            "Requirement already satisfied: python-dateutil>=2.1 in /usr/local/lib/python3.7/site-packages (from matplotlib->catboost) (2.8.1)\n",
            "Requirement already satisfied: pyparsing!=2.0.4,!=2.1.2,!=2.1.6,>=2.0.3 in /usr/local/lib/python3.7/site-packages (from matplotlib->catboost) (2.4.7)\n",
            "Requirement already satisfied: pillow>=6.2.0 in /usr/local/lib/python3.7/site-packages (from matplotlib->catboost) (8.1.2)\n",
            "Requirement already satisfied: cycler>=0.10 in /usr/local/lib/python3.7/site-packages (from matplotlib->catboost) (0.10.0)\n",
            "Requirement already satisfied: pytz>=2017.3 in /usr/local/lib/python3.7/site-packages (from pandas>=0.24.0->catboost) (2021.1)\n",
            "Building wheels for collected packages: retrying\n",
            "  Building wheel for retrying (setup.py) ... \u001b[?25l\u001b[?25hdone\n",
            "  Created wheel for retrying: filename=retrying-1.3.3-py3-none-any.whl size=11430 sha256=682f0aa0675d92a9f70b16fdad62c489efd1c11fe256e1cc9d02d17563b4558c\n",
            "  Stored in directory: /root/.cache/pip/wheels/f9/8d/8d/f6af3f7f9eea3553bc2fe6d53e4b287dad18b06a861ac56ddf\n",
            "Successfully built retrying\n",
            "Installing collected packages: retrying, plotly, graphviz, scipy, catboost\n",
            "Successfully installed catboost-0.25 graphviz-0.16 plotly-4.14.3 retrying-1.3.3 scipy-1.6.2\n"
          ],
          "name": "stdout"
        }
      ]
    },
    {
      "cell_type": "code",
      "metadata": {
        "id": "wYtBuFw585mJ"
      },
      "source": [
        "import sys\n",
        "sys.path.append('/usr/local/lib/python3.7/site-packages/')"
      ],
      "execution_count": 4,
      "outputs": []
    },
    {
      "cell_type": "code",
      "metadata": {
        "id": "HTnfMhgf9rbs"
      },
      "source": [
        "#!conda install -y -c conda-forge rdkit\n",
        "from rdkit import rdBase"
      ],
      "execution_count": 5,
      "outputs": []
    },
    {
      "cell_type": "markdown",
      "metadata": {
        "id": "rGtWS-xAhqjS"
      },
      "source": [
        "# Data Preprocessing and Transformation\n",
        "\n"
      ]
    },
    {
      "cell_type": "markdown",
      "metadata": {
        "id": "is8ND83jiDKe"
      },
      "source": [
        ">Import all the dataset from the Google Drive"
      ]
    },
    {
      "cell_type": "code",
      "metadata": {
        "id": "t7VqxGzN-VdH",
        "colab": {
          "base_uri": "https://localhost:8080/"
        },
        "outputId": "de478652-1b0e-4c9b-ecf3-6498af1130a2"
      },
      "source": [
        "# Load the Drive helper and mount\n",
        "from google.colab import drive\n",
        "\n",
        "# This will prompt for authos# Load the Drive helper and mount\n",
        "from google.colab import drive\n",
        "\n",
        "# This will prompt for authoization.\n",
        "drive.mount('/content/drive', force_remount=True)\n",
        "\n",
        "# After executing the cell above, Drive\n",
        "# files will be present in \"/content/drive/My Drive\".\n",
        "!ls \"/content/drive/My Drive/ChemBL\""
      ],
      "execution_count": 6,
      "outputs": [
        {
          "output_type": "stream",
          "text": [
            "Mounted at /content/drive\n",
            " 5ht1A.csv     cox.csv\t\t gplearn_functions.py   mmp.csv     thrm.csv\n",
            " 5ht3.csv      d2.csv\t\t gplearn_genetic.py     pde4.csv\n",
            " ache.csv     'fxa (1).gsheet'\t hivp.csv\t        pkc.csv\n",
            " ache.gsheet   fxa.csv\t\t hivp.gsheet\t        renin.csv\n",
            " at1.csv       fxa.gsheet\t mmp1.csv\t        subp.csv\n"
          ],
          "name": "stdout"
        }
      ]
    },
    {
      "cell_type": "code",
      "metadata": {
        "id": "0sNGJGaypWtL"
      },
      "source": [
        "import pandas as pd\n",
        "import numpy as np\n",
        "from glob import glob\n",
        "\n",
        "filenames = glob('/content/drive/My Drive/ChemBL/*.csv')\n",
        "dataframes = [pd.read_csv(f) for f in filenames]"
      ],
      "execution_count": 92,
      "outputs": []
    },
    {
      "cell_type": "code",
      "metadata": {
        "id": "_kyXriGL1S0V",
        "colab": {
          "base_uri": "https://localhost:8080/"
        },
        "outputId": "ce0da493-e89b-4276-d73c-86eb05c67982"
      },
      "source": [
        "files = []\n",
        "\n",
        "# Get the filenames\n",
        "for filename in filenames:\n",
        "  files.append(filename)\n",
        "\n",
        "print(files)"
      ],
      "execution_count": 93,
      "outputs": [
        {
          "output_type": "stream",
          "text": [
            "['/content/drive/My Drive/ChemBL/at1.csv', '/content/drive/My Drive/ChemBL/mmp1.csv', '/content/drive/My Drive/ChemBL/pkc.csv', '/content/drive/My Drive/ChemBL/pde4.csv', '/content/drive/My Drive/ChemBL/5ht3.csv', '/content/drive/My Drive/ChemBL/cox.csv', '/content/drive/My Drive/ChemBL/ache.csv', '/content/drive/My Drive/ChemBL/d2.csv', '/content/drive/My Drive/ChemBL/renin.csv', '/content/drive/My Drive/ChemBL/subp.csv', '/content/drive/My Drive/ChemBL/thrm.csv', '/content/drive/My Drive/ChemBL/5ht1A.csv', '/content/drive/My Drive/ChemBL/hivp.csv', '/content/drive/My Drive/ChemBL/fxa.csv']\n"
          ],
          "name": "stdout"
        }
      ]
    },
    {
      "cell_type": "code",
      "metadata": {
        "id": "n7947luoGzze",
        "colab": {
          "base_uri": "https://localhost:8080/"
        },
        "outputId": "79f88590-2c30-4e1b-ccad-21dca8e29981"
      },
      "source": [
        "i = 0\n",
        "\n",
        "for dataframe in dataframes:\n",
        "  #dataframe = pd.DataFrame(dataframe)\n",
        "  #dataList.append(dataframe)\n",
        "  print(files[i])\n",
        "  i = i +1\n",
        "\n",
        "  print(dataframe)"
      ],
      "execution_count": 94,
      "outputs": [
        {
          "output_type": "stream",
          "text": [
            "/content/drive/My Drive/ChemBL/at1.csv\n",
            "     Column1  ... CLASS_LABEL\n",
            "0       2725  ...           1\n",
            "1       9926  ...           1\n",
            "2      32747  ...           1\n",
            "3      38798  ...           1\n",
            "4      38799  ...           1\n",
            "..       ...  ...         ...\n",
            "101    16308  ...           0\n",
            "102    16591  ...           0\n",
            "103    18694  ...           0\n",
            "104    18695  ...           0\n",
            "105    18834  ...           0\n",
            "\n",
            "[106 rows x 169 columns]\n",
            "/content/drive/My Drive/ChemBL/mmp1.csv\n",
            "     Column1  ... CLASS_LABEL\n",
            "0       1483  ...           1\n",
            "1       1484  ...           1\n",
            "2       1514  ...           1\n",
            "3       1515  ...           1\n",
            "4       1548  ...           1\n",
            "..       ...  ...         ...\n",
            "390  1559786  ...           0\n",
            "391  1559787  ...           0\n",
            "392  1559788  ...           0\n",
            "393  1559799  ...           0\n",
            "394  1559805  ...           0\n",
            "\n",
            "[395 rows x 169 columns]\n",
            "/content/drive/My Drive/ChemBL/pkc.csv\n",
            "     Column1  ... CLASS_LABEL\n",
            "0        213  ...           1\n",
            "1       1054  ...           1\n",
            "2      75229  ...           1\n",
            "3      75857  ...           1\n",
            "4      76236  ...           1\n",
            "..       ...  ...         ...\n",
            "206  1058603  ...           0\n",
            "207  1058604  ...           0\n",
            "208  1058605  ...           0\n",
            "209  1058607  ...           0\n",
            "210  1168094  ...           0\n",
            "\n",
            "[211 rows x 169 columns]\n",
            "/content/drive/My Drive/ChemBL/pde4.csv\n",
            "     Column1  ... CLASS_LABEL\n",
            "0       4872  ...           1\n",
            "1      21021  ...           1\n",
            "2      23745  ...           1\n",
            "3      48019  ...           1\n",
            "4      63401  ...           1\n",
            "..       ...  ...         ...\n",
            "251   578657  ...           0\n",
            "252   599751  ...           0\n",
            "253   600719  ...           0\n",
            "254   600720  ...           0\n",
            "255   600799  ...           0\n",
            "\n",
            "[256 rows x 169 columns]\n",
            "/content/drive/My Drive/ChemBL/5ht3.csv\n",
            "     Column1  ... CLASS_LABEL\n",
            "0       1186  ...           1\n",
            "1       2214  ...           1\n",
            "2       3183  ...           1\n",
            "3      13331  ...           1\n",
            "4      21258  ...           1\n",
            "..       ...  ...         ...\n",
            "208     4671  ...           0\n",
            "209     5925  ...           0\n",
            "210     5970  ...           0\n",
            "211     6216  ...           0\n",
            "212     6914  ...           0\n",
            "\n",
            "[213 rows x 169 columns]\n",
            "/content/drive/My Drive/ChemBL/cox.csv\n",
            "     Column1  ... CLASS_LABEL\n",
            "0        173  ...           1\n",
            "1       5080  ...           1\n",
            "2      10531  ...           1\n",
            "3      11674  ...           1\n",
            "4      13173  ...           1\n",
            "..       ...  ...         ...\n",
            "134     9492  ...           0\n",
            "135    14798  ...           0\n",
            "136    27251  ...           0\n",
            "137    27341  ...           0\n",
            "138    27639  ...           0\n",
            "\n",
            "[139 rows x 169 columns]\n",
            "/content/drive/My Drive/ChemBL/ache.csv\n",
            "     Column1  ... CLASS_LABEL\n",
            "0       1063  ...           1\n",
            "1       3765  ...           1\n",
            "2       5985  ...           1\n",
            "3       6914  ...           1\n",
            "4       9263  ...           1\n",
            "..       ...  ...         ...\n",
            "734    88800  ...           0\n",
            "735   110260  ...           0\n",
            "736   110358  ...           0\n",
            "737   111586  ...           0\n",
            "738  1590224  ...           0\n",
            "\n",
            "[739 rows x 169 columns]\n",
            "/content/drive/My Drive/ChemBL/d2.csv\n",
            "      Column1  ... CLASS_LABEL\n",
            "0         687  ...           1\n",
            "1         996  ...           1\n",
            "2        1333  ...           1\n",
            "3        2150  ...           1\n",
            "4        2203  ...           1\n",
            "...       ...  ...         ...\n",
            "1853  1443974  ...           0\n",
            "1854  1443975  ...           0\n",
            "1855  1443976  ...           0\n",
            "1856  1443977  ...           0\n",
            "1857  1589540  ...           0\n",
            "\n",
            "[1858 rows x 169 columns]\n",
            "/content/drive/My Drive/ChemBL/renin.csv\n",
            "     Column1  ... CLASS_LABEL\n",
            "0      29240  ...           1\n",
            "1      31536  ...           1\n",
            "2      31537  ...           1\n",
            "3      31644  ...           1\n",
            "4      31665  ...           1\n",
            "..       ...  ...         ...\n",
            "977   713349  ...           0\n",
            "978   713350  ...           0\n",
            "979   713439  ...           0\n",
            "980   713440  ...           0\n",
            "981   713536  ...           0\n",
            "\n",
            "[982 rows x 169 columns]\n",
            "/content/drive/My Drive/ChemBL/subp.csv\n",
            "     Column1  ... CLASS_LABEL\n",
            "0       6643  ...           1\n",
            "1      16524  ...           1\n",
            "2      28761  ...           1\n",
            "3      28938  ...           1\n",
            "4      29461  ...           1\n",
            "..       ...  ...         ...\n",
            "842   712804  ...           0\n",
            "843   712805  ...           0\n",
            "844   712806  ...           0\n",
            "845   712891  ...           0\n",
            "846  1587886  ...           0\n",
            "\n",
            "[847 rows x 169 columns]\n",
            "/content/drive/My Drive/ChemBL/thrm.csv\n",
            "     Column1  ... CLASS_LABEL\n",
            "0        369  ...           1\n",
            "1       2451  ...           1\n",
            "2       2641  ...           1\n",
            "3       2684  ...           1\n",
            "4       3666  ...           1\n",
            "..       ...  ...         ...\n",
            "839   231966  ...           0\n",
            "840   231967  ...           0\n",
            "841   289481  ...           0\n",
            "842   289750  ...           0\n",
            "843   289960  ...           0\n",
            "\n",
            "[844 rows x 169 columns]\n",
            "/content/drive/My Drive/ChemBL/5ht1A.csv\n",
            "      Column1  ... CLASS_LABEL\n",
            "0        2214  ...           1\n",
            "1        2232  ...           1\n",
            "2        2261  ...           1\n",
            "3        3587  ...           1\n",
            "4        3599  ...           1\n",
            "...       ...  ...         ...\n",
            "1478   281497  ...           0\n",
            "1479   281553  ...           0\n",
            "1480   294162  ...           0\n",
            "1481   296881  ...           0\n",
            "1482   296887  ...           0\n",
            "\n",
            "[1483 rows x 169 columns]\n",
            "/content/drive/My Drive/ChemBL/hivp.csv\n",
            "      Column1  ... CLASS_LABEL\n",
            "0        3859  ...           1\n",
            "1        5729  ...           1\n",
            "2        5735  ...           1\n",
            "3        5752  ...           1\n",
            "4        5755  ...           1\n",
            "...       ...  ...         ...\n",
            "2152   348967  ...           0\n",
            "2153   348978  ...           0\n",
            "2154   348990  ...           0\n",
            "2155   349206  ...           0\n",
            "2156   353878  ...           0\n",
            "\n",
            "[2157 rows x 169 columns]\n",
            "/content/drive/My Drive/ChemBL/fxa.csv\n",
            "      Column1  ... CLASS_LABEL\n",
            "0       22761  ...           1\n",
            "1       53663  ...           1\n",
            "2       67359  ...           1\n",
            "3       67408  ...           1\n",
            "4       74768  ...           1\n",
            "...       ...  ...         ...\n",
            "1497   313598  ...           0\n",
            "1498   313601  ...           0\n",
            "1499   313631  ...           0\n",
            "1500   313661  ...           0\n",
            "1501   313662  ...           0\n",
            "\n",
            "[1502 rows x 169 columns]\n"
          ],
          "name": "stdout"
        }
      ]
    },
    {
      "cell_type": "markdown",
      "metadata": {
        "id": "e39sVnVqVvWz"
      },
      "source": [
        "> From the data observation, we can see that all the datasets have **169 cols**. So I did the data preprocessing by using standard scaler to check any missing value inside the dataset.\n",
        "\n"
      ]
    },
    {
      "cell_type": "code",
      "metadata": {
        "id": "aQylmH9RxWS9"
      },
      "source": [
        "# MDLPublicKeys are the fingerprints of datasets\n",
        "\n",
        "index = [#'Column1', 'Column9',\t\n",
        "         'MDLPublicKeys[1]', 'MDLPublicKeys[2]', 'MDLPublicKeys[3]', 'MDLPublicKeys[4]',\n",
        "         'MDLPublicKeys[5]', 'MDLPublicKeys[6]', 'MDLPublicKeys[7]', 'MDLPublicKeys[8]',\n",
        "         'MDLPublicKeys[9]', 'MDLPublicKeys[10]', 'MDLPublicKeys[11]', 'MDLPublicKeys[12]',\n",
        "         'MDLPublicKeys[13]', 'MDLPublicKeys[14]', 'MDLPublicKeys[15]', 'MDLPublicKeys[16]',\n",
        "         'MDLPublicKeys[17]', 'MDLPublicKeys[18]',' MDLPublicKeys[19]', 'MDLPublicKeys[20]',\n",
        "         'MDLPublicKeys[21]', 'MDLPublicKeys[22]', 'MDLPublicKeys[23]', 'MDLPublicKeys[24]',\n",
        "         'MDLPublicKeys[25]', 'MDLPublicKeys[26]', 'MDLPublicKeys[27]', 'MDLPublicKeys[28]',\n",
        "         'MDLPublicKeys[29]', 'MDLPublicKeys[30]', 'MDLPublicKeys[31]', 'MDLPublicKeys[32]',\n",
        "         'MDLPublicKeys[33]', 'MDLPublicKeys[34]', 'MDLPublicKeys[35]',\t'MDLPublicKeys[36]',\n",
        "         'MDLPublicKeys[37]',\t'MDLPublicKeys[38]',\t'MDLPublicKeys[39]', 'MDLPublicKeys[40]',\n",
        "         'MDLPublicKeys[41]',\t'MDLPublicKeys[42]',\t'MDLPublicKeys[43]', 'MDLPublicKeys[44]',\n",
        "         'MDLPublicKeys[45]',\t'MDLPublicKeys[46]',\t'MDLPublicKeys[47]', 'MDLPublicKeys[48]',\n",
        "         'MDLPublicKeys[49]',\t'MDLPublicKeys[50]', 'MDLPublicKeys[51]',\t'MDLPublicKeys[52]', 'MDLPublicKeys[53]',\n",
        "         'MDLPublicKeys[54]',\t'MDLPublicKeys[55]', 'MDLPublicKeys[56]',\t'MDLPublicKeys[57]',\t'MDLPublicKeys[58]',\n",
        "         'MDLPublicKeys[59]', 'MDLPublicKeys[60]', 'MDLPublicKeys[61]', 'MDLPublicKeys[62]',\n",
        "         'MDLPublicKeys[63]',\t'MDLPublicKeys[64]', 'MDLPublicKeys[65]',\t'MDLPublicKeys[66]',\t\n",
        "         'MDLPublicKeys[67]', 'MDLPublicKeys[68]', 'MDLPublicKeys[69]', 'MDLPublicKeys[70]',\n",
        "         'MDLPublicKeys[71]', 'MDLPublicKeys[72]', 'MDLPublicKeys[73]', 'MDLPublicKeys[74]', 'MDLPublicKeys[75]', 'MDLPublicKeys[76]',\n",
        "         'MDLPublicKeys[77]', 'MDLPublicKeys[78]', 'MDLPublicKeys[79]','MDLPublicKeys[80]',\t\n",
        "         'MDLPublicKeys[81]', 'MDLPublicKeys[82]', 'MDLPublicKeys[83]','MDLPublicKeys[84]',\t\n",
        "         'MDLPublicKeys[85]', 'MDLPublicKeys[86]', 'MDLPublicKeys[87]','MDLPublicKeys[88]',\n",
        "         'MDLPublicKeys[89]', 'MDLPublicKeys[90]', 'MDLPublicKeys[91]','MDLPublicKeys[92]',\n",
        "         'MDLPublicKeys[93]', 'MDLPublicKeys[94]', 'MDLPublicKeys[95]','MDLPublicKeys[96]',\n",
        "         'MDLPublicKeys[97]', 'MDLPublicKeys[98]', 'MDLPublicKeys[99]','MDLPublicKeys[100]',\n",
        "         'MDLPublicKeys[101]', 'MDLPublicKeys[102]', 'MDLPublicKeys[103]','MDLPublicKeys[104]',\n",
        "         'MDLPublicKeys[105]', 'MDLPublicKeys[106]', 'MDLPublicKeys[107]','MDLPublicKeys[108]',\n",
        "         'MDLPublicKeys[109]', 'MDLPublicKeys[110]', 'MDLPublicKeys[111]','MDLPublicKeys[112]',\n",
        "         'MDLPublicKeys[113]', 'MDLPublicKeys[114]', 'MDLPublicKeys[115]','MDLPublicKeys[116]',\n",
        "         'MDLPublicKeys[117]', 'MDLPublicKeys[118]', 'MDLPublicKeys[119]', 'MDLPublicKeys[120]',\n",
        "         'MDLPublicKeys[121]', 'MDLPublicKeys[122]', 'MDLPublicKeys[123]', 'MDLPublicKeys[124]',\n",
        "         'MDLPublicKeys[125]', 'MDLPublicKeys[126]', 'MDLPublicKeys[127]', 'MDLPublicKeys[128]',\n",
        "         'MDLPublicKeys[129]', 'MDLPublicKeys[130]', 'MDLPublicKeys[131]', 'MDLPublicKeys[132]',\n",
        "         'MDLPublicKeys[133]', 'MDLPublicKeys[134]', 'MDLPublicKeys[135]', 'MDLPublicKeys[136]',\n",
        "         'MDLPublicKeys[137]', 'MDLPublicKeys[138]', 'MDLPublicKeys[139]', 'MDLPublicKeys[140]',\n",
        "         'MDLPublicKeys[141]', 'MDLPublicKeys[142]', 'MDLPublicKeys[143]', 'MDLPublicKeys[144]',\n",
        "         'MDLPublicKeys[145]', 'MDLPublicKeys[146]', 'MDLPublicKeys[147]', 'MDLPublicKeys[148]',\n",
        "         'MDLPublicKeys[149]', 'MDLPublicKeys[150]', 'MDLPublicKeys[151]', 'MDLPublicKeys[152]', \n",
        "         'MDLPublicKeys[153]', 'MDLPublicKeys[154]', 'MDLPublicKeys[155]', 'MDLPublicKeys[156]', \n",
        "         'MDLPublicKeys[157]', 'MDLPublicKeys[158]', 'MDLPublicKeys[159]', 'MDLPublicKeys[160]', \n",
        "         'MDLPublicKeys[161]','MDLPublicKeys[162]', 'MDLPublicKeys[163]', 'MDLPublicKeys[164]',\n",
        "         'MDLPublicKeys[165]', 'MDLPublicKeys[166]'\n",
        "         #'CLASS_LABEL'\n",
        "         ]"
      ],
      "execution_count": 10,
      "outputs": []
    },
    {
      "cell_type": "code",
      "metadata": {
        "id": "SkE0mjZLHm9g",
        "colab": {
          "base_uri": "https://localhost:8080/"
        },
        "outputId": "68cd2b5c-889c-4d60-ce21-7cff232e1c12"
      },
      "source": [
        "import array, random, operator, math\n",
        "from sklearn.preprocessing import StandardScaler\n",
        "\n",
        "i = 0\n",
        "data_distribution = []\n",
        "\n",
        "for dataframe in dataframes:\n",
        "  array = dataframe.to_numpy()\n",
        "  X = array[:,2:168]\n",
        "  y = array[:,-1]\n",
        "  data = StandardScaler().fit_transform(X)\n",
        "  data_distribution = [(files[i],data)]\n",
        "  print(files[i])\n",
        "  print(data, \"\\n\")\n",
        "  i = i +1"
      ],
      "execution_count": 11,
      "outputs": [
        {
          "output_type": "stream",
          "text": [
            "/content/drive/My Drive/ChemBL/mmp.csv\n",
            "[[-0.37115579 -0.05120468  0.         ...  0.13252371  0.3489077\n",
            "   0.07250947]\n",
            " [-0.37115579 -0.05120468  0.         ...  0.13252371  0.3489077\n",
            "   0.07250947]\n",
            " [-0.37115579 -0.05120468  0.         ...  0.13252371  0.3489077\n",
            "   0.07250947]\n",
            " ...\n",
            " [ 2.69428641 -0.05120468  0.         ...  0.13252371  0.3489077\n",
            "   0.07250947]\n",
            " [ 2.69428641 -0.05120468  0.         ...  0.13252371  0.3489077\n",
            "   0.07250947]\n",
            " [ 2.69428641 -0.05120468  0.         ...  0.13252371  0.3489077\n",
            "   0.07250947]] \n",
            "\n",
            "/content/drive/My Drive/ChemBL/at1.csv\n",
            "[[-0.34027852  0.          0.         ...  0.         -2.01186954\n",
            "   0.        ]\n",
            " [-0.34027852  0.          0.         ...  0.          0.49705012\n",
            "   0.        ]\n",
            " [-0.34027852  0.          0.         ...  0.          0.49705012\n",
            "   0.        ]\n",
            " ...\n",
            " [-0.34027852  0.          0.         ...  0.          0.49705012\n",
            "   0.        ]\n",
            " [-0.34027852  0.          0.         ...  0.          0.49705012\n",
            "   0.        ]\n",
            " [-0.34027852  0.          0.         ...  0.          0.49705012\n",
            "   0.        ]] \n",
            "\n",
            "/content/drive/My Drive/ChemBL/mmp1.csv\n",
            "[[-0.07133764  0.          0.         ...  0.34493502  0.\n",
            "   0.21850711]\n",
            " [-0.07133764  0.          0.         ...  0.34493502  0.\n",
            "   0.21850711]\n",
            " [-0.07133764  0.          0.         ...  0.34493502  0.\n",
            "   0.21850711]\n",
            " ...\n",
            " [-0.07133764  0.          0.         ...  0.34493502  0.\n",
            "   0.21850711]\n",
            " [-0.07133764  0.          0.         ...  0.34493502  0.\n",
            "   0.21850711]\n",
            " [14.01784577  0.          0.         ...  0.34493502  0.\n",
            "   0.21850711]] \n",
            "\n",
            "/content/drive/My Drive/ChemBL/pkc.csv\n",
            "[[-0.0978232  -0.13900961  0.         ...  0.45355737  0.\n",
            "   0.0978232 ]\n",
            " [-0.0978232  -0.13900961  0.         ...  0.45355737  0.\n",
            "   0.0978232 ]\n",
            " [-0.0978232  -0.13900961  0.         ...  0.45355737  0.\n",
            "   0.0978232 ]\n",
            " ...\n",
            " [-0.0978232  -0.13900961  0.         ...  0.45355737  0.\n",
            "   0.0978232 ]\n",
            " [-0.0978232  -0.13900961  0.         ...  0.45355737  0.\n",
            "   0.0978232 ]\n",
            " [-0.0978232  -0.13900961  0.         ...  0.45355737  0.\n",
            "   0.0978232 ]] \n",
            "\n",
            "/content/drive/My Drive/ChemBL/pde4.csv\n",
            "[[-0.06262243  0.          0.         ...  0.          0.39134787\n",
            "   0.        ]\n",
            " [-0.06262243  0.          0.         ...  0.          0.39134787\n",
            "   0.        ]\n",
            " [-0.06262243  0.          0.         ...  0.          0.39134787\n",
            "   0.        ]\n",
            " ...\n",
            " [-0.06262243  0.          0.         ...  0.          0.39134787\n",
            "   0.        ]\n",
            " [-0.06262243  0.          0.         ...  0.          0.39134787\n",
            "   0.        ]\n",
            " [-0.06262243  0.          0.         ...  0.          0.39134787\n",
            "   0.        ]] \n",
            "\n",
            "/content/drive/My Drive/ChemBL/5ht3.csv\n",
            "[[-0.29450754 -0.13834289  0.         ...  0.06868028  0.38903901\n",
            "   0.        ]\n",
            " [-0.29450754 -0.13834289  0.         ...  0.06868028  0.38903901\n",
            "   0.        ]\n",
            " [-0.29450754 -0.13834289  0.         ...  0.06868028  0.38903901\n",
            "   0.        ]\n",
            " ...\n",
            " [-0.29450754 -0.13834289  0.         ...  0.06868028 -2.57043632\n",
            "   0.        ]\n",
            " [-0.29450754 -0.13834289  0.         ...  0.06868028 -2.57043632\n",
            "   0.        ]\n",
            " [-0.29450754 -0.13834289  0.         ...  0.06868028  0.38903901\n",
            "   0.        ]] \n",
            "\n",
            "/content/drive/My Drive/ChemBL/cox.csv\n",
            "[[-0.17213259  0.          0.         ...  0.          0.17213259\n",
            "   0.        ]\n",
            " [-0.17213259  0.          0.         ...  0.          0.17213259\n",
            "   0.        ]\n",
            " [-0.17213259  0.          0.         ...  0.          0.17213259\n",
            "   0.        ]\n",
            " ...\n",
            " [-0.17213259  0.          0.         ...  0.          0.17213259\n",
            "   0.        ]\n",
            " [-0.17213259  0.          0.         ...  0.          0.17213259\n",
            "   0.        ]\n",
            " [-0.17213259  0.          0.         ...  0.          0.17213259\n",
            "   0.        ]] \n",
            "\n",
            "/content/drive/My Drive/ChemBL/ache.csv\n",
            "[[-0.49619123  0.          0.         ...  0.06384424  0.43150414\n",
            "   0.05209323]\n",
            " [-0.49619123  0.          0.         ...  0.06384424  0.43150414\n",
            "   0.05209323]\n",
            " [-0.49619123  0.          0.         ...  0.06384424  0.43150414\n",
            "   0.05209323]\n",
            " ...\n",
            " [-0.49619123  0.          0.         ...  0.06384424  0.43150414\n",
            "   0.05209323]\n",
            " [-0.49619123  0.          0.         ...  0.06384424 -2.31747484\n",
            "   0.05209323]\n",
            " [ 2.01535204  0.          0.         ...  0.06384424  0.43150414\n",
            "   0.05209323]] \n",
            "\n",
            "/content/drive/My Drive/ChemBL/d2.csv\n",
            "[[-0.21211878 -0.06976744  0.         ...  0.02320567  0.37400174\n",
            "   0.        ]\n",
            " [-0.21211878 -0.06976744  0.         ...  0.02320567 -2.67378436\n",
            "   0.        ]\n",
            " [-0.21211878 -0.06976744  0.         ...  0.02320567  0.37400174\n",
            "   0.        ]\n",
            " ...\n",
            " [ 4.71433983 -0.06976744  0.         ...  0.02320567 -2.67378436\n",
            "   0.        ]\n",
            " [ 4.71433983 -0.06976744  0.         ...  0.02320567 -2.67378436\n",
            "   0.        ]\n",
            " [-0.21211878 -0.06976744  0.         ...  0.02320567  0.37400174\n",
            "   0.        ]] \n",
            "\n",
            "/content/drive/My Drive/ChemBL/renin.csv\n",
            "[[-0.32916887  0.          0.         ...  0.07840626  0.08473185\n",
            "   0.05535658]\n",
            " [-0.32916887  0.          0.         ...  0.07840626  0.08473185\n",
            "   0.05535658]\n",
            " [-0.32916887  0.          0.         ...  0.07840626  0.08473185\n",
            "   0.05535658]\n",
            " ...\n",
            " [-0.32916887  0.          0.         ...  0.07840626  0.08473185\n",
            "   0.05535658]\n",
            " [-0.32916887  0.          0.         ...  0.07840626  0.08473185\n",
            "   0.05535658]\n",
            " [-0.32916887  0.          0.         ...  0.07840626  0.08473185\n",
            "   0.05535658]] \n",
            "\n",
            "/content/drive/My Drive/ChemBL/subp.csv\n",
            "[[-0.26095179 -0.03438071  0.         ...  0.          0.147353\n",
            "   0.        ]\n",
            " [-0.26095179 -0.03438071  0.         ...  0.          0.147353\n",
            "   0.        ]\n",
            " [-0.26095179 -0.03438071  0.         ...  0.          0.147353\n",
            "   0.        ]\n",
            " ...\n",
            " [-0.26095179 -0.03438071  0.         ...  0.          0.147353\n",
            "   0.        ]\n",
            " [-0.26095179 -0.03438071  0.         ...  0.          0.147353\n",
            "   0.        ]\n",
            " [-0.26095179 -0.03438071  0.         ...  0.          0.147353\n",
            "   0.        ]] \n",
            "\n",
            "/content/drive/My Drive/ChemBL/thrm.csv\n",
            "[[-0.28401728  0.          0.         ...  0.19851667  0.07719764\n",
            "   0.04873702]\n",
            " [-0.28401728  0.          0.         ...  0.19851667  0.07719764\n",
            "   0.04873702]\n",
            " [-0.28401728  0.          0.         ...  0.19851667  0.07719764\n",
            "   0.04873702]\n",
            " ...\n",
            " [-0.28401728  0.          0.         ...  0.19851667  0.07719764\n",
            "   0.04873702]\n",
            " [-0.28401728  0.          0.         ...  0.19851667  0.07719764\n",
            "   0.04873702]\n",
            " [-0.28401728  0.          0.         ...  0.19851667  0.07719764\n",
            "   0.04873702]] \n",
            "\n",
            "/content/drive/My Drive/ChemBL/5ht1A.csv\n",
            "[[-0.19062588 -0.06373608  0.         ...  0.0520051   0.26600399\n",
            "   0.        ]\n",
            " [-0.19062588 -0.06373608  0.         ...  0.0520051   0.26600399\n",
            "   0.        ]\n",
            " [-0.19062588 -0.06373608  0.         ...  0.0520051  -3.7593421\n",
            "   0.        ]\n",
            " ...\n",
            " [-0.19062588 -0.06373608  0.         ...  0.0520051   0.26600399\n",
            "   0.        ]\n",
            " [-0.19062588 -0.06373608  0.         ...  0.0520051   0.26600399\n",
            "   0.        ]\n",
            " [-0.19062588 -0.06373608  0.         ...  0.0520051   0.26600399\n",
            "   0.        ]] \n",
            "\n",
            "/content/drive/My Drive/ChemBL/hivp.csv\n",
            "[[-0.08644734  0.          0.         ...  0.0891287   0.11045743\n",
            "   0.05281477]\n",
            " [-0.08644734  0.          0.         ...  0.0891287   0.11045743\n",
            "   0.05281477]\n",
            " [-0.08644734  0.          0.         ...  0.0891287   0.11045743\n",
            "   0.05281477]\n",
            " ...\n",
            " [-0.08644734  0.          0.         ...  0.0891287   0.11045743\n",
            "   0.05281477]\n",
            " [-0.08644734  0.          0.         ...  0.0891287  -9.05326121\n",
            "   0.05281477]\n",
            " [-0.08644734  0.          0.         ...  0.0891287   0.11045743\n",
            "   0.05281477]] \n",
            "\n",
            "/content/drive/My Drive/ChemBL/fxa.csv\n",
            "[[-0.21438517  0.          0.         ...  0.05779285  0.14516921\n",
            "   0.03651484]\n",
            " [-0.21438517  0.          0.         ...  0.05779285  0.14516921\n",
            "   0.03651484]\n",
            " [-0.21438517  0.          0.         ...  0.05779285  0.14516921\n",
            "   0.03651484]\n",
            " ...\n",
            " [-0.21438517  0.          0.         ...  0.05779285  0.14516921\n",
            "   0.03651484]\n",
            " [-0.21438517  0.          0.         ...  0.05779285  0.14516921\n",
            "   0.03651484]\n",
            " [-0.21438517  0.          0.         ...  0.05779285  0.14516921\n",
            "   0.03651484]] \n",
            "\n"
          ],
          "name": "stdout"
        }
      ]
    },
    {
      "cell_type": "code",
      "metadata": {
        "id": "3beFjYnvtwQ6"
      },
      "source": [
        "import seaborn as sns\n",
        "import matplotlib.pyplot as plt\n",
        "\n",
        "tableau_20 = [(31,119,180), (174,199,232), (255,127,14),\n",
        "              (255,187,120), (44,160,44), (152,223,138),\n",
        "              (214,39,40), (255,152,150), (148,103,189)]\n",
        "\n",
        "for i in range(len(tableau_20)):\n",
        "  r, g, b = tableau_20[i]\n",
        "  tableau_20[i] = (r/255., g/255., b/255.)\n",
        "\n",
        "def make_plot(item):\n",
        "  temp = index[:]\n",
        "  file_, X = data_distribution[item]\n",
        "  dfTemp = pd.DataFrame(X, columns=temp)\n",
        "\n",
        "  print(file_, \":\")\n",
        "\n",
        "  sns.set_style(\"whitegrid\")\n",
        "\n",
        "  #Check The correlation wherethe is +VE or -VE\n",
        "  g = sns.jointplot(x = \"MDLPublicKeys[54]\", y = \"MDLPublicKeys[166]\",\n",
        "                    data = dfTemp, kind = \"reg\", color = tableau_20[6])\n",
        "  #corr = dfTemp.corr()\n",
        "  #sns.heatmap(corr)\n",
        "  \n",
        "  plt.show()\n",
        "  print()"
      ],
      "execution_count": 12,
      "outputs": []
    },
    {
      "cell_type": "code",
      "metadata": {
        "id": "u0MfV8tl3fx_",
        "colab": {
          "base_uri": "https://localhost:8080/",
          "height": 1000
        },
        "outputId": "99f45613-8632-4a79-def9-42e86d60252d"
      },
      "source": [
        "# for distribution in range(len(data_distribution)):\n",
        "  # make_plot(distribution)\n",
        "\n",
        "for dataframe in dataframes:\n",
        "  array = dataframe.to_numpy()\n",
        "  X = array[:,2:168]\n",
        "  y = array[:,-1]\n",
        "  data = StandardScaler().fit_transform(X)\n",
        "  for distribution in range(len(data_distribution)):\n",
        "    make_plot(distribution)"
      ],
      "execution_count": 13,
      "outputs": [
        {
          "output_type": "stream",
          "text": [
            "/content/drive/My Drive/ChemBL/fxa.csv :\n"
          ],
          "name": "stdout"
        },
        {
          "output_type": "display_data",
          "data": {
            "image/png": "[encoded data removed]",
            "text/plain": [
              "<Figure size 432x432 with 3 Axes>"
            ]
          },
          "metadata": {
            "tags": []
          }
        },
        {
          "output_type": "stream",
          "text": [
            "\n",
            "/content/drive/My Drive/ChemBL/fxa.csv :\n"
          ],
          "name": "stdout"
        },
        {
          "output_type": "display_data",
          "data": {
            "image/png": "[encoded data removed]",
            "text/plain": [
              "<Figure size 432x432 with 3 Axes>"
            ]
          },
          "metadata": {
            "tags": []
          }
        },
        {
          "output_type": "stream",
          "text": [
            "\n",
            "/content/drive/My Drive/ChemBL/fxa.csv :\n"
          ],
          "name": "stdout"
        },
        {
          "output_type": "display_data",
          "data": {
            "image/png": "[encoded data removed]",
            "text/plain": [
              "<Figure size 432x432 with 3 Axes>"
            ]
          },
          "metadata": {
            "tags": []
          }
        },
        {
          "output_type": "stream",
          "text": [
            "\n",
            "/content/drive/My Drive/ChemBL/fxa.csv :\n"
          ],
          "name": "stdout"
        },
        {
          "output_type": "display_data",
          "data": {
            "image/png": "[encoded data removed]",
            "text/plain": [
              "<Figure size 432x432 with 3 Axes>"
            ]
          },
          "metadata": {
            "tags": []
          }
        },
        {
          "output_type": "stream",
          "text": [
            "\n",
            "/content/drive/My Drive/ChemBL/fxa.csv :\n"
          ],
          "name": "stdout"
        },
        {
          "output_type": "display_data",
          "data": {
            "image/png": "[encoded data removed]",
            "text/plain": [
              "<Figure size 432x432 with 3 Axes>"
            ]
          },
          "metadata": {
            "tags": []
          }
        },
        {
          "output_type": "stream",
          "text": [
            "\n",
            "/content/drive/My Drive/ChemBL/fxa.csv :\n"
          ],
          "name": "stdout"
        },
        {
          "output_type": "display_data",
          "data": {
            "image/png": "[encoded data removed]",
            "text/plain": [
              "<Figure size 432x432 with 3 Axes>"
            ]
          },
          "metadata": {
            "tags": []
          }
        },
        {
          "output_type": "stream",
          "text": [
            "\n",
            "/content/drive/My Drive/ChemBL/fxa.csv :\n"
          ],
          "name": "stdout"
        },
        {
          "output_type": "display_data",
          "data": {
            "image/png": "[encoded data removed]",
            "text/plain": [
              "<Figure size 432x432 with 3 Axes>"
            ]
          },
          "metadata": {
            "tags": []
          }
        },
        {
          "output_type": "stream",
          "text": [
            "\n",
            "/content/drive/My Drive/ChemBL/fxa.csv :\n"
          ],
          "name": "stdout"
        },
        {
          "output_type": "display_data",
          "data": {
            "image/png": "[encoded data removed]",
            "text/plain": [
              "<Figure size 432x432 with 3 Axes>"
            ]
          },
          "metadata": {
            "tags": []
          }
        },
        {
          "output_type": "stream",
          "text": [
            "\n",
            "/content/drive/My Drive/ChemBL/fxa.csv :\n"
          ],
          "name": "stdout"
        },
        {
          "output_type": "display_data",
          "data": {
            "image/png": "[encoded data removed]",
            "text/plain": [
              "<Figure size 432x432 with 3 Axes>"
            ]
          },
          "metadata": {
            "tags": []
          }
        },
        {
          "output_type": "stream",
          "text": [
            "\n",
            "/content/drive/My Drive/ChemBL/fxa.csv :\n"
          ],
          "name": "stdout"
        },
        {
          "output_type": "display_data",
          "data": {
            "image/png": "[encoded data removed]",
            "text/plain": [
              "<Figure size 432x432 with 3 Axes>"
            ]
          },
          "metadata": {
            "tags": []
          }
        },
        {
          "output_type": "stream",
          "text": [
            "\n",
            "/content/drive/My Drive/ChemBL/fxa.csv :\n"
          ],
          "name": "stdout"
        },
        {
          "output_type": "display_data",
          "data": {
            "image/png": "[encoded data removed]",
            "text/plain": [
              "<Figure size 432x432 with 3 Axes>"
            ]
          },
          "metadata": {
            "tags": []
          }
        },
        {
          "output_type": "stream",
          "text": [
            "\n",
            "/content/drive/My Drive/ChemBL/fxa.csv :\n"
          ],
          "name": "stdout"
        },
        {
          "output_type": "display_data",
          "data": {
            "image/png": "[encoded data removed]",
            "text/plain": [
              "<Figure size 432x432 with 3 Axes>"
            ]
          },
          "metadata": {
            "tags": []
          }
        },
        {
          "output_type": "stream",
          "text": [
            "\n",
            "/content/drive/My Drive/ChemBL/fxa.csv :\n"
          ],
          "name": "stdout"
        },
        {
          "output_type": "display_data",
          "data": {
            "image/png": "[encoded data removed]",
            "text/plain": [
              "<Figure size 432x432 with 3 Axes>"
            ]
          },
          "metadata": {
            "tags": []
          }
        },
        {
          "output_type": "stream",
          "text": [
            "\n",
            "/content/drive/My Drive/ChemBL/fxa.csv :\n"
          ],
          "name": "stdout"
        },
        {
          "output_type": "display_data",
          "data": {
            "image/png": "[encoded data removed]",
            "text/plain": [
              "<Figure size 432x432 with 3 Axes>"
            ]
          },
          "metadata": {
            "tags": []
          }
        },
        {
          "output_type": "stream",
          "text": [
            "\n",
            "/content/drive/My Drive/ChemBL/fxa.csv :\n"
          ],
          "name": "stdout"
        },
        {
          "output_type": "display_data",
          "data": {
            "image/png": "[encoded data removed]",
            "text/plain": [
              "<Figure size 432x432 with 3 Axes>"
            ]
          },
          "metadata": {
            "tags": []
          }
        },
        {
          "output_type": "stream",
          "text": [
            "\n"
          ],
          "name": "stdout"
        }
      ]
    },
    {
      "cell_type": "markdown",
      "metadata": {
        "id": "UBOxudbLWZ20"
      },
      "source": [
        "After the data preprocessing, we can know that all of them do not has any missing value."
      ]
    },
    {
      "cell_type": "markdown",
      "metadata": {
        "id": "a99OYrBPWqm9"
      },
      "source": [
        "# Genetic Programming"
      ]
    },
    {
      "cell_type": "code",
      "metadata": {
        "id": "11rFbs40gRsi",
        "colab": {
          "base_uri": "https://localhost:8080/",
          "height": 436
        },
        "outputId": "37e46019-cff1-412c-9672-836599c9091f"
      },
      "source": [
        "pip install lgp"
      ],
      "execution_count": 14,
      "outputs": [
        {
          "output_type": "stream",
          "text": [
            "Collecting lgp\n",
            "  Downloading lgp-0.0.5-py3-none-any.whl (28 kB)\n",
            "Requirement already satisfied: pandas>=0.25.3 in /usr/local/lib/python3.7/site-packages (from lgp) (1.2.3)\n",
            "Requirement already satisfied: numpy>=1.18.1 in /usr/local/lib/python3.7/site-packages (from lgp) (1.20.2)\n",
            "Requirement already satisfied: scipy>=1.3.1 in /usr/local/lib/python3.7/site-packages (from lgp) (1.6.2)\n",
            "Collecting scikit-learn>=0.22.1\n",
            "  Downloading scikit_learn-0.24.1-cp37-cp37m-manylinux2010_x86_64.whl (22.3 MB)\n",
            "\u001b[K     |████████████████████████████████| 22.3 MB 1.5 MB/s \n",
            "\u001b[?25hRequirement already satisfied: python-dateutil>=2.7.3 in /usr/local/lib/python3.7/site-packages (from pandas>=0.25.3->lgp) (2.8.1)\n",
            "Requirement already satisfied: pytz>=2017.3 in /usr/local/lib/python3.7/site-packages (from pandas>=0.25.3->lgp) (2021.1)\n",
            "Collecting threadpoolctl>=2.0.0\n",
            "  Downloading threadpoolctl-2.1.0-py3-none-any.whl (12 kB)\n",
            "Collecting joblib>=0.11\n",
            "  Downloading joblib-1.0.1-py3-none-any.whl (303 kB)\n",
            "\u001b[K     |████████████████████████████████| 303 kB 61.9 MB/s \n",
            "\u001b[?25hRequirement already satisfied: six>=1.5 in /usr/local/lib/python3.7/site-packages (from python-dateutil>=2.7.3->pandas>=0.25.3->lgp) (1.14.0)\n",
            "Installing collected packages: threadpoolctl, joblib, scikit-learn, lgp\n",
            "Successfully installed joblib-1.0.1 lgp-0.0.5 scikit-learn-0.24.1 threadpoolctl-2.1.0\n"
          ],
          "name": "stdout"
        },
        {
          "output_type": "display_data",
          "data": {
            "application/vnd.colab-display-data+json": {
              "pip_warning": {
                "packages": [
                  "joblib"
                ]
              }
            }
          },
          "metadata": {
            "tags": []
          }
        }
      ]
    },
    {
      "cell_type": "code",
      "metadata": {
        "id": "EtE4bRWiPHsU",
        "colab": {
          "base_uri": "https://localhost:8080/"
        },
        "outputId": "65dbe19f-e120-4706-8558-c883ad37b098"
      },
      "source": [
        "import random\n",
        "import operator\n",
        "import math\n",
        "\n",
        "from deap import algorithms, base, creator, gp, tools\n",
        "from gplearn.functions import make_function\n",
        "from gplearn.genetic import SymbolicRegressor\n",
        "%pylab inline\n",
        "from sklearn.ensemble import RandomForestRegressor\n",
        "from sklearn.tree import DecisionTreeRegressor\n",
        "#from linear_genetic_programming.lgp_classifier import LGPClassifier\n",
        "\n",
        "from sympy import *\n",
        "from sklearn.model_selection import train_test_split\n",
        "from sklearn.metrics import accuracy_score\n",
        "from sklearn import metrics"
      ],
      "execution_count": 15,
      "outputs": [
        {
          "output_type": "stream",
          "text": [
            "Populating the interactive namespace from numpy and matplotlib\n"
          ],
          "name": "stdout"
        },
        {
          "output_type": "stream",
          "text": [
            "/usr/local/lib/python3.7/dist-packages/IPython/core/magics/pylab.py:161: UserWarning: pylab import has clobbered these variables: ['array', 'random']\n",
            "`%matplotlib` prevents importing * from pylab and numpy\n",
            "  \"\\n`%matplotlib` prevents importing * from pylab and numpy\"\n"
          ],
          "name": "stderr"
        }
      ]
    },
    {
      "cell_type": "code",
      "metadata": {
        "id": "-9kWXocd1_3G",
        "colab": {
          "base_uri": "https://localhost:8080/"
        },
        "outputId": "6202c2b8-71ba-4aeb-ece2-a5e35b23e342"
      },
      "source": [
        "import operator\n",
        "## CREATE EQUATION \n",
        "\"\"\"\n",
        "Terminal \n",
        "N: total number of compounds, \n",
        "NACT: number of active compounds, \n",
        "NINACT: number of inactive compounds, \n",
        "TOT: total number of compounds containing fragment I (O, N, C, H, Br, I, Cl, F, S, or P)\n",
        "ACT: number of active compounds containing fragment I, \n",
        "INACT: number of inactive compounds containing fragment I\n",
        "\"\"\"\n",
        "\n",
        "val1 = {\"terminal\": \"NINACT\"}\n",
        "val2 = {\"terminal\": \"N\"}\n",
        "val3 = {\"terminal\": \"NACT\"}\n",
        "val4 = {\"terminal\": \"INACT\"}\n",
        "val5 = {\"terminal\": \"TOT\"}\n",
        "val6 = {\"terminal\": \"ACT\"}\n",
        "\n",
        "node1 = {\n",
        "    \"func\": operator.sub,\n",
        "    \"children\": [val2, val3],\n",
        "    \"format_str\": \"({} / {})\",\n",
        "}\n",
        "\n",
        "node2 ={\n",
        "    \"func\": operator.sub,\n",
        "    \"children\": [node1, val4],\n",
        "    \"format_str\": \"({} - {})\",   \n",
        "}\n",
        "\n",
        "node3 = {\n",
        "    \"func\": operator.sub,\n",
        "    \"children\": [node2, val5],\n",
        "    \"format_str\": \"({} + {})\",\n",
        "}\n",
        "\n",
        "node4 = {\n",
        "    \"func\": operator.sub,\n",
        "    \"children\": [node3, val6],\n",
        "    \"format_str\": \"({} / {})\",\n",
        "}\n",
        "\n",
        "program = {\n",
        "    \"func\": operator.mul,\n",
        "    \"children\": [node4, val1],\n",
        "    \"format_str\": \"({} * {})\",\n",
        "}\n",
        "\n",
        "def render_prog(node):\n",
        "    if \"children\" not in node:\n",
        "        return node[\"terminal\"]\n",
        "    return node[\"format_str\"].format(*[render_prog(c) for c in node[\"children\"]])\n",
        "\n",
        "print(render_prog(program))"
      ],
      "execution_count": 39,
      "outputs": [
        {
          "output_type": "stream",
          "text": [
            "(((((N / NACT) - INACT) + TOT) / ACT) * NINACT)\n"
          ],
          "name": "stdout"
        }
      ]
    },
    {
      "cell_type": "code",
      "metadata": {
        "id": "6OfdYl_Xmk6N",
        "colab": {
          "base_uri": "https://localhost:8080/"
        },
        "outputId": "5df0c10f-6e16-4095-a8dc-e96172e4d3df"
      },
      "source": [
        "print(program)"
      ],
      "execution_count": 17,
      "outputs": [
        {
          "output_type": "stream",
          "text": [
            "{'func': <built-in function mul>, 'children': [{'func': <built-in function sub>, 'children': [{'func': <built-in function sub>, 'children': [{'func': <built-in function sub>, 'children': [{'func': <built-in function sub>, 'children': [{'terminal': 'N'}, {'terminal': 'NACT'}], 'format_str': '({} / {})'}, {'terminal': 'INACT'}], 'format_str': '({} - {})'}, {'terminal': 'TOT'}], 'format_str': '({} / {})'}, {'terminal': 'ACT'}], 'format_str': '({} / {})'}, {'terminal': 'NINACT'}], 'format_str': '({} * {})'}\n"
          ],
          "name": "stdout"
        }
      ]
    },
    {
      "cell_type": "code",
      "metadata": {
        "id": "mxgb0BJCjbW8",
        "colab": {
          "base_uri": "https://localhost:8080/"
        },
        "outputId": "5bbc1f39-26ba-4835-9150-be1c49843334"
      },
      "source": [
        "x = 0\n",
        "for i in dataframes:\n",
        "  print(x)\n",
        "  print(files[x])\n",
        "  print(i['CLASS_LABEL'])\n",
        "  print(\"\\n\\n\")\n",
        "  x += 1"
      ],
      "execution_count": 95,
      "outputs": [
        {
          "output_type": "stream",
          "text": [
            "0\n",
            "/content/drive/My Drive/ChemBL/at1.csv\n",
            "0      1\n",
            "1      1\n",
            "2      1\n",
            "3      1\n",
            "4      1\n",
            "      ..\n",
            "101    0\n",
            "102    0\n",
            "103    0\n",
            "104    0\n",
            "105    0\n",
            "Name: CLASS_LABEL, Length: 106, dtype: int64\n",
            "\n",
            "\n",
            "\n",
            "1\n",
            "/content/drive/My Drive/ChemBL/mmp1.csv\n",
            "0      1\n",
            "1      1\n",
            "2      1\n",
            "3      1\n",
            "4      1\n",
            "      ..\n",
            "390    0\n",
            "391    0\n",
            "392    0\n",
            "393    0\n",
            "394    0\n",
            "Name: CLASS_LABEL, Length: 395, dtype: int64\n",
            "\n",
            "\n",
            "\n",
            "2\n",
            "/content/drive/My Drive/ChemBL/pkc.csv\n",
            "0      1\n",
            "1      1\n",
            "2      1\n",
            "3      1\n",
            "4      1\n",
            "      ..\n",
            "206    0\n",
            "207    0\n",
            "208    0\n",
            "209    0\n",
            "210    0\n",
            "Name: CLASS_LABEL, Length: 211, dtype: int64\n",
            "\n",
            "\n",
            "\n",
            "3\n",
            "/content/drive/My Drive/ChemBL/pde4.csv\n",
            "0      1\n",
            "1      1\n",
            "2      1\n",
            "3      1\n",
            "4      1\n",
            "      ..\n",
            "251    0\n",
            "252    0\n",
            "253    0\n",
            "254    0\n",
            "255    0\n",
            "Name: CLASS_LABEL, Length: 256, dtype: int64\n",
            "\n",
            "\n",
            "\n",
            "4\n",
            "/content/drive/My Drive/ChemBL/5ht3.csv\n",
            "0      1\n",
            "1      1\n",
            "2      1\n",
            "3      1\n",
            "4      1\n",
            "      ..\n",
            "208    0\n",
            "209    0\n",
            "210    0\n",
            "211    0\n",
            "212    0\n",
            "Name: CLASS_LABEL, Length: 213, dtype: int64\n",
            "\n",
            "\n",
            "\n",
            "5\n",
            "/content/drive/My Drive/ChemBL/cox.csv\n",
            "0      1\n",
            "1      1\n",
            "2      1\n",
            "3      1\n",
            "4      1\n",
            "      ..\n",
            "134    0\n",
            "135    0\n",
            "136    0\n",
            "137    0\n",
            "138    0\n",
            "Name: CLASS_LABEL, Length: 139, dtype: int64\n",
            "\n",
            "\n",
            "\n",
            "6\n",
            "/content/drive/My Drive/ChemBL/ache.csv\n",
            "0      1\n",
            "1      1\n",
            "2      1\n",
            "3      1\n",
            "4      1\n",
            "      ..\n",
            "734    0\n",
            "735    0\n",
            "736    0\n",
            "737    0\n",
            "738    0\n",
            "Name: CLASS_LABEL, Length: 739, dtype: int64\n",
            "\n",
            "\n",
            "\n",
            "7\n",
            "/content/drive/My Drive/ChemBL/d2.csv\n",
            "0       1\n",
            "1       1\n",
            "2       1\n",
            "3       1\n",
            "4       1\n",
            "       ..\n",
            "1853    0\n",
            "1854    0\n",
            "1855    0\n",
            "1856    0\n",
            "1857    0\n",
            "Name: CLASS_LABEL, Length: 1858, dtype: int64\n",
            "\n",
            "\n",
            "\n",
            "8\n",
            "/content/drive/My Drive/ChemBL/renin.csv\n",
            "0      1\n",
            "1      1\n",
            "2      1\n",
            "3      1\n",
            "4      1\n",
            "      ..\n",
            "977    0\n",
            "978    0\n",
            "979    0\n",
            "980    0\n",
            "981    0\n",
            "Name: CLASS_LABEL, Length: 982, dtype: int64\n",
            "\n",
            "\n",
            "\n",
            "9\n",
            "/content/drive/My Drive/ChemBL/subp.csv\n",
            "0      1\n",
            "1      1\n",
            "2      1\n",
            "3      1\n",
            "4      1\n",
            "      ..\n",
            "842    0\n",
            "843    0\n",
            "844    0\n",
            "845    0\n",
            "846    0\n",
            "Name: CLASS_LABEL, Length: 847, dtype: int64\n",
            "\n",
            "\n",
            "\n",
            "10\n",
            "/content/drive/My Drive/ChemBL/thrm.csv\n",
            "0      1\n",
            "1      1\n",
            "2      1\n",
            "3      1\n",
            "4      1\n",
            "      ..\n",
            "839    0\n",
            "840    0\n",
            "841    0\n",
            "842    0\n",
            "843    0\n",
            "Name: CLASS_LABEL, Length: 844, dtype: int64\n",
            "\n",
            "\n",
            "\n",
            "11\n",
            "/content/drive/My Drive/ChemBL/5ht1A.csv\n",
            "0       1\n",
            "1       1\n",
            "2       1\n",
            "3       1\n",
            "4       1\n",
            "       ..\n",
            "1478    0\n",
            "1479    0\n",
            "1480    0\n",
            "1481    0\n",
            "1482    0\n",
            "Name: CLASS_LABEL, Length: 1483, dtype: int64\n",
            "\n",
            "\n",
            "\n",
            "12\n",
            "/content/drive/My Drive/ChemBL/hivp.csv\n",
            "0       1\n",
            "1       1\n",
            "2       1\n",
            "3       1\n",
            "4       1\n",
            "       ..\n",
            "2152    0\n",
            "2153    0\n",
            "2154    0\n",
            "2155    0\n",
            "2156    0\n",
            "Name: CLASS_LABEL, Length: 2157, dtype: int64\n",
            "\n",
            "\n",
            "\n",
            "13\n",
            "/content/drive/My Drive/ChemBL/fxa.csv\n",
            "0       1\n",
            "1       1\n",
            "2       1\n",
            "3       1\n",
            "4       1\n",
            "       ..\n",
            "1497    0\n",
            "1498    0\n",
            "1499    0\n",
            "1500    0\n",
            "1501    0\n",
            "Name: CLASS_LABEL, Length: 1502, dtype: int64\n",
            "\n",
            "\n",
            "\n"
          ],
          "name": "stdout"
        }
      ]
    },
    {
      "cell_type": "code",
      "metadata": {
        "id": "C9RhHWdTpHnA"
      },
      "source": [
        "df_list = []\n",
        "i = 0\n",
        "for dataframe in dataframes:\n",
        "  # name of drugs\n",
        "  Name = files[i]\n",
        "  Name = Name[31:-4].upper()\n",
        "\n",
        "  # total number of compounds\n",
        "  N = dataframe['CLASS_LABEL'].count() \n",
        "  \n",
        "  # number of active compounds\n",
        "  NACT = dataframe['CLASS_LABEL'].sum()\n",
        "  \n",
        "  # number of inactive compounds\n",
        "  NINACT = N - NACT\n",
        "  \n",
        "  # total number of compounds containing fragment I\n",
        "  TOT = N * 0.75\n",
        "\n",
        "  #number of active compounds containing fragment I\n",
        "  ACT = NACT * 0.7\n",
        "\n",
        "  # number of inactive compounds containing fragment I\n",
        "  INACT = NINACT * 0.3\n",
        "\n",
        "  df = {'Name': Name,\n",
        "          'N': N,\n",
        "          'NACT': NACT,\n",
        "          'NINACT': NINACT,\n",
        "          'TOT': int(TOT),\n",
        "          'ACT': int(ACT),\n",
        "          'INACT': int(INACT)\n",
        "        }\n",
        "  df_list.append(df)\n",
        "  #print(df)\n",
        "  i +=1"
      ],
      "execution_count": 96,
      "outputs": []
    },
    {
      "cell_type": "code",
      "metadata": {
        "id": "HAyvbVoZrfRO",
        "colab": {
          "base_uri": "https://localhost:8080/",
          "height": 478
        },
        "outputId": "76f3b38e-7f31-49d6-eac4-e8476d9d65dd"
      },
      "source": [
        "test = pd.DataFrame(df_list)\n",
        "test.to_csv(\"test_dataset.csv\")\n",
        "test"
      ],
      "execution_count": 97,
      "outputs": [
        {
          "output_type": "execute_result",
          "data": {
            "text/html": [
              "<div>\n",
              "<style scoped>\n",
              "    .dataframe tbody tr th:only-of-type {\n",
              "        vertical-align: middle;\n",
              "    }\n",
              "\n",
              "    .dataframe tbody tr th {\n",
              "        vertical-align: top;\n",
              "    }\n",
              "\n",
              "    .dataframe thead th {\n",
              "        text-align: right;\n",
              "    }\n",
              "</style>\n",
              "<table border=\"1\" class=\"dataframe\">\n",
              "  <thead>\n",
              "    <tr style=\"text-align: right;\">\n",
              "      <th></th>\n",
              "      <th>Name</th>\n",
              "      <th>N</th>\n",
              "      <th>NACT</th>\n",
              "      <th>NINACT</th>\n",
              "      <th>TOT</th>\n",
              "      <th>ACT</th>\n",
              "      <th>INACT</th>\n",
              "    </tr>\n",
              "  </thead>\n",
              "  <tbody>\n",
              "    <tr>\n",
              "      <th>0</th>\n",
              "      <td>AT1</td>\n",
              "      <td>106</td>\n",
              "      <td>93</td>\n",
              "      <td>13</td>\n",
              "      <td>79</td>\n",
              "      <td>65</td>\n",
              "      <td>3</td>\n",
              "    </tr>\n",
              "    <tr>\n",
              "      <th>1</th>\n",
              "      <td>MMP1</td>\n",
              "      <td>395</td>\n",
              "      <td>356</td>\n",
              "      <td>39</td>\n",
              "      <td>296</td>\n",
              "      <td>249</td>\n",
              "      <td>11</td>\n",
              "    </tr>\n",
              "    <tr>\n",
              "      <th>2</th>\n",
              "      <td>PKC</td>\n",
              "      <td>211</td>\n",
              "      <td>189</td>\n",
              "      <td>22</td>\n",
              "      <td>158</td>\n",
              "      <td>132</td>\n",
              "      <td>6</td>\n",
              "    </tr>\n",
              "    <tr>\n",
              "      <th>3</th>\n",
              "      <td>PDE4</td>\n",
              "      <td>256</td>\n",
              "      <td>229</td>\n",
              "      <td>27</td>\n",
              "      <td>192</td>\n",
              "      <td>160</td>\n",
              "      <td>8</td>\n",
              "    </tr>\n",
              "    <tr>\n",
              "      <th>4</th>\n",
              "      <td>5HT3</td>\n",
              "      <td>213</td>\n",
              "      <td>192</td>\n",
              "      <td>21</td>\n",
              "      <td>159</td>\n",
              "      <td>134</td>\n",
              "      <td>6</td>\n",
              "    </tr>\n",
              "    <tr>\n",
              "      <th>5</th>\n",
              "      <td>COX</td>\n",
              "      <td>139</td>\n",
              "      <td>125</td>\n",
              "      <td>14</td>\n",
              "      <td>104</td>\n",
              "      <td>87</td>\n",
              "      <td>4</td>\n",
              "    </tr>\n",
              "    <tr>\n",
              "      <th>6</th>\n",
              "      <td>ACHE</td>\n",
              "      <td>739</td>\n",
              "      <td>665</td>\n",
              "      <td>74</td>\n",
              "      <td>554</td>\n",
              "      <td>465</td>\n",
              "      <td>22</td>\n",
              "    </tr>\n",
              "    <tr>\n",
              "      <th>7</th>\n",
              "      <td>D2</td>\n",
              "      <td>1858</td>\n",
              "      <td>1672</td>\n",
              "      <td>186</td>\n",
              "      <td>1393</td>\n",
              "      <td>1170</td>\n",
              "      <td>55</td>\n",
              "    </tr>\n",
              "    <tr>\n",
              "      <th>8</th>\n",
              "      <td>RENIN</td>\n",
              "      <td>982</td>\n",
              "      <td>880</td>\n",
              "      <td>102</td>\n",
              "      <td>736</td>\n",
              "      <td>616</td>\n",
              "      <td>30</td>\n",
              "    </tr>\n",
              "    <tr>\n",
              "      <th>9</th>\n",
              "      <td>SUBP</td>\n",
              "      <td>847</td>\n",
              "      <td>762</td>\n",
              "      <td>85</td>\n",
              "      <td>635</td>\n",
              "      <td>533</td>\n",
              "      <td>25</td>\n",
              "    </tr>\n",
              "    <tr>\n",
              "      <th>10</th>\n",
              "      <td>THRM</td>\n",
              "      <td>844</td>\n",
              "      <td>754</td>\n",
              "      <td>90</td>\n",
              "      <td>633</td>\n",
              "      <td>527</td>\n",
              "      <td>27</td>\n",
              "    </tr>\n",
              "    <tr>\n",
              "      <th>11</th>\n",
              "      <td>5HT1A</td>\n",
              "      <td>1483</td>\n",
              "      <td>1334</td>\n",
              "      <td>149</td>\n",
              "      <td>1112</td>\n",
              "      <td>933</td>\n",
              "      <td>44</td>\n",
              "    </tr>\n",
              "    <tr>\n",
              "      <th>12</th>\n",
              "      <td>HIVP</td>\n",
              "      <td>2157</td>\n",
              "      <td>1937</td>\n",
              "      <td>220</td>\n",
              "      <td>1617</td>\n",
              "      <td>1355</td>\n",
              "      <td>66</td>\n",
              "    </tr>\n",
              "    <tr>\n",
              "      <th>13</th>\n",
              "      <td>FXA</td>\n",
              "      <td>1502</td>\n",
              "      <td>1351</td>\n",
              "      <td>151</td>\n",
              "      <td>1126</td>\n",
              "      <td>945</td>\n",
              "      <td>45</td>\n",
              "    </tr>\n",
              "  </tbody>\n",
              "</table>\n",
              "</div>"
            ],
            "text/plain": [
              "     Name     N  NACT  NINACT   TOT   ACT  INACT\n",
              "0     AT1   106    93      13    79    65      3\n",
              "1    MMP1   395   356      39   296   249     11\n",
              "2     PKC   211   189      22   158   132      6\n",
              "3    PDE4   256   229      27   192   160      8\n",
              "4    5HT3   213   192      21   159   134      6\n",
              "5     COX   139   125      14   104    87      4\n",
              "6    ACHE   739   665      74   554   465     22\n",
              "7      D2  1858  1672     186  1393  1170     55\n",
              "8   RENIN   982   880     102   736   616     30\n",
              "9    SUBP   847   762      85   635   533     25\n",
              "10   THRM   844   754      90   633   527     27\n",
              "11  5HT1A  1483  1334     149  1112   933     44\n",
              "12   HIVP  2157  1937     220  1617  1355     66\n",
              "13    FXA  1502  1351     151  1126   945     45"
            ]
          },
          "metadata": {
            "tags": []
          },
          "execution_count": 97
        }
      ]
    },
    {
      "cell_type": "code",
      "metadata": {
        "id": "e6XlB5pSQNxg",
        "colab": {
          "base_uri": "https://localhost:8080/"
        },
        "outputId": "5db4588b-5a02-4c67-d5d8-4f9ece82fc6e"
      },
      "source": [
        "i = 0\n",
        "df_list_ = []\n",
        "# Iterate over column names\n",
        "for dataframe in dataframes:\n",
        "  df = dataframe#.iloc[:, 2:168]\n",
        "\n",
        "  for column in index[0:18]:\n",
        "    #columnSeriesObj = df[column]\n",
        "    label = column\n",
        "    \n",
        "    # total number of compounds\n",
        "    N = df[column].count() \n",
        "  \n",
        "    # number of active compounds\n",
        "    NACT = df[column].sum()\n",
        "  \n",
        "    # number of inactive compounds\n",
        "    NINACT = N - NACT\n",
        "  \n",
        "    # total number of compounds containing fragment I\n",
        "    TOT = N * 0.75\n",
        "\n",
        "    #number of active compounds containing fragment I\n",
        "    ACT = NACT * 0.7\n",
        "\n",
        "    # number of inactive compounds containing fragment I\n",
        "    INACT = NINACT * 0.3\n",
        "\n",
        "    df_train = {\n",
        "          'N': N,\n",
        "          'NACT': NACT,\n",
        "          'NINACT': NINACT,\n",
        "          'TOT': int(TOT),\n",
        "          'ACT': int(ACT),\n",
        "          'INACT': int(INACT)\n",
        "      }\n",
        "  df_list_.append(df_train)\n",
        "print(df_list_)\n",
        "train = pd.DataFrame(df_list_)\n",
        "\n",
        "#print(render_prog(do_xover(population[0], population[1])))\n"
      ],
      "execution_count": 98,
      "outputs": [
        {
          "output_type": "stream",
          "text": [
            "[{'N': 106, 'NACT': 2, 'NINACT': 104, 'TOT': 79, 'ACT': 1, 'INACT': 31}, {'N': 395, 'NACT': 57, 'NINACT': 338, 'TOT': 296, 'ACT': 39, 'INACT': 101}, {'N': 211, 'NACT': 13, 'NINACT': 198, 'TOT': 158, 'ACT': 9, 'INACT': 59}, {'N': 256, 'NACT': 2, 'NINACT': 254, 'TOT': 192, 'ACT': 1, 'INACT': 76}, {'N': 213, 'NACT': 0, 'NINACT': 213, 'TOT': 159, 'ACT': 0, 'INACT': 63}, {'N': 139, 'NACT': 4, 'NINACT': 135, 'TOT': 104, 'ACT': 2, 'INACT': 40}, {'N': 739, 'NACT': 1, 'NINACT': 738, 'TOT': 554, 'ACT': 0, 'INACT': 221}, {'N': 1858, 'NACT': 24, 'NINACT': 1834, 'TOT': 1393, 'ACT': 16, 'INACT': 550}, {'N': 982, 'NACT': 2, 'NINACT': 980, 'TOT': 736, 'ACT': 1, 'INACT': 294}, {'N': 847, 'NACT': 2, 'NINACT': 845, 'TOT': 635, 'ACT': 1, 'INACT': 253}, {'N': 844, 'NACT': 5, 'NINACT': 839, 'TOT': 633, 'ACT': 3, 'INACT': 251}, {'N': 1483, 'NACT': 2, 'NINACT': 1481, 'TOT': 1112, 'ACT': 1, 'INACT': 444}, {'N': 2157, 'NACT': 1, 'NINACT': 2156, 'TOT': 1617, 'ACT': 0, 'INACT': 646}, {'N': 1502, 'NACT': 0, 'NINACT': 1502, 'TOT': 1126, 'ACT': 0, 'INACT': 450}]\n"
          ],
          "name": "stdout"
        }
      ]
    },
    {
      "cell_type": "code",
      "metadata": {
        "colab": {
          "base_uri": "https://localhost:8080/",
          "height": 478
        },
        "id": "azCPDc960fqe",
        "outputId": "913fb44c-94d2-4b4f-8f66-0e316c3938e2"
      },
      "source": [
        "train.to_csv(\"train_dataset.csv\")\n",
        "train"
      ],
      "execution_count": 99,
      "outputs": [
        {
          "output_type": "execute_result",
          "data": {
            "text/html": [
              "<div>\n",
              "<style scoped>\n",
              "    .dataframe tbody tr th:only-of-type {\n",
              "        vertical-align: middle;\n",
              "    }\n",
              "\n",
              "    .dataframe tbody tr th {\n",
              "        vertical-align: top;\n",
              "    }\n",
              "\n",
              "    .dataframe thead th {\n",
              "        text-align: right;\n",
              "    }\n",
              "</style>\n",
              "<table border=\"1\" class=\"dataframe\">\n",
              "  <thead>\n",
              "    <tr style=\"text-align: right;\">\n",
              "      <th></th>\n",
              "      <th>N</th>\n",
              "      <th>NACT</th>\n",
              "      <th>NINACT</th>\n",
              "      <th>TOT</th>\n",
              "      <th>ACT</th>\n",
              "      <th>INACT</th>\n",
              "    </tr>\n",
              "  </thead>\n",
              "  <tbody>\n",
              "    <tr>\n",
              "      <th>0</th>\n",
              "      <td>106</td>\n",
              "      <td>2</td>\n",
              "      <td>104</td>\n",
              "      <td>79</td>\n",
              "      <td>1</td>\n",
              "      <td>31</td>\n",
              "    </tr>\n",
              "    <tr>\n",
              "      <th>1</th>\n",
              "      <td>395</td>\n",
              "      <td>57</td>\n",
              "      <td>338</td>\n",
              "      <td>296</td>\n",
              "      <td>39</td>\n",
              "      <td>101</td>\n",
              "    </tr>\n",
              "    <tr>\n",
              "      <th>2</th>\n",
              "      <td>211</td>\n",
              "      <td>13</td>\n",
              "      <td>198</td>\n",
              "      <td>158</td>\n",
              "      <td>9</td>\n",
              "      <td>59</td>\n",
              "    </tr>\n",
              "    <tr>\n",
              "      <th>3</th>\n",
              "      <td>256</td>\n",
              "      <td>2</td>\n",
              "      <td>254</td>\n",
              "      <td>192</td>\n",
              "      <td>1</td>\n",
              "      <td>76</td>\n",
              "    </tr>\n",
              "    <tr>\n",
              "      <th>4</th>\n",
              "      <td>213</td>\n",
              "      <td>0</td>\n",
              "      <td>213</td>\n",
              "      <td>159</td>\n",
              "      <td>0</td>\n",
              "      <td>63</td>\n",
              "    </tr>\n",
              "    <tr>\n",
              "      <th>5</th>\n",
              "      <td>139</td>\n",
              "      <td>4</td>\n",
              "      <td>135</td>\n",
              "      <td>104</td>\n",
              "      <td>2</td>\n",
              "      <td>40</td>\n",
              "    </tr>\n",
              "    <tr>\n",
              "      <th>6</th>\n",
              "      <td>739</td>\n",
              "      <td>1</td>\n",
              "      <td>738</td>\n",
              "      <td>554</td>\n",
              "      <td>0</td>\n",
              "      <td>221</td>\n",
              "    </tr>\n",
              "    <tr>\n",
              "      <th>7</th>\n",
              "      <td>1858</td>\n",
              "      <td>24</td>\n",
              "      <td>1834</td>\n",
              "      <td>1393</td>\n",
              "      <td>16</td>\n",
              "      <td>550</td>\n",
              "    </tr>\n",
              "    <tr>\n",
              "      <th>8</th>\n",
              "      <td>982</td>\n",
              "      <td>2</td>\n",
              "      <td>980</td>\n",
              "      <td>736</td>\n",
              "      <td>1</td>\n",
              "      <td>294</td>\n",
              "    </tr>\n",
              "    <tr>\n",
              "      <th>9</th>\n",
              "      <td>847</td>\n",
              "      <td>2</td>\n",
              "      <td>845</td>\n",
              "      <td>635</td>\n",
              "      <td>1</td>\n",
              "      <td>253</td>\n",
              "    </tr>\n",
              "    <tr>\n",
              "      <th>10</th>\n",
              "      <td>844</td>\n",
              "      <td>5</td>\n",
              "      <td>839</td>\n",
              "      <td>633</td>\n",
              "      <td>3</td>\n",
              "      <td>251</td>\n",
              "    </tr>\n",
              "    <tr>\n",
              "      <th>11</th>\n",
              "      <td>1483</td>\n",
              "      <td>2</td>\n",
              "      <td>1481</td>\n",
              "      <td>1112</td>\n",
              "      <td>1</td>\n",
              "      <td>444</td>\n",
              "    </tr>\n",
              "    <tr>\n",
              "      <th>12</th>\n",
              "      <td>2157</td>\n",
              "      <td>1</td>\n",
              "      <td>2156</td>\n",
              "      <td>1617</td>\n",
              "      <td>0</td>\n",
              "      <td>646</td>\n",
              "    </tr>\n",
              "    <tr>\n",
              "      <th>13</th>\n",
              "      <td>1502</td>\n",
              "      <td>0</td>\n",
              "      <td>1502</td>\n",
              "      <td>1126</td>\n",
              "      <td>0</td>\n",
              "      <td>450</td>\n",
              "    </tr>\n",
              "  </tbody>\n",
              "</table>\n",
              "</div>"
            ],
            "text/plain": [
              "       N  NACT  NINACT   TOT  ACT  INACT\n",
              "0    106     2     104    79    1     31\n",
              "1    395    57     338   296   39    101\n",
              "2    211    13     198   158    9     59\n",
              "3    256     2     254   192    1     76\n",
              "4    213     0     213   159    0     63\n",
              "5    139     4     135   104    2     40\n",
              "6    739     1     738   554    0    221\n",
              "7   1858    24    1834  1393   16    550\n",
              "8    982     2     980   736    1    294\n",
              "9    847     2     845   635    1    253\n",
              "10   844     5     839   633    3    251\n",
              "11  1483     2    1481  1112    1    444\n",
              "12  2157     1    2156  1617    0    646\n",
              "13  1502     0    1502  1126    0    450"
            ]
          },
          "metadata": {
            "tags": []
          },
          "execution_count": 99
        }
      ]
    },
    {
      "cell_type": "code",
      "metadata": {
        "id": "LXDDL7d59FD0",
        "colab": {
          "base_uri": "https://localhost:8080/"
        },
        "outputId": "74487a7a-e5ea-41d2-ecf5-967818d9aa73"
      },
      "source": [
        "\n",
        "def evaluate(node, row):\n",
        "    if \"children\" not in node:\n",
        "        return row[node[\"terminal\"]]\n",
        "    return node[\"func\"](*[evaluate(c, row) for c in node[\"children\"]])\n",
        "\n",
        "print(evaluate(program, train.iloc[0]))"
      ],
      "execution_count": 100,
      "outputs": [
        {
          "output_type": "stream",
          "text": [
            "-728\n"
          ],
          "name": "stdout"
        }
      ]
    },
    {
      "cell_type": "code",
      "metadata": {
        "id": "4lcyCaOmO9MH",
        "colab": {
          "base_uri": "https://localhost:8080/"
        },
        "outputId": "2bd117eb-3f74-4d5b-eae3-1f1dc193a251"
      },
      "source": [
        "def safe_div(a, b):\n",
        "    return a / b if b else a\n",
        "\n",
        "def safe_sqrt(a):\n",
        "  return a **0.5\n",
        "\n",
        "import math\n",
        "def log(a):\n",
        "  a = abs(a)\n",
        "  return math.log1p(a)\n",
        "\n",
        "def neg(a):\n",
        "  return -(a)\n",
        "\n",
        "operations = (\n",
        "    {\"func\": operator.add, \"arg_count\": 2, \"format_str\": \"({} + {})\"},\n",
        "    {\"func\": operator.sub, \"arg_count\": 2, \"format_str\": \"({} - {})\"},\n",
        "    {\"func\": operator.mul, \"arg_count\": 2, \"format_str\": \"({} * {})\"},\n",
        "    {\"func\": safe_div, \"arg_count\": 2, \"format_str\": \"({} / {})\"},\n",
        "    {\"func\": safe_sqrt, \"arg_count\": 1, \"format_str\": \"(√{})\"},\n",
        "    {\"func\": log, \"arg_count\": 1, \"format_str\": \"log({})\"}\n",
        ")\n",
        "\n",
        "from random import randint, random, seed\n",
        "\n",
        "seed(0)\n",
        "\n",
        "def random_prog(depth):\n",
        "    # favor adding function nodes near the tree root and\n",
        "    # leaf nodes as depth increases\n",
        "    if randint(0, 10) >= depth * 2:\n",
        "        op = operations[randint(0, len(operations) - 1)]\n",
        "        return {\n",
        "            \"func\": op[\"func\"],\n",
        "            \"children\": [random_prog(depth + 1) for _ in range(op[\"arg_count\"])],\n",
        "            \"format_str\": op[\"format_str\"],\n",
        "        }\n",
        "    else:\n",
        "        return {\"terminal\": train.columns[randint(0, train.shape[1] - 1)]}\n",
        "\n",
        "\n",
        "POP_SIZE = 120  # population size = 80, 90, 100\n",
        "population = [random_prog(0) for _ in range(POP_SIZE)]\n",
        "\n",
        "print(render_prog(population[0]))\n",
        "\n",
        "def select_random_node(selected, parent, depth):\n",
        "    if \"children\" not in selected:\n",
        "        return parent\n",
        "    # favor nodes near the root\n",
        "    if randint(0, 10) < 2*depth:\n",
        "        return selected\n",
        "    child_count = len(selected[\"children\"])\n",
        "    return select_random_node(\n",
        "        selected[\"children\"][randint(0, child_count - 1)],\n",
        "        selected, depth+1)\n",
        "\n",
        "print(render_prog(select_random_node(program, None, 0)))\n",
        "\n",
        "from copy import deepcopy\n",
        "\n",
        "def do_mutate(selected):\n",
        "    offspring = deepcopy(selected)\n",
        "    mutate_point = select_random_node(offspring, None, 0)\n",
        "    child_count = len(mutate_point[\"children\"])\n",
        "    mutate_point[\"children\"][randint(0, child_count - 1)] = random_prog(0)\n",
        "    return offspring\n",
        "\n",
        "\n",
        "print(render_prog(do_mutate(program)))\n",
        "\n",
        "def do_xover(selected1, selected2):\n",
        "    offspring = deepcopy(selected1)\n",
        "    xover_point1 = select_random_node(offspring, None, 0)\n",
        "    xover_point2 = select_random_node(selected2, None, 0)\n",
        "    child_count = len(xover_point1[\"children\"])\n",
        "    xover_point1[\"children\"][randint(0, child_count - 1)] = xover_point2\n",
        "    return offspring\n",
        "\n",
        "\n",
        "print(render_prog(do_xover(population[0], population[99])))"
      ],
      "execution_count": 142,
      "outputs": [
        {
          "output_type": "stream",
          "text": [
            "(NINACT / ((((NACT - NACT) * ACT) * ACT) / (N - INACT)))\n",
            "((((N / NACT) - INACT) + TOT) / ACT)\n",
            "((((TOT - (√(√INACT))) + TOT) / ACT) * NINACT)\n",
            "((√TOT) / ((((NACT - NACT) * ACT) * ACT) / (N - INACT)))\n"
          ],
          "name": "stdout"
        }
      ]
    },
    {
      "cell_type": "code",
      "metadata": {
        "id": "vyCjsIvQ8YdJ"
      },
      "source": [
        "test = test.iloc[:,1:7]"
      ],
      "execution_count": 101,
      "outputs": []
    },
    {
      "cell_type": "code",
      "metadata": {
        "id": "-8GARBR4qucu"
      },
      "source": [
        "TOURNAMENT_SIZE = 4 # tournament size = 1,2,3,4\n",
        "\n",
        "def get_random_parent(population, fitness):\n",
        "    # randomly select population members for the tournament\n",
        "    tournament_members = [\n",
        "        randint(0, POP_SIZE - 1) for _ in range(TOURNAMENT_SIZE)]\n",
        "    # select tournament member with best fitness\n",
        "    member_fitness = [(fitness[i], population[i]) for i in tournament_members]\n",
        "    return min(member_fitness, key=lambda x: x[0])[1]"
      ],
      "execution_count": 141,
      "outputs": []
    },
    {
      "cell_type": "code",
      "metadata": {
        "id": "AMPW2Mjt1r1H"
      },
      "source": [
        "XOVER_PCT = 0.6\n",
        "\n",
        "def get_offspring(population, fitness):\n",
        "    parent1 = get_random_parent(population, fitness)\n",
        "    if random() > XOVER_PCT:\n",
        "        parent2 = get_random_parent(population, fitness)\n",
        "        return do_xover(parent1, parent2)\n",
        "    else:\n",
        "        return do_mutate(parent1)"
      ],
      "execution_count": 139,
      "outputs": []
    },
    {
      "cell_type": "code",
      "metadata": {
        "id": "HFddjm251zmx"
      },
      "source": [
        "REG_STRENGTH = 0.5 # region strength = 0.5\n",
        "\n",
        "def node_count(x):\n",
        "    if \"children\" not in x:\n",
        "        return 1\n",
        "    return sum([node_count(c) for c in x[\"children\"]])\n",
        "\n",
        "\n",
        "def compute_fitness(program, prediction, target):\n",
        "    mse = ((pd.Series(prediction)- pd.Series(target)) ** 0.2).mean()\n",
        "    penalty = node_count(program) ** REG_STRENGTH\n",
        "    return mse * penalty"
      ],
      "execution_count": 140,
      "outputs": []
    },
    {
      "cell_type": "code",
      "metadata": {
        "colab": {
          "base_uri": "https://localhost:8080/"
        },
        "id": "D0Yr6ktO12_t",
        "outputId": "85239535-e43b-45c7-efe5-c11ce93046d1"
      },
      "source": [
        "MAX_GENERATIONS = 30\n",
        "global_best = float(0)\n",
        "for gen in range(MAX_GENERATIONS):\n",
        "    fitness = []\n",
        "    for prog in population:\n",
        "        prediction = [evaluate(prog, row) for _, row in train.iterrows()]\n",
        "        target = [\n",
        "           evaluate(prog, row) for _, row in test.iterrows()]\n",
        "        score = compute_fitness(prog, prediction, target)\n",
        "        # print(score)\n",
        "        fitness.append(score)\n",
        "        if score > global_best:\n",
        "            global_best = score\n",
        "            best_pred = prediction\n",
        "            best_median = pd.Series(score).median()\n",
        "            best_prog = prog\n",
        "    print(\n",
        "        \"Generation: %d\\nBest Score: %.2f\\nMean score: %.2f\\nBest program: %s\\n\"\n",
        "        % (\n",
        "            gen,\n",
        "            global_best,\n",
        "           pd.Series(fitness).mean(),\n",
        "            render_prog(best_prog),\n",
        "        )\n",
        "    )\n",
        "    population = [\n",
        "        get_offspring(population, fitness)\n",
        "        for _ in range(POP_SIZE)]"
      ],
      "execution_count": 148,
      "outputs": [
        {
          "output_type": "stream",
          "text": [
            "/usr/local/lib/python3.7/dist-packages/ipykernel_launcher.py:5: RuntimeWarning: invalid value encountered in double_scalars\n",
            "  \"\"\"\n",
            "/usr/local/lib/python3.7/dist-packages/ipykernel_launcher.py:5: RuntimeWarning: invalid value encountered in power\n",
            "  \"\"\"\n"
          ],
          "name": "stderr"
        },
        {
          "output_type": "stream",
          "text": [
            "Generation: 0\n",
            "Best Score: 6268.34\n",
            "Mean score: 462.36\n",
            "Best program: ((((ACT + ((√log(NINACT)) + (N * N))) - (√(((log((log(N) + (ACT * INACT))) + log(((NINACT * (((√N) + N) + TOT)) + ((INACT * NINACT) * ACT)))) * (√log((INACT - (NACT / N))))) + log((N + ((ACT - ACT) - (N + NINACT))))))) * (√(((N / NINACT) + (NACT + ((√N) + INACT))) + ((((TOT + NACT) * (N / ACT)) / log(INACT)) * TOT)))) * ((((INACT - (ACT * NINACT)) / (√log(INACT))) + (INACT * N)) - log((√ACT))))\n",
            "\n",
            "Generation: 1\n",
            "Best Score: 6268.34\n",
            "Mean score: 209.36\n",
            "Best program: ((((ACT + ((√log(NINACT)) + (N * N))) - (√(((log((log(N) + (ACT * INACT))) + log(((NINACT * (((√N) + N) + TOT)) + ((INACT * NINACT) * ACT)))) * (√log((INACT - (NACT / N))))) + log((N + ((ACT - ACT) - (N + NINACT))))))) * (√(((N / NINACT) + (NACT + ((√N) + INACT))) + ((((TOT + NACT) * (N / ACT)) / log(INACT)) * TOT)))) * ((((INACT - (ACT * NINACT)) / (√log(INACT))) + (INACT * N)) - log((√ACT))))\n",
            "\n",
            "Generation: 2\n",
            "Best Score: 6268.34\n",
            "Mean score: 37.53\n",
            "Best program: ((((ACT + ((√log(NINACT)) + (N * N))) - (√(((log((log(N) + (ACT * INACT))) + log(((NINACT * (((√N) + N) + TOT)) + ((INACT * NINACT) * ACT)))) * (√log((INACT - (NACT / N))))) + log((N + ((ACT - ACT) - (N + NINACT))))))) * (√(((N / NINACT) + (NACT + ((√N) + INACT))) + ((((TOT + NACT) * (N / ACT)) / log(INACT)) * TOT)))) * ((((INACT - (ACT * NINACT)) / (√log(INACT))) + (INACT * N)) - log((√ACT))))\n",
            "\n",
            "Generation: 3\n",
            "Best Score: 6268.34\n",
            "Mean score: 50.52\n",
            "Best program: ((((ACT + ((√log(NINACT)) + (N * N))) - (√(((log((log(N) + (ACT * INACT))) + log(((NINACT * (((√N) + N) + TOT)) + ((INACT * NINACT) * ACT)))) * (√log((INACT - (NACT / N))))) + log((N + ((ACT - ACT) - (N + NINACT))))))) * (√(((N / NINACT) + (NACT + ((√N) + INACT))) + ((((TOT + NACT) * (N / ACT)) / log(INACT)) * TOT)))) * ((((INACT - (ACT * NINACT)) / (√log(INACT))) + (INACT * N)) - log((√ACT))))\n",
            "\n",
            "Generation: 4\n",
            "Best Score: 6268.34\n",
            "Mean score: 56.42\n",
            "Best program: ((((ACT + ((√log(NINACT)) + (N * N))) - (√(((log((log(N) + (ACT * INACT))) + log(((NINACT * (((√N) + N) + TOT)) + ((INACT * NINACT) * ACT)))) * (√log((INACT - (NACT / N))))) + log((N + ((ACT - ACT) - (N + NINACT))))))) * (√(((N / NINACT) + (NACT + ((√N) + INACT))) + ((((TOT + NACT) * (N / ACT)) / log(INACT)) * TOT)))) * ((((INACT - (ACT * NINACT)) / (√log(INACT))) + (INACT * N)) - log((√ACT))))\n",
            "\n"
          ],
          "name": "stdout"
        },
        {
          "output_type": "stream",
          "text": [
            "/usr/local/lib/python3.7/dist-packages/ipykernel_launcher.py:23: ComplexWarning: Casting complex values to real discards the imaginary part\n",
            "/usr/local/lib/python3.7/dist-packages/ipykernel_launcher.py:9: RuntimeWarning: invalid value encountered in less\n",
            "  if __name__ == '__main__':\n"
          ],
          "name": "stderr"
        },
        {
          "output_type": "stream",
          "text": [
            "Generation: 5\n",
            "Best Score: 6268.34\n",
            "Mean score: 315.44\n",
            "Best program: ((((ACT + ((√log(NINACT)) + (N * N))) - (√(((log((log(N) + (ACT * INACT))) + log(((NINACT * (((√N) + N) + TOT)) + ((INACT * NINACT) * ACT)))) * (√log((INACT - (NACT / N))))) + log((N + ((ACT - ACT) - (N + NINACT))))))) * (√(((N / NINACT) + (NACT + ((√N) + INACT))) + ((((TOT + NACT) * (N / ACT)) / log(INACT)) * TOT)))) * ((((INACT - (ACT * NINACT)) / (√log(INACT))) + (INACT * N)) - log((√ACT))))\n",
            "\n"
          ],
          "name": "stdout"
        },
        {
          "output_type": "stream",
          "text": [
            "/usr/local/lib/python3.7/dist-packages/pandas/core/nanops.py:120: RuntimeWarning: Mean of empty slice\n",
            "  result = bn_func(values, axis=axis, **kwds)\n"
          ],
          "name": "stderr"
        },
        {
          "output_type": "stream",
          "text": [
            "Generation: 6\n",
            "Best Score: 6268.34\n",
            "Mean score: 62.44\n",
            "Best program: ((((ACT + ((√log(NINACT)) + (N * N))) - (√(((log((log(N) + (ACT * INACT))) + log(((NINACT * (((√N) + N) + TOT)) + ((INACT * NINACT) * ACT)))) * (√log((INACT - (NACT / N))))) + log((N + ((ACT - ACT) - (N + NINACT))))))) * (√(((N / NINACT) + (NACT + ((√N) + INACT))) + ((((TOT + NACT) * (N / ACT)) / log(INACT)) * TOT)))) * ((((INACT - (ACT * NINACT)) / (√log(INACT))) + (INACT * N)) - log((√ACT))))\n",
            "\n",
            "Generation: 7\n",
            "Best Score: 6268.34\n",
            "Mean score: 155.72\n",
            "Best program: ((((ACT + ((√log(NINACT)) + (N * N))) - (√(((log((log(N) + (ACT * INACT))) + log(((NINACT * (((√N) + N) + TOT)) + ((INACT * NINACT) * ACT)))) * (√log((INACT - (NACT / N))))) + log((N + ((ACT - ACT) - (N + NINACT))))))) * (√(((N / NINACT) + (NACT + ((√N) + INACT))) + ((((TOT + NACT) * (N / ACT)) / log(INACT)) * TOT)))) * ((((INACT - (ACT * NINACT)) / (√log(INACT))) + (INACT * N)) - log((√ACT))))\n",
            "\n",
            "Generation: 8\n",
            "Best Score: 5565667.87\n",
            "Mean score: 266954.81\n",
            "Best program: (((log(((√(TOT / ((√ACT) / (ACT * (NINACT * ACT))))) * ACT)) * (((NINACT - log(TOT)) * (√N)) * (((ACT + ((√log(NINACT)) + (N * N))) - ((((NACT - (NACT * NINACT)) * log(NACT)) * N) * (INACT - NACT))) * (√(√(log(log(((INACT / log((NACT / ACT))) - (NINACT - ((√(N * INACT)) * log(INACT)))))) * (√(INACT / ((((INACT / ACT) - (INACT / INACT)) + N) + ((INACT * INACT) + TOT)))))))))) * ((((log((TOT + N)) + INACT) + (ACT + NACT)) - (((NACT * ACT) + ACT) + log(INACT))) * INACT)) * ((((N - ACT) + (√N)) + ((ACT - N) * TOT)) - (√log(((N * (√NACT)) * (NINACT + log(NACT)))))))\n",
            "\n",
            "Generation: 9\n",
            "Best Score: 5565667.87\n",
            "Mean score: 126.71\n",
            "Best program: (((log(((√(TOT / ((√ACT) / (ACT * (NINACT * ACT))))) * ACT)) * (((NINACT - log(TOT)) * (√N)) * (((ACT + ((√log(NINACT)) + (N * N))) - ((((NACT - (NACT * NINACT)) * log(NACT)) * N) * (INACT - NACT))) * (√(√(log(log(((INACT / log((NACT / ACT))) - (NINACT - ((√(N * INACT)) * log(INACT)))))) * (√(INACT / ((((INACT / ACT) - (INACT / INACT)) + N) + ((INACT * INACT) + TOT)))))))))) * ((((log((TOT + N)) + INACT) + (ACT + NACT)) - (((NACT * ACT) + ACT) + log(INACT))) * INACT)) * ((((N - ACT) + (√N)) + ((ACT - N) * TOT)) - (√log(((N * (√NACT)) * (NINACT + log(NACT)))))))\n",
            "\n",
            "Generation: 10\n",
            "Best Score: 5565667.87\n",
            "Mean score: 438.34\n",
            "Best program: (((log(((√(TOT / ((√ACT) / (ACT * (NINACT * ACT))))) * ACT)) * (((NINACT - log(TOT)) * (√N)) * (((ACT + ((√log(NINACT)) + (N * N))) - ((((NACT - (NACT * NINACT)) * log(NACT)) * N) * (INACT - NACT))) * (√(√(log(log(((INACT / log((NACT / ACT))) - (NINACT - ((√(N * INACT)) * log(INACT)))))) * (√(INACT / ((((INACT / ACT) - (INACT / INACT)) + N) + ((INACT * INACT) + TOT)))))))))) * ((((log((TOT + N)) + INACT) + (ACT + NACT)) - (((NACT * ACT) + ACT) + log(INACT))) * INACT)) * ((((N - ACT) + (√N)) + ((ACT - N) * TOT)) - (√log(((N * (√NACT)) * (NINACT + log(NACT)))))))\n",
            "\n",
            "Generation: 11\n",
            "Best Score: 5565667.87\n",
            "Mean score: 2081.35\n",
            "Best program: (((log(((√(TOT / ((√ACT) / (ACT * (NINACT * ACT))))) * ACT)) * (((NINACT - log(TOT)) * (√N)) * (((ACT + ((√log(NINACT)) + (N * N))) - ((((NACT - (NACT * NINACT)) * log(NACT)) * N) * (INACT - NACT))) * (√(√(log(log(((INACT / log((NACT / ACT))) - (NINACT - ((√(N * INACT)) * log(INACT)))))) * (√(INACT / ((((INACT / ACT) - (INACT / INACT)) + N) + ((INACT * INACT) + TOT)))))))))) * ((((log((TOT + N)) + INACT) + (ACT + NACT)) - (((NACT * ACT) + ACT) + log(INACT))) * INACT)) * ((((N - ACT) + (√N)) + ((ACT - N) * TOT)) - (√log(((N * (√NACT)) * (NINACT + log(NACT)))))))\n",
            "\n"
          ],
          "name": "stdout"
        },
        {
          "output_type": "stream",
          "text": [
            "/usr/local/lib/python3.7/dist-packages/ipykernel_launcher.py:5: RuntimeWarning: overflow encountered in long_scalars\n",
            "  \"\"\"\n"
          ],
          "name": "stderr"
        },
        {
          "output_type": "stream",
          "text": [
            "Generation: 12\n",
            "Best Score: 5565667.87\n",
            "Mean score: 5096.74\n",
            "Best program: (((log(((√(TOT / ((√ACT) / (ACT * (NINACT * ACT))))) * ACT)) * (((NINACT - log(TOT)) * (√N)) * (((ACT + ((√log(NINACT)) + (N * N))) - ((((NACT - (NACT * NINACT)) * log(NACT)) * N) * (INACT - NACT))) * (√(√(log(log(((INACT / log((NACT / ACT))) - (NINACT - ((√(N * INACT)) * log(INACT)))))) * (√(INACT / ((((INACT / ACT) - (INACT / INACT)) + N) + ((INACT * INACT) + TOT)))))))))) * ((((log((TOT + N)) + INACT) + (ACT + NACT)) - (((NACT * ACT) + ACT) + log(INACT))) * INACT)) * ((((N - ACT) + (√N)) + ((ACT - N) * TOT)) - (√log(((N * (√NACT)) * (NINACT + log(NACT)))))))\n",
            "\n",
            "Generation: 13\n",
            "Best Score: 5565667.87\n",
            "Mean score: 1050.01\n",
            "Best program: (((log(((√(TOT / ((√ACT) / (ACT * (NINACT * ACT))))) * ACT)) * (((NINACT - log(TOT)) * (√N)) * (((ACT + ((√log(NINACT)) + (N * N))) - ((((NACT - (NACT * NINACT)) * log(NACT)) * N) * (INACT - NACT))) * (√(√(log(log(((INACT / log((NACT / ACT))) - (NINACT - ((√(N * INACT)) * log(INACT)))))) * (√(INACT / ((((INACT / ACT) - (INACT / INACT)) + N) + ((INACT * INACT) + TOT)))))))))) * ((((log((TOT + N)) + INACT) + (ACT + NACT)) - (((NACT * ACT) + ACT) + log(INACT))) * INACT)) * ((((N - ACT) + (√N)) + ((ACT - N) * TOT)) - (√log(((N * (√NACT)) * (NINACT + log(NACT)))))))\n",
            "\n",
            "Generation: 14\n",
            "Best Score: 5565667.87\n",
            "Mean score: 2906.11\n",
            "Best program: (((log(((√(TOT / ((√ACT) / (ACT * (NINACT * ACT))))) * ACT)) * (((NINACT - log(TOT)) * (√N)) * (((ACT + ((√log(NINACT)) + (N * N))) - ((((NACT - (NACT * NINACT)) * log(NACT)) * N) * (INACT - NACT))) * (√(√(log(log(((INACT / log((NACT / ACT))) - (NINACT - ((√(N * INACT)) * log(INACT)))))) * (√(INACT / ((((INACT / ACT) - (INACT / INACT)) + N) + ((INACT * INACT) + TOT)))))))))) * ((((log((TOT + N)) + INACT) + (ACT + NACT)) - (((NACT * ACT) + ACT) + log(INACT))) * INACT)) * ((((N - ACT) + (√N)) + ((ACT - N) * TOT)) - (√log(((N * (√NACT)) * (NINACT + log(NACT)))))))\n",
            "\n",
            "Generation: 15\n",
            "Best Score: 5565667.87\n",
            "Mean score: 18553.20\n",
            "Best program: (((log(((√(TOT / ((√ACT) / (ACT * (NINACT * ACT))))) * ACT)) * (((NINACT - log(TOT)) * (√N)) * (((ACT + ((√log(NINACT)) + (N * N))) - ((((NACT - (NACT * NINACT)) * log(NACT)) * N) * (INACT - NACT))) * (√(√(log(log(((INACT / log((NACT / ACT))) - (NINACT - ((√(N * INACT)) * log(INACT)))))) * (√(INACT / ((((INACT / ACT) - (INACT / INACT)) + N) + ((INACT * INACT) + TOT)))))))))) * ((((log((TOT + N)) + INACT) + (ACT + NACT)) - (((NACT * ACT) + ACT) + log(INACT))) * INACT)) * ((((N - ACT) + (√N)) + ((ACT - N) * TOT)) - (√log(((N * (√NACT)) * (NINACT + log(NACT)))))))\n",
            "\n",
            "Generation: 16\n",
            "Best Score: 5565667.87\n",
            "Mean score: 424.03\n",
            "Best program: (((log(((√(TOT / ((√ACT) / (ACT * (NINACT * ACT))))) * ACT)) * (((NINACT - log(TOT)) * (√N)) * (((ACT + ((√log(NINACT)) + (N * N))) - ((((NACT - (NACT * NINACT)) * log(NACT)) * N) * (INACT - NACT))) * (√(√(log(log(((INACT / log((NACT / ACT))) - (NINACT - ((√(N * INACT)) * log(INACT)))))) * (√(INACT / ((((INACT / ACT) - (INACT / INACT)) + N) + ((INACT * INACT) + TOT)))))))))) * ((((log((TOT + N)) + INACT) + (ACT + NACT)) - (((NACT * ACT) + ACT) + log(INACT))) * INACT)) * ((((N - ACT) + (√N)) + ((ACT - N) * TOT)) - (√log(((N * (√NACT)) * (NINACT + log(NACT)))))))\n",
            "\n",
            "Generation: 17\n",
            "Best Score: 5565667.87\n",
            "Mean score: 11870.13\n",
            "Best program: (((log(((√(TOT / ((√ACT) / (ACT * (NINACT * ACT))))) * ACT)) * (((NINACT - log(TOT)) * (√N)) * (((ACT + ((√log(NINACT)) + (N * N))) - ((((NACT - (NACT * NINACT)) * log(NACT)) * N) * (INACT - NACT))) * (√(√(log(log(((INACT / log((NACT / ACT))) - (NINACT - ((√(N * INACT)) * log(INACT)))))) * (√(INACT / ((((INACT / ACT) - (INACT / INACT)) + N) + ((INACT * INACT) + TOT)))))))))) * ((((log((TOT + N)) + INACT) + (ACT + NACT)) - (((NACT * ACT) + ACT) + log(INACT))) * INACT)) * ((((N - ACT) + (√N)) + ((ACT - N) * TOT)) - (√log(((N * (√NACT)) * (NINACT + log(NACT)))))))\n",
            "\n",
            "Generation: 18\n",
            "Best Score: 5565667.87\n",
            "Mean score: 28150.35\n",
            "Best program: (((log(((√(TOT / ((√ACT) / (ACT * (NINACT * ACT))))) * ACT)) * (((NINACT - log(TOT)) * (√N)) * (((ACT + ((√log(NINACT)) + (N * N))) - ((((NACT - (NACT * NINACT)) * log(NACT)) * N) * (INACT - NACT))) * (√(√(log(log(((INACT / log((NACT / ACT))) - (NINACT - ((√(N * INACT)) * log(INACT)))))) * (√(INACT / ((((INACT / ACT) - (INACT / INACT)) + N) + ((INACT * INACT) + TOT)))))))))) * ((((log((TOT + N)) + INACT) + (ACT + NACT)) - (((NACT * ACT) + ACT) + log(INACT))) * INACT)) * ((((N - ACT) + (√N)) + ((ACT - N) * TOT)) - (√log(((N * (√NACT)) * (NINACT + log(NACT)))))))\n",
            "\n",
            "Generation: 19\n",
            "Best Score: 5565667.87\n",
            "Mean score: 9562.05\n",
            "Best program: (((log(((√(TOT / ((√ACT) / (ACT * (NINACT * ACT))))) * ACT)) * (((NINACT - log(TOT)) * (√N)) * (((ACT + ((√log(NINACT)) + (N * N))) - ((((NACT - (NACT * NINACT)) * log(NACT)) * N) * (INACT - NACT))) * (√(√(log(log(((INACT / log((NACT / ACT))) - (NINACT - ((√(N * INACT)) * log(INACT)))))) * (√(INACT / ((((INACT / ACT) - (INACT / INACT)) + N) + ((INACT * INACT) + TOT)))))))))) * ((((log((TOT + N)) + INACT) + (ACT + NACT)) - (((NACT * ACT) + ACT) + log(INACT))) * INACT)) * ((((N - ACT) + (√N)) + ((ACT - N) * TOT)) - (√log(((N * (√NACT)) * (NINACT + log(NACT)))))))\n",
            "\n",
            "Generation: 20\n",
            "Best Score: 5565667.87\n",
            "Mean score: 21.61\n",
            "Best program: (((log(((√(TOT / ((√ACT) / (ACT * (NINACT * ACT))))) * ACT)) * (((NINACT - log(TOT)) * (√N)) * (((ACT + ((√log(NINACT)) + (N * N))) - ((((NACT - (NACT * NINACT)) * log(NACT)) * N) * (INACT - NACT))) * (√(√(log(log(((INACT / log((NACT / ACT))) - (NINACT - ((√(N * INACT)) * log(INACT)))))) * (√(INACT / ((((INACT / ACT) - (INACT / INACT)) + N) + ((INACT * INACT) + TOT)))))))))) * ((((log((TOT + N)) + INACT) + (ACT + NACT)) - (((NACT * ACT) + ACT) + log(INACT))) * INACT)) * ((((N - ACT) + (√N)) + ((ACT - N) * TOT)) - (√log(((N * (√NACT)) * (NINACT + log(NACT)))))))\n",
            "\n",
            "Generation: 21\n",
            "Best Score: 5565667.87\n",
            "Mean score: 382.35\n",
            "Best program: (((log(((√(TOT / ((√ACT) / (ACT * (NINACT * ACT))))) * ACT)) * (((NINACT - log(TOT)) * (√N)) * (((ACT + ((√log(NINACT)) + (N * N))) - ((((NACT - (NACT * NINACT)) * log(NACT)) * N) * (INACT - NACT))) * (√(√(log(log(((INACT / log((NACT / ACT))) - (NINACT - ((√(N * INACT)) * log(INACT)))))) * (√(INACT / ((((INACT / ACT) - (INACT / INACT)) + N) + ((INACT * INACT) + TOT)))))))))) * ((((log((TOT + N)) + INACT) + (ACT + NACT)) - (((NACT * ACT) + ACT) + log(INACT))) * INACT)) * ((((N - ACT) + (√N)) + ((ACT - N) * TOT)) - (√log(((N * (√NACT)) * (NINACT + log(NACT)))))))\n",
            "\n",
            "Generation: 22\n",
            "Best Score: 5565667.87\n",
            "Mean score: 815.71\n",
            "Best program: (((log(((√(TOT / ((√ACT) / (ACT * (NINACT * ACT))))) * ACT)) * (((NINACT - log(TOT)) * (√N)) * (((ACT + ((√log(NINACT)) + (N * N))) - ((((NACT - (NACT * NINACT)) * log(NACT)) * N) * (INACT - NACT))) * (√(√(log(log(((INACT / log((NACT / ACT))) - (NINACT - ((√(N * INACT)) * log(INACT)))))) * (√(INACT / ((((INACT / ACT) - (INACT / INACT)) + N) + ((INACT * INACT) + TOT)))))))))) * ((((log((TOT + N)) + INACT) + (ACT + NACT)) - (((NACT * ACT) + ACT) + log(INACT))) * INACT)) * ((((N - ACT) + (√N)) + ((ACT - N) * TOT)) - (√log(((N * (√NACT)) * (NINACT + log(NACT)))))))\n",
            "\n",
            "Generation: 23\n",
            "Best Score: 5565667.87\n",
            "Mean score: 1420.24\n",
            "Best program: (((log(((√(TOT / ((√ACT) / (ACT * (NINACT * ACT))))) * ACT)) * (((NINACT - log(TOT)) * (√N)) * (((ACT + ((√log(NINACT)) + (N * N))) - ((((NACT - (NACT * NINACT)) * log(NACT)) * N) * (INACT - NACT))) * (√(√(log(log(((INACT / log((NACT / ACT))) - (NINACT - ((√(N * INACT)) * log(INACT)))))) * (√(INACT / ((((INACT / ACT) - (INACT / INACT)) + N) + ((INACT * INACT) + TOT)))))))))) * ((((log((TOT + N)) + INACT) + (ACT + NACT)) - (((NACT * ACT) + ACT) + log(INACT))) * INACT)) * ((((N - ACT) + (√N)) + ((ACT - N) * TOT)) - (√log(((N * (√NACT)) * (NINACT + log(NACT)))))))\n",
            "\n",
            "Generation: 24\n",
            "Best Score: 5565667.87\n",
            "Mean score: 1294.35\n",
            "Best program: (((log(((√(TOT / ((√ACT) / (ACT * (NINACT * ACT))))) * ACT)) * (((NINACT - log(TOT)) * (√N)) * (((ACT + ((√log(NINACT)) + (N * N))) - ((((NACT - (NACT * NINACT)) * log(NACT)) * N) * (INACT - NACT))) * (√(√(log(log(((INACT / log((NACT / ACT))) - (NINACT - ((√(N * INACT)) * log(INACT)))))) * (√(INACT / ((((INACT / ACT) - (INACT / INACT)) + N) + ((INACT * INACT) + TOT)))))))))) * ((((log((TOT + N)) + INACT) + (ACT + NACT)) - (((NACT * ACT) + ACT) + log(INACT))) * INACT)) * ((((N - ACT) + (√N)) + ((ACT - N) * TOT)) - (√log(((N * (√NACT)) * (NINACT + log(NACT)))))))\n",
            "\n",
            "Generation: 25\n",
            "Best Score: 5565667.87\n",
            "Mean score: 577.29\n",
            "Best program: (((log(((√(TOT / ((√ACT) / (ACT * (NINACT * ACT))))) * ACT)) * (((NINACT - log(TOT)) * (√N)) * (((ACT + ((√log(NINACT)) + (N * N))) - ((((NACT - (NACT * NINACT)) * log(NACT)) * N) * (INACT - NACT))) * (√(√(log(log(((INACT / log((NACT / ACT))) - (NINACT - ((√(N * INACT)) * log(INACT)))))) * (√(INACT / ((((INACT / ACT) - (INACT / INACT)) + N) + ((INACT * INACT) + TOT)))))))))) * ((((log((TOT + N)) + INACT) + (ACT + NACT)) - (((NACT * ACT) + ACT) + log(INACT))) * INACT)) * ((((N - ACT) + (√N)) + ((ACT - N) * TOT)) - (√log(((N * (√NACT)) * (NINACT + log(NACT)))))))\n",
            "\n",
            "Generation: 26\n",
            "Best Score: 5565667.87\n",
            "Mean score: 212.58\n",
            "Best program: (((log(((√(TOT / ((√ACT) / (ACT * (NINACT * ACT))))) * ACT)) * (((NINACT - log(TOT)) * (√N)) * (((ACT + ((√log(NINACT)) + (N * N))) - ((((NACT - (NACT * NINACT)) * log(NACT)) * N) * (INACT - NACT))) * (√(√(log(log(((INACT / log((NACT / ACT))) - (NINACT - ((√(N * INACT)) * log(INACT)))))) * (√(INACT / ((((INACT / ACT) - (INACT / INACT)) + N) + ((INACT * INACT) + TOT)))))))))) * ((((log((TOT + N)) + INACT) + (ACT + NACT)) - (((NACT * ACT) + ACT) + log(INACT))) * INACT)) * ((((N - ACT) + (√N)) + ((ACT - N) * TOT)) - (√log(((N * (√NACT)) * (NINACT + log(NACT)))))))\n",
            "\n",
            "Generation: 27\n",
            "Best Score: 5565667.87\n",
            "Mean score: 1893.74\n",
            "Best program: (((log(((√(TOT / ((√ACT) / (ACT * (NINACT * ACT))))) * ACT)) * (((NINACT - log(TOT)) * (√N)) * (((ACT + ((√log(NINACT)) + (N * N))) - ((((NACT - (NACT * NINACT)) * log(NACT)) * N) * (INACT - NACT))) * (√(√(log(log(((INACT / log((NACT / ACT))) - (NINACT - ((√(N * INACT)) * log(INACT)))))) * (√(INACT / ((((INACT / ACT) - (INACT / INACT)) + N) + ((INACT * INACT) + TOT)))))))))) * ((((log((TOT + N)) + INACT) + (ACT + NACT)) - (((NACT * ACT) + ACT) + log(INACT))) * INACT)) * ((((N - ACT) + (√N)) + ((ACT - N) * TOT)) - (√log(((N * (√NACT)) * (NINACT + log(NACT)))))))\n",
            "\n",
            "Generation: 28\n",
            "Best Score: 5565667.87\n",
            "Mean score: 287.53\n",
            "Best program: (((log(((√(TOT / ((√ACT) / (ACT * (NINACT * ACT))))) * ACT)) * (((NINACT - log(TOT)) * (√N)) * (((ACT + ((√log(NINACT)) + (N * N))) - ((((NACT - (NACT * NINACT)) * log(NACT)) * N) * (INACT - NACT))) * (√(√(log(log(((INACT / log((NACT / ACT))) - (NINACT - ((√(N * INACT)) * log(INACT)))))) * (√(INACT / ((((INACT / ACT) - (INACT / INACT)) + N) + ((INACT * INACT) + TOT)))))))))) * ((((log((TOT + N)) + INACT) + (ACT + NACT)) - (((NACT * ACT) + ACT) + log(INACT))) * INACT)) * ((((N - ACT) + (√N)) + ((ACT - N) * TOT)) - (√log(((N * (√NACT)) * (NINACT + log(NACT)))))))\n",
            "\n",
            "Generation: 29\n",
            "Best Score: 5565667.87\n",
            "Mean score: 493.97\n",
            "Best program: (((log(((√(TOT / ((√ACT) / (ACT * (NINACT * ACT))))) * ACT)) * (((NINACT - log(TOT)) * (√N)) * (((ACT + ((√log(NINACT)) + (N * N))) - ((((NACT - (NACT * NINACT)) * log(NACT)) * N) * (INACT - NACT))) * (√(√(log(log(((INACT / log((NACT / ACT))) - (NINACT - ((√(N * INACT)) * log(INACT)))))) * (√(INACT / ((((INACT / ACT) - (INACT / INACT)) + N) + ((INACT * INACT) + TOT)))))))))) * ((((log((TOT + N)) + INACT) + (ACT + NACT)) - (((NACT * ACT) + ACT) + log(INACT))) * INACT)) * ((((N - ACT) + (√N)) + ((ACT - N) * TOT)) - (√log(((N * (√NACT)) * (NINACT + log(NACT)))))))\n",
            "\n"
          ],
          "name": "stdout"
        }
      ]
    },
    {
      "cell_type": "code",
      "metadata": {
        "colab": {
          "base_uri": "https://localhost:8080/"
        },
        "id": "KOEt5BeZ92Ld",
        "outputId": "6dd965a9-37d2-47e5-df98-6c6f68f33117"
      },
      "source": [
        "from sympy import * \n",
        "print(\"Best score: %f\" % global_best)\n",
        "print(\"Best program: %s\" % render_prog(best_prog))\n",
        "output = {\"pred\": best_pred}\n",
        "pd.DataFrame(output).to_csv(\"best_pred.csv\")"
      ],
      "execution_count": 150,
      "outputs": [
        {
          "output_type": "stream",
          "text": [
            "Best score: 5565667.868522\n",
            "Best program: (((log(((√(TOT / ((√ACT) / (ACT * (NINACT * ACT))))) * ACT)) * (((NINACT - log(TOT)) * (√N)) * (((ACT + ((√log(NINACT)) + (N * N))) - ((((NACT - (NACT * NINACT)) * log(NACT)) * N) * (INACT - NACT))) * (√(√(log(log(((INACT / log((NACT / ACT))) - (NINACT - ((√(N * INACT)) * log(INACT)))))) * (√(INACT / ((((INACT / ACT) - (INACT / INACT)) + N) + ((INACT * INACT) + TOT)))))))))) * ((((log((TOT + N)) + INACT) + (ACT + NACT)) - (((NACT * ACT) + ACT) + log(INACT))) * INACT)) * ((((N - ACT) + (√N)) + ((ACT - N) * TOT)) - (√log(((N * (√NACT)) * (NINACT + log(NACT)))))))\n"
          ],
          "name": "stdout"
        }
      ]
    },
    {
      "cell_type": "markdown",
      "metadata": {
        "id": "bmr9dTM9XNee"
      },
      "source": [
        "## Data Visualization"
      ]
    },
    {
      "cell_type": "code",
      "metadata": {
        "id": "AFKijrhrURBP"
      },
      "source": [
        "import pygraphviz as pgv\n",
        "\n",
        "g = pgv.AGraph()\n",
        "g.add_nodes_from(nodes)\n",
        "g.add_edges_from(edges)\n",
        "g.layout(prog=\"dot\")\n",
        "\n",
        "for i in nodes:\n",
        "    n = g.get_node(i)\n",
        "    n.attr[\"label\"] = labels[i]\n",
        "\n",
        "g.draw(\"tree.pdf\")"
      ],
      "execution_count": null,
      "outputs": []
    },
    {
      "cell_type": "code",
      "metadata": {
        "id": "RYFOShj9XRIH"
      },
      "source": [
        "import matplotlib.pyplot as plt\n",
        "import networkx as nx\n",
        "\n",
        "\"\"\"g = nx.Graph()\n",
        "g.add_nodes_from(nodes)\n",
        "g.add_edges_from(edges)\n",
        "pos = nx.graphviz_layout(g, prog=\"dot\")\n",
        "\n",
        "nx.draw_networkx_nodes(g, pos)\n",
        "nx.draw_networkx_edges(g, pos)\n",
        "nx.draw_networkx_labels(g, pos, labels)\n",
        "plt.show()\"\"\"\n",
        "\n",
        "def GPTree_plot():\n",
        "  g = nx.Graph()\n",
        "  g.add_nodes_from(nodes)\n",
        "  g.add_edges_from(edges)\n",
        "  pos = nx.graphviz_layout(g, prog = \"dot\")\n",
        "\n",
        "  nx.draw_networkx_nodes(g, pos)\n",
        "  nx.draw_networkx_edges(g, pos)\n",
        "  nx.draw_networkx_labels(g, pos, labels)\n",
        "\n",
        "  plt.show()"
      ],
      "execution_count": null,
      "outputs": []
    },
    {
      "cell_type": "code",
      "metadata": {
        "id": "iWdxK-4J3eAD"
      },
      "source": [
        "###################################\n",
        "#  pyevolve only used in python 2\n",
        "#  unable used in python 3\n",
        "###################################\n",
        "\n",
        "\"\"\"!pip install pyevolve\n",
        "\n",
        "from pyevolve import GTree\n",
        "genome = GTree.GTree()\n",
        "gp_genome = GTree.GTreeGP()\"\"\""
      ],
      "execution_count": null,
      "outputs": []
    },
    {
      "cell_type": "code",
      "metadata": {
        "id": "f2VFjTRKHTj2"
      },
      "source": [
        "from scipy.stats import wilcoxon\n",
        "wilcoxon()"
      ],
      "execution_count": null,
      "outputs": []
    },
    {
      "cell_type": "code",
      "metadata": {
        "id": "5uEDhUWV3bXl"
      },
      "source": [
        "\"\"\"#Create genome\n",
        "genome = GTree.GTreeGP()\n",
        "genome.setParams(max_depth = 4, method = \"ramed\")\n",
        "genome.evaluator.set(eval_func)\"\"\""
      ],
      "execution_count": null,
      "outputs": []
    }
  ]
}